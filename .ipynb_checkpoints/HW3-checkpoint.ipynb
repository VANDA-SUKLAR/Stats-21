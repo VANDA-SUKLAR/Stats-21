{
 "cells": [
  {
   "cell_type": "markdown",
   "metadata": {},
   "source": [
    "# Stats 21 - HW 3"
   ]
  },
  {
   "cell_type": "markdown",
   "metadata": {},
   "source": [
    "Homework copyright Miles Chen. Problems have been adapted from teh exercises in Think Python 2nd Ed by Allen B. Downey.\n",
    "\n",
    "The questions have been entered into this document. You will modify the document by entering your code.\n",
    "\n",
    "Make sure you run the cell so the requested output is visible. Download the finished document as a PDF file. If you are unable to convert it to a PDF, you can download it as an HTML file and then print to PDF.\n",
    "\n",
    "**Homework is an opportunity to practice coding and to practice problem solving. Doing exercises is where you will do most of your learning.**\n",
    "\n",
    "**Copying someone else's solutions takes away your learning opportunities. It is also academic dishonesty.**"
   ]
  },
  {
   "cell_type": "markdown",
   "metadata": {},
   "source": [
    "## Reading\n",
    "\n",
    "- Chapters 11, 12, and 14\n",
    "\n",
    "Please keep up with the reading. The chapters are short."
   ]
  },
  {
   "cell_type": "markdown",
   "metadata": {},
   "source": [
    "### Exercise 11.1\n",
    "\n",
    "Write a function that reads the words in `words.txt` and stores them as keys in a dictionary. It doesn't matter what the values are. Then you can use the in operator as a fast way to\n",
    "check whether a string is in the dictionary.\n",
    "\n",
    "Use the same `words.txt` file from HW2.\n",
    "\n",
    "Do Exercise 10.10 but this time searching the dictionary using the `in` operator. You can see how much faster it is to search a dictionary."
   ]
  },
  {
   "cell_type": "code",
   "execution_count": 38,
   "metadata": {},
   "outputs": [],
   "source": [
    "def make_word_dict():\n",
    "    t =  {}\n",
    "    fin = open('words-1.txt')\n",
    "    for line in fin:\n",
    "        word = line.strip()\n",
    "        t[word] = None \n",
    "\n",
    "    return t"
   ]
  },
  {
   "cell_type": "code",
   "execution_count": 39,
   "metadata": {},
   "outputs": [],
   "source": [
    "word_dict = make_word_dict()"
   ]
  },
  {
   "cell_type": "code",
   "execution_count": 40,
   "metadata": {},
   "outputs": [
    {
     "data": {
      "text/plain": [
       "True"
      ]
     },
     "execution_count": 40,
     "metadata": {},
     "output_type": "execute_result"
    }
   ],
   "source": [
    "\"hello\" in word_dict"
   ]
  },
  {
   "cell_type": "markdown",
   "metadata": {},
   "source": [
    "### Exercise 11.4\n",
    "\n",
    "In Exercise 10.7, you created a function called `has_duplicates()`. It takes a list as a parameter and returns `True` if there is any object that appears more than once in the list.\n",
    "\n",
    "Use a dictionary to write a faster, simpler version of `has_duplicates()`."
   ]
  },
  {
   "cell_type": "code",
   "execution_count": 4,
   "metadata": {},
   "outputs": [],
   "source": [
    "def has_duplicates(x):\n",
    "    duplicates = {} \n",
    "    for i in x:\n",
    "        if i in duplicates:\n",
    "            return True \n",
    "        duplicates[i] = True  \n",
    "    return False"
   ]
  },
  {
   "cell_type": "code",
   "execution_count": 5,
   "metadata": {},
   "outputs": [
    {
     "data": {
      "text/plain": [
       "True"
      ]
     },
     "execution_count": 5,
     "metadata": {},
     "output_type": "execute_result"
    }
   ],
   "source": [
    "has_duplicates(['a','b','b','c'])"
   ]
  },
  {
   "cell_type": "code",
   "execution_count": 6,
   "metadata": {},
   "outputs": [
    {
     "data": {
      "text/plain": [
       "True"
      ]
     },
     "execution_count": 6,
     "metadata": {},
     "output_type": "execute_result"
    }
   ],
   "source": [
    "has_duplicates(['a','b','c','a'])"
   ]
  },
  {
   "cell_type": "markdown",
   "metadata": {},
   "source": [
    "### Exercise 11.5\n",
    "\n",
    "A Caesar cipher is a weak form of encryption that involves 'rotating' each letter by a fixed number of places. To rotate a letter means to shift it through the alphabet, wrapping around to the beginning if necessary. \"A\" rotated by 3 is \"D\". \"Z\" rotated by 1 is \"A\".\n",
    "\n",
    "Two words are \"rotate pairs\" if you can rotate one of them and get the other. For example, \"cheer\" rotated by 7 is \"jolly\".\n",
    "\n",
    "Write a script that reads in the wordlist `words.txt` and finds all the rotate pairs of words that are 5 letters or longer.\n",
    "\n",
    "One function that could be helpful is the function `ord()` which converts a character to a numeric code. Keep in mind that numeric codes for uppercase and lowercase letters are different.\n",
    "\n",
    "Some hints:\n",
    "\n",
    "- you can write helper functions, such as a function that will rotate a letter by a certain number and/or another function that will rotate a word by a number of letters\n",
    "- to keep your script running quickly, you should use the wordlist dictionary from exercise 11.1"
   ]
  },
  {
   "cell_type": "code",
   "execution_count": 60,
   "metadata": {},
   "outputs": [
    {
     "name": "stdout",
     "output_type": "stream",
     "text": [
      "abjurer, 13, nowhere\n",
      "adder, 1, beefs\n",
      "ahull, 6, gnarr\n",
      "alkyd, 4, epoch\n",
      "alula, 19, tenet\n",
      "ambit, 18, setal\n",
      "anteed, 1, bouffe\n",
      "aptly, 19, timer\n",
      "arena, 17, river\n",
      "baiza, 18, tsars\n",
      "banjo, 4, ferns\n",
      "beefs, 25, adder\n",
      "benni, 16, ruddy\n",
      "biffs, 6, holly\n",
      "bolls, 6, hurry\n",
      "bombyx, 6, hushed\n",
      "bouffe, 25, anteed\n",
      "bourg, 20, viola\n",
      "buffi, 6, hallo\n",
      "bulls, 6, harry\n",
      "bunny, 17, sleep\n",
      "butyl, 6, hazer\n",
      "chain, 6, ingot\n",
      "cheer, 7, jolly\n",
      "clasp, 15, raphe\n",
      "cogon, 16, sewed\n",
      "commy, 16, secco\n",
      "corky, 20, wiles\n",
      "craal, 13, penny\n",
      "credo, 16, shute\n",
      "creel, 13, perry\n",
      "cubed, 10, melon\n",
      "curly, 20, wolfs\n",
      "cushy, 20, wombs\n",
      "danio, 4, herms\n",
      "dated, 15, spits\n",
      "dawted, 15, splits\n",
      "dazed, 15, spots\n",
      "didos, 12, pupae\n",
      "dolls, 19, wheel\n",
      "drips, 11, octad\n",
      "ebony, 16, uredo\n",
      "eches, 6, kinky\n",
      "epoch, 22, alkyd\n",
      "fadge, 14, torus\n",
      "fagot, 14, touch\n",
      "ferns, 22, banjo\n",
      "fills, 6, lorry\n",
      "fizzy, 5, kneed\n",
      "frena, 17, wiver\n",
      "frere, 13, serer\n",
      "fusion, 6, layout\n",
      "ganja, 4, kerne\n",
      "gassy, 12, smeek\n",
      "ginny, 6, motte\n",
      "gnarl, 17, xeric\n",
      "gnarr, 20, ahull\n",
      "golem, 6, murks\n",
      "golly, 6, murre\n",
      "green, 13, terra\n",
      "gulfs, 6, marly\n",
      "gulls, 6, marry\n",
      "gummy, 6, masse\n",
      "gunny, 6, matte\n",
      "hallo, 20, buffi\n",
      "harry, 20, bulls\n",
      "hazer, 20, butyl\n",
      "herms, 22, danio\n",
      "hints, 11, styed\n",
      "hoggs, 12, tasse\n",
      "holly, 20, biffs\n",
      "hotel, 7, ovals\n",
      "hurry, 20, bolls\n",
      "hushed, 20, bombyx\n",
      "ingot, 20, chain\n",
      "inkier, 7, purply\n",
      "jerky, 9, snath\n",
      "jiffs, 6, polly\n",
      "jimmy, 6, posse\n",
      "jinni, 6, potto\n",
      "jinns, 6, potty\n",
      "johns, 6, punty\n",
      "jolly, 19, cheer\n",
      "kerne, 22, ganja\n",
      "kinky, 20, eches\n",
      "kneed, 21, fizzy\n",
      "lallan, 4, pepper\n",
      "later, 7, shaly\n",
      "latex, 7, shale\n",
      "layout, 20, fusion\n",
      "linum, 6, rotas\n",
      "lorry, 20, fills\n",
      "luffs, 6, rally\n",
      "lutea, 4, pyxie\n",
      "manful, 7, thumbs\n",
      "marly, 20, gulfs\n",
      "marry, 20, gulls\n",
      "masse, 20, gummy\n",
      "matte, 20, gunny\n",
      "melon, 16, cubed\n",
      "mills, 6, sorry\n",
      "mocha, 6, suing\n",
      "molas, 6, surgy\n",
      "motte, 20, ginny\n",
      "muffs, 6, sally\n",
      "mulch, 6, sarin\n",
      "mumms, 6, sassy\n",
      "munch, 6, satin\n",
      "murks, 20, golem\n",
      "murre, 20, golly\n",
      "muumuu, 10, weewee\n",
      "noggs, 6, tummy\n",
      "nowhere, 13, abjurer\n",
      "nulls, 6, tarry\n",
      "nutty, 6, tazze\n",
      "octad, 15, drips\n",
      "ovals, 19, hotel\n",
      "oxter, 7, vealy\n",
      "pecan, 4, tiger\n",
      "penny, 13, craal\n",
      "pepper, 22, lallan\n",
      "perry, 13, creel\n",
      "polly, 20, jiffs\n",
      "posse, 20, jimmy\n",
      "potto, 20, jinni\n",
      "potty, 20, jinns\n",
      "primero, 3, sulphur\n",
      "pulpy, 6, varve\n",
      "punty, 20, johns\n",
      "pupae, 14, didos\n",
      "purply, 19, inkier\n",
      "pyxie, 22, lutea\n",
      "rally, 20, luffs\n",
      "raphe, 11, clasp\n",
      "ratan, 4, vexer\n",
      "river, 9, arena\n",
      "rotas, 20, linum\n",
      "ruddy, 10, benni\n",
      "sally, 20, muffs\n",
      "sarin, 20, mulch\n",
      "sassy, 20, mumms\n",
      "satin, 20, munch\n",
      "secco, 10, commy\n",
      "serer, 13, frere\n",
      "setal, 8, ambit\n",
      "sewed, 10, cogon\n",
      "shale, 19, latex\n",
      "shaly, 19, later\n",
      "sheer, 1, tiffs\n",
      "shute, 10, credo\n",
      "sleep, 9, bunny\n",
      "smeek, 14, gassy\n",
      "snath, 17, jerky\n",
      "sneer, 1, toffs\n",
      "sorry, 20, mills\n",
      "spits, 11, dated\n",
      "splits, 11, dawted\n",
      "spots, 11, dazed\n",
      "steeds, 1, tuffet\n",
      "steer, 1, tuffs\n",
      "styed, 15, hints\n",
      "suing, 20, mocha\n",
      "sulphur, 23, primero\n",
      "surgy, 20, molas\n",
      "tarry, 20, nulls\n",
      "tasse, 14, hoggs\n",
      "tazze, 20, nutty\n",
      "teloi, 3, whorl\n",
      "tenet, 7, alula\n",
      "terra, 13, green\n",
      "thumbs, 19, manful\n",
      "tiffs, 25, sheer\n",
      "tiger, 22, pecan\n",
      "timer, 7, aptly\n",
      "toffs, 25, sneer\n",
      "torus, 12, fadge\n",
      "touch, 12, fagot\n",
      "tsars, 8, baiza\n",
      "tuffet, 25, steeds\n",
      "tuffs, 25, steer\n",
      "tummy, 20, noggs\n",
      "uredo, 10, ebony\n",
      "varve, 20, pulpy\n",
      "vealy, 19, oxter\n",
      "vexer, 22, ratan\n",
      "viola, 6, bourg\n",
      "weewee, 16, muumuu\n",
      "wheel, 7, dolls\n",
      "whorl, 23, teloi\n",
      "wiles, 6, corky\n",
      "wiver, 9, frena\n",
      "wolfs, 6, curly\n",
      "wombs, 6, cushy\n",
      "xeric, 9, gnarl\n"
     ]
    }
   ],
   "source": [
    "def make_word_dict():\n",
    "    t = {}\n",
    "    fin = open('words-1.txt')\n",
    "    for line in fin:\n",
    "            word = line.strip()\n",
    "            if len(word) >= 5:\n",
    "                t[word] = None \n",
    "    return t\n",
    "\n",
    "def rotate_word(word, n):\n",
    "    rotated_word = \"\"\n",
    "    for char in word:\n",
    "        if 'a' <= char <= 'z':\n",
    "            rotated_word += chr((ord(char) - ord('a') + n) % 26 + ord('a'))\n",
    "        elif 'A' <= char <= 'Z':\n",
    "            rotated_word += chr((ord(char) - ord('A') + n) % 26 + ord('A'))\n",
    "        else:\n",
    "            rotated_word += char\n",
    "    return rotated_word\n",
    "\n",
    "def find_pairs(word_dict):\n",
    "    word_pairs = []\n",
    "    for word in word_dict:\n",
    "        for n in range(1, 26): \n",
    "            rotated = rotate_word(word, n)\n",
    "            if rotated in word_dict:\n",
    "                word_pairs.append((word, rotated, n))\n",
    "    return word_pairs\n",
    "\n",
    "word_dict = make_word_dict()\n",
    "word_pairs = find_pairs(word_dict)\n",
    "\n",
    "for word, rotated, n in word_pairs:\n",
    "    print(f'{word}, {n}, {rotated}')\n"
   ]
  },
  {
   "cell_type": "markdown",
   "metadata": {},
   "source": [
    "### Exercise 12.2\n",
    "\n",
    "Write a program that reads a word list from a file (see Section 9.1) and finds all the sets of words that are anagrams.\n",
    "\n",
    "After finding all anagram sets, print the list of all anagram sets that have 6 or more entries in it.\n",
    "\n",
    "Here is an example of what the output might look like:\n",
    "\n",
    "~~~\n",
    "['abets', 'baste', 'bates', 'beast', 'beats', 'betas', 'tabes']\n",
    "['acers', 'acres', 'cares', 'carse', 'escar', 'races', 'scare', 'serac']\n",
    "['acred', 'arced', 'cadre', 'cared', 'cedar', 'raced']\n",
    "...\n",
    "~~~\n",
    "\n",
    "Hint:\n",
    "\n",
    "First traverse the entire wordlist to build a dictionary that maps from a collection of letters to a list of words that can be spelled with those letters. The question is, how can you represent the collection of letters in a way that can be used as a key? i.e. The word \"eat\" and the word \"tea\" should be in a list associated with a key ('a','e','t')."
   ]
  },
  {
   "cell_type": "code",
   "execution_count": 48,
   "metadata": {},
   "outputs": [
    {
     "name": "stdout",
     "output_type": "stream",
     "text": [
      "['abets', 'baste', 'bates', 'beast', 'beats', 'betas', 'tabes']\n",
      "['acers', 'acres', 'cares', 'carse', 'escar', 'races', 'scare', 'serac']\n",
      "['acred', 'arced', 'cadre', 'cared', 'cedar', 'raced']\n",
      "['aiders', 'deairs', 'irades', 'raised', 'redias', 'resaid']\n",
      "['airts', 'astir', 'sitar', 'stair', 'stria', 'tarsi']\n",
      "['alert', 'alter', 'artel', 'later', 'ratel', 'taler']\n",
      "['alerting', 'altering', 'integral', 'relating', 'tanglier', 'triangle']\n",
      "['alerts', 'alters', 'artels', 'estral', 'laster', 'ratels', 'salter', 'slater', 'staler', 'stelar', 'talers']\n",
      "['alevin', 'alvine', 'valine', 'veinal', 'venial', 'vineal']\n",
      "['algins', 'aligns', 'lasing', 'liangs', 'ligans', 'lingas', 'signal']\n",
      "['aliens', 'alines', 'elains', 'lianes', 'saline', 'silane']\n",
      "['aligners', 'engrails', 'nargiles', 'realigns', 'signaler', 'slangier']\n",
      "['amens', 'manes', 'manse', 'means', 'mensa', 'names', 'nemas']\n",
      "['anestri', 'nastier', 'ratines', 'retains', 'retinas', 'retsina', 'stainer', 'stearin']\n",
      "['angriest', 'astringe', 'ganister', 'gantries', 'granites', 'ingrates', 'rangiest']\n",
      "['apers', 'asper', 'pares', 'parse', 'pears', 'prase', 'presa', 'rapes', 'reaps', 'spare', 'spear']\n",
      "['ardeb', 'barde', 'bared', 'beard', 'bread', 'debar']\n",
      "['ardebs', 'bardes', 'beards', 'breads', 'debars', 'sabred', 'serdab']\n",
      "['ares', 'arse', 'ears', 'eras', 'rase', 'sear', 'sera']\n",
      "['aretes', 'easter', 'eaters', 'reseat', 'seater', 'teaser']\n",
      "['aridest', 'astride', 'diaster', 'disrate', 'staider', 'tardies', 'tirades']\n",
      "['aril', 'lair', 'liar', 'lira', 'rail', 'rial']\n",
      "['ariled', 'derail', 'dialer', 'laired', 'railed', 'redial', 'relaid']\n",
      "['arils', 'lairs', 'liars', 'liras', 'rails', 'rials']\n",
      "['arles', 'earls', 'lares', 'laser', 'lears', 'rales', 'reals', 'seral']\n",
      "['armets', 'master', 'maters', 'matres', 'ramets', 'stream', 'tamers']\n",
      "['arrest', 'rarest', 'raster', 'raters', 'starer', 'tarres', 'terras']\n",
      "['artiest', 'artiste', 'attires', 'iratest', 'ratites', 'striate', 'tastier']\n",
      "['ashed', 'deash', 'hades', 'heads', 'sadhe', 'shade']\n",
      "['aspen', 'napes', 'neaps', 'panes', 'peans', 'sneap', 'spean']\n",
      "['aspers', 'parses', 'passer', 'prases', 'repass', 'spares', 'sparse', 'spears']\n",
      "['aspirer', 'parries', 'praiser', 'rapiers', 'raspier', 'repairs']\n",
      "['ates', 'east', 'eats', 'etas', 'sate', 'seat', 'seta', 'teas']\n",
      "['bares', 'baser', 'bears', 'braes', 'saber', 'sabre']\n",
      "['canter', 'centra', 'nectar', 'recant', 'tanrec', 'trance']\n",
      "['canters', 'nectars', 'recants', 'scanter', 'tanrecs', 'trances']\n",
      "['capers', 'crapes', 'escarp', 'pacers', 'parsec', 'recaps', 'scrape', 'secpar', 'spacer']\n",
      "['caress', 'carses', 'crases', 'escars', 'scares', 'seracs']\n",
      "['caret', 'carte', 'cater', 'crate', 'react', 'recta', 'trace']\n",
      "['carets', 'cartes', 'caster', 'caters', 'crates', 'reacts', 'recast', 'traces']\n",
      "['carpels', 'clasper', 'parcels', 'placers', 'reclasp', 'scalper']\n",
      "['claroes', 'coalers', 'escolar', 'oracles', 'recoals', 'solacer']\n",
      "['corset', 'coster', 'escort', 'rectos', 'scoter', 'sector']\n",
      "['cruet', 'curet', 'cuter', 'eruct', 'recut', 'truce']\n",
      "['cruets', 'cruset', 'curets', 'eructs', 'rectus', 'recuts', 'truces']\n",
      "['dater', 'derat', 'rated', 'tared', 'trade', 'tread']\n",
      "['dearths', 'hardest', 'hardset', 'hatreds', 'threads', 'trashed']\n",
      "['deers', 'drees', 'redes', 'reeds', 'seder', 'sered']\n",
      "['deils', 'delis', 'idles', 'isled', 'sidle', 'slide']\n",
      "['deist', 'diets', 'dites', 'edits', 'sited', 'stied', 'tides']\n",
      "['deltas', 'desalt', 'lasted', 'salted', 'slated', 'staled']\n",
      "['deposit', 'dopiest', 'podites', 'posited', 'sopited', 'topside']\n",
      "['diols', 'idols', 'lidos', 'sloid', 'soldi', 'solid']\n",
      "['drapes', 'padres', 'parsed', 'rasped', 'spader', 'spared', 'spread']\n",
      "['earings', 'erasing', 'gainers', 'reagins', 'regains', 'reginas', 'searing', 'seringa']\n",
      "['easters', 'reseats', 'searest', 'seaters', 'teasers', 'tessera']\n",
      "['easting', 'eatings', 'ingates', 'ingesta', 'seating', 'teasing']\n",
      "['elastin', 'entails', 'nailset', 'salient', 'saltine', 'tenails']\n",
      "['emits', 'items', 'metis', 'mites', 'smite', 'stime', 'times']\n",
      "['empires', 'emprise', 'epimers', 'imprese', 'premies', 'premise', 'spireme']\n",
      "['enosis', 'eosins', 'essoin', 'noesis', 'noises', 'ossein', 'sonsie']\n",
      "['enters', 'nester', 'rentes', 'resent', 'tenser', 'ternes']\n",
      "['esprit', 'priest', 'ripest', 'sprite', 'stripe', 'tripes']\n",
      "['esprits', 'persist', 'priests', 'spriest', 'sprites', 'stirpes', 'stripes']\n",
      "['ester', 'reest', 'reset', 'steer', 'stere', 'terse', 'trees']\n",
      "['esters', 'reests', 'resets', 'serest', 'steers', 'steres']\n",
      "['estrange', 'grantees', 'greatens', 'negaters', 'reagents', 'sergeant']\n",
      "['estrin', 'inerts', 'insert', 'inters', 'niters', 'nitres', 'sinter', 'triens', 'trines']\n",
      "['estrous', 'oestrus', 'ousters', 'sourest', 'souters', 'stoures', 'tussore']\n",
      "['eviler', 'levier', 'liever', 'relive', 'revile', 'veiler']\n",
      "['hales', 'heals', 'leash', 'selah', 'shale', 'sheal']\n",
      "['hassel', 'hassle', 'lashes', 'selahs', 'shales', 'sheals']\n",
      "['hectors', 'rochets', 'rotches', 'tochers', 'torches', 'troches']\n",
      "['lapse', 'leaps', 'pales', 'peals', 'pleas', 'salep', 'sepal', 'spale']\n",
      "['lavers', 'ravels', 'salver', 'serval', 'slaver', 'velars', 'versal']\n",
      "['laves', 'salve', 'slave', 'vales', 'valse', 'veals']\n",
      "['leapt', 'lepta', 'palet', 'petal', 'plate', 'pleat']\n",
      "['least', 'setal', 'slate', 'stale', 'steal', 'stela', 'taels', 'tales', 'teals', 'tesla']\n",
      "['leasts', 'slates', 'stales', 'steals', 'tassel', 'teslas']\n",
      "['luster', 'lustre', 'result', 'rustle', 'sutler', 'ulster']\n",
      "['lusters', 'lustres', 'results', 'rustles', 'sutlers', 'ulsters']\n",
      "['mates', 'meats', 'satem', 'steam', 'tames', 'teams']\n",
      "['merits', 'mister', 'miters', 'mitres', 'remits', 'smiter', 'timers']\n",
      "['nestor', 'noters', 'stoner', 'tenors', 'tensor', 'toners', 'trones']\n",
      "['notes', 'onset', 'seton', 'steno', 'stone', 'tones']\n",
      "['opts', 'post', 'pots', 'spot', 'stop', 'tops']\n",
      "['painters', 'pantries', 'pertains', 'pinaster', 'pristane', 'repaints']\n",
      "['palest', 'palets', 'pastel', 'petals', 'plates', 'pleats', 'septal', 'staple']\n",
      "['palters', 'persalt', 'plaster', 'platers', 'psalter', 'stapler']\n",
      "['parties', 'pastier', 'piaster', 'piastre', 'pirates', 'traipse']\n",
      "['parts', 'prats', 'sprat', 'strap', 'tarps', 'traps']\n",
      "['paste', 'pates', 'peats', 'septa', 'spate', 'tapes', 'tepas']\n",
      "['paster', 'paters', 'prates', 'repast', 'tapers', 'trapes']\n",
      "['peers', 'peres', 'perse', 'prees', 'prese', 'speer', 'spree']\n",
      "['peris', 'piers', 'pries', 'prise', 'ripes', 'speir', 'spier', 'spire']\n",
      "['petrous', 'posture', 'pouters', 'proteus', 'spouter', 'troupes']\n",
      "['piles', 'plies', 'slipe', 'speil', 'spiel', 'spile']\n",
      "['realist', 'retails', 'saltier', 'saltire', 'slatier', 'tailers']\n",
      "['recepts', 'respect', 'scepter', 'sceptre', 'specter', 'spectre']\n",
      "['reigns', 'renigs', 'resign', 'sering', 'signer', 'singer']\n",
      "['reins', 'resin', 'rinse', 'risen', 'serin', 'siren']\n",
      "['resaw', 'sawer', 'sewar', 'sware', 'swear', 'wares', 'wears']\n",
      "['staw', 'swat', 'taws', 'twas', 'wast', 'wats']\n",
      "['stow', 'swot', 'tows', 'twos', 'wost', 'wots']\n"
     ]
    }
   ],
   "source": [
    "fin = open('words-1.txt')\n",
    "for line in fin:\n",
    "    word = line.strip()\n",
    "\n",
    "def find_anagrams(word_list, size=6):\n",
    "    anagrams = {}\n",
    "    for word in word_list:\n",
    "        sorted_word = tuple(sorted(word))\n",
    "        if sorted_word in anagrams:\n",
    "            anagrams[sorted_word].append(word)\n",
    "        else:\n",
    "            anagrams[sorted_word] = [word]\n",
    "\n",
    "    for words in anagrams.values():\n",
    "        if len(words) >= size:\n",
    "            print(words)\n",
    "\n",
    "\n",
    "find_anagrams(word_list)\n"
   ]
  },
  {
   "cell_type": "markdown",
   "metadata": {},
   "source": [
    "### NumPy Exercises\n",
    "\n",
    "For the following exercises, be sure to print the desired output. You will not receive credit for problems that do not print the desired output.\n",
    "\n",
    "Some of these exercises will require the use of functions in numpy that may not have been covered in class. Look up documentation on how to use them. I always recommend checking the official reference at https://numpy.org/doc/stable/reference/index.html "
   ]
  },
  {
   "cell_type": "code",
   "execution_count": 62,
   "metadata": {},
   "outputs": [],
   "source": [
    "import numpy as np\n",
    "np.random.seed(1)"
   ]
  },
  {
   "cell_type": "markdown",
   "metadata": {},
   "source": [
    "#### Exercise NP.1:\n",
    "\n",
    "Task: Create an array `b` of 10 random integers selected between 0-99\n",
    "\n",
    "Desired output: `[37 12 72  9 75  5 79 64 16  1]` of course yours might be different"
   ]
  },
  {
   "cell_type": "code",
   "execution_count": 63,
   "metadata": {},
   "outputs": [
    {
     "name": "stdout",
     "output_type": "stream",
     "text": [
      "[37 12 72  9 75  5 79 64 16  1]\n"
     ]
    }
   ],
   "source": [
    "b = np.random.randint(0, 100, size=10)\n",
    "print(b)"
   ]
  },
  {
   "cell_type": "markdown",
   "metadata": {},
   "source": [
    "#### NP.1b:\n",
    "\n",
    "Task: reverse the elements in `b`. Hint: Try slicing the array, but backwards\n",
    "\n",
    "Desired output: `[ 1 16 64 79  5 75  9 72 12 37]` yours will be different"
   ]
  },
  {
   "cell_type": "code",
   "execution_count": 64,
   "metadata": {},
   "outputs": [
    {
     "name": "stdout",
     "output_type": "stream",
     "text": [
      "[ 1 16 64 79  5 75  9 72 12 37]\n"
     ]
    }
   ],
   "source": [
    "b_reversed = b[::-1]\n",
    "print(b_reversed)"
   ]
  },
  {
   "cell_type": "markdown",
   "metadata": {},
   "source": [
    "#### NP.2a:\n",
    "\n",
    "Task: Create an array `c` of 1000 random values selected from a normal distribution centered at 100 with sd = 15, rounded to 1 decimal place. Print only the first 10 values.\n",
    "\n",
    "Desired output: `[ 92.1  83.9 113.   65.5 126.2  88.6 104.8  96.3 121.9  69.1]` of course your values may be different"
   ]
  },
  {
   "cell_type": "code",
   "execution_count": 65,
   "metadata": {},
   "outputs": [
    {
     "name": "stdout",
     "output_type": "stream",
     "text": [
      "[ 92.1  83.9 113.   65.5 126.2  88.6 104.8  96.3 121.9  69.1]\n"
     ]
    }
   ],
   "source": [
    "c = np.random.normal(100, 15, 1000)\n",
    "c = np.round(c, 1)\n",
    "print(c[:10])"
   ]
  },
  {
   "cell_type": "markdown",
   "metadata": {},
   "source": [
    "#### NP.2b:\n",
    "\n",
    "Perform a Shapiro-Wilk test to see if the values in c come from a normal distribution. Report the p-value and appropriate conclusion.\n",
    "\n",
    "Look up `scipy.stats.shapiro` for usage and details.\n",
    "\n",
    "https://docs.scipy.org/doc/scipy/reference/generated/scipy.stats.shapiro.html"
   ]
  },
  {
   "cell_type": "code",
   "execution_count": 70,
   "metadata": {},
   "outputs": [
    {
     "name": "stdout",
     "output_type": "stream",
     "text": [
      "p-value: 0.17958413064479828\n",
      "Since the p value is more than 0.05, so the data likely comes from a normal distribution. \n"
     ]
    }
   ],
   "source": [
    "from scipy import stats\n",
    "shapiro_test = stats.shapiro(c)\n",
    "print(\"p-value:\", shapiro_test.pvalue)\n",
    "\n",
    "print(\"Since the p value is more than 0.05, so the data likely comes from a normal distribution. \")"
   ]
  },
  {
   "cell_type": "markdown",
   "metadata": {},
   "source": [
    "#### NP.2c:\n",
    "\n",
    "Identify and print the values in `c` that are more than 3 standard deviations from the mean of `c`. Report the proportion of values that are more than 3 sd from the mean.\n",
    "\n",
    "Desired output: `[ 54.1 ... 148.3 ]`\n",
    "\n",
    "`0.32 of the values are beyond 3 sd from the mean.`"
   ]
  },
  {
   "cell_type": "code",
   "execution_count": 88,
   "metadata": {},
   "outputs": [
    {
     "name": "stdout",
     "output_type": "stream",
     "text": [
      "[145.5 159.4 149.8  54.2]\n",
      "0.00 of the values are beyond 3 sd from the mean.\n"
     ]
    }
   ],
   "source": [
    "mean_c = np.mean(c)\n",
    "std_c = np.std(c)\n",
    "num = 3 * std_c\n",
    "\n",
    "values = c[(c < mean_c - num) | (c > mean_c + num)]\n",
    "proportion_extreme = len(values) / len(c)\n",
    "\n",
    "print(values)\n",
    "print(f\"{proportion_extreme:.2f} of the values are beyond 3 sd from the mean.\")\n"
   ]
  },
  {
   "cell_type": "markdown",
   "metadata": {},
   "source": [
    "#### NP.3:\n",
    "\n",
    "Task: Make a 3x3 identity matrix called `I3`\n",
    "\n",
    "Desired output: \n",
    "\n",
    "~~~\n",
    "[[1. 0. 0.]\n",
    " [0. 1. 0.]\n",
    " [0. 0. 1.]]\n",
    "~~~"
   ]
  },
  {
   "cell_type": "code",
   "execution_count": 72,
   "metadata": {},
   "outputs": [
    {
     "name": "stdout",
     "output_type": "stream",
     "text": [
      "[[1. 0. 0.]\n",
      " [0. 1. 0.]\n",
      " [0. 0. 1.]]\n"
     ]
    }
   ],
   "source": [
    "I3 = np.eye(3)\n",
    "print(I3)"
   ]
  },
  {
   "cell_type": "markdown",
   "metadata": {},
   "source": [
    "#### NP.4a:\n",
    "\n",
    "Task: Make a 10x10 array of values 1 to 100. Call it X\n",
    "\n",
    "Desired output: \n",
    "\n",
    "~~~\n",
    "[[  1   2   3   4   5   6   7   8   9  10]\n",
    " [ 11  12  13  14  15  16  17  18  19  20]\n",
    " [ 21  22  23  24  25  26  27  28  29  30]\n",
    " [ 31  32  33  34  35  36  37  38  39  40]\n",
    " [ 41  42  43  44  45  46  47  48  49  50]\n",
    " [ 51  52  53  54  55  56  57  58  59  60]\n",
    " [ 61  62  63  64  65  66  67  68  69  70]\n",
    " [ 71  72  73  74  75  76  77  78  79  80]\n",
    " [ 81  82  83  84  85  86  87  88  89  90]\n",
    " [ 91  92  93  94  95  96  97  98  99 100]]\n",
    " ~~~"
   ]
  },
  {
   "cell_type": "code",
   "execution_count": 74,
   "metadata": {},
   "outputs": [
    {
     "name": "stdout",
     "output_type": "stream",
     "text": [
      "[[  1   2   3   4   5   6   7   8   9  10]\n",
      " [ 11  12  13  14  15  16  17  18  19  20]\n",
      " [ 21  22  23  24  25  26  27  28  29  30]\n",
      " [ 31  32  33  34  35  36  37  38  39  40]\n",
      " [ 41  42  43  44  45  46  47  48  49  50]\n",
      " [ 51  52  53  54  55  56  57  58  59  60]\n",
      " [ 61  62  63  64  65  66  67  68  69  70]\n",
      " [ 71  72  73  74  75  76  77  78  79  80]\n",
      " [ 81  82  83  84  85  86  87  88  89  90]\n",
      " [ 91  92  93  94  95  96  97  98  99 100]]\n"
     ]
    }
   ],
   "source": [
    "X = np.arange(1, 101).reshape(10, 10)\n",
    "print(X)"
   ]
  },
  {
   "cell_type": "markdown",
   "metadata": {},
   "source": [
    "#### NP.4b:\n",
    "\n",
    "Task: Make a copy of X, call it Y (1 line). Replace all values in Y that are not squares with 0 (1 line). see `numpy.isin()`\n",
    "\n",
    "Desired output: \n",
    "\n",
    "~~~\n",
    "[[  1   0   0   4   0   0   0   0   9   0]\n",
    " [  0   0   0   0   0  16   0   0   0   0]\n",
    " [  0   0   0   0  25   0   0   0   0   0]\n",
    "...\n",
    " [  0   0   0   0   0   0   0   0   0 100]]\n",
    " ~~~"
   ]
  },
  {
   "cell_type": "code",
   "execution_count": 75,
   "metadata": {},
   "outputs": [
    {
     "name": "stdout",
     "output_type": "stream",
     "text": [
      "[[  1   0   0   4   0   0   0   0   9   0]\n",
      " [  0   0   0   0   0  16   0   0   0   0]\n",
      " [  0   0   0   0  25   0   0   0   0   0]\n",
      " [  0   0   0   0   0  36   0   0   0   0]\n",
      " [  0   0   0   0   0   0   0   0  49   0]\n",
      " [  0   0   0   0   0   0   0   0   0   0]\n",
      " [  0   0   0  64   0   0   0   0   0   0]\n",
      " [  0   0   0   0   0   0   0   0   0   0]\n",
      " [ 81   0   0   0   0   0   0   0   0   0]\n",
      " [  0   0   0   0   0   0   0   0   0 100]]\n"
     ]
    }
   ],
   "source": [
    "Y = X.copy()\n",
    "squares = np.array([i**2 for i in range(1, 11)])\n",
    "Y[~np.isin(Y, squares)] = 0\n",
    "print(Y)"
   ]
  },
  {
   "cell_type": "markdown",
   "metadata": {},
   "source": [
    "#### NP.5:\n",
    "\n",
    "Task: Use `np.tile()` to tile a 2x2 diagonal matrix of integers to make a checkerboard pattern. Call the matrix `checkers`\n",
    "\n",
    "Desired output: \n",
    "\n",
    "~~~\n",
    "[[1 0 1 0 1 0 1 0]\n",
    " [0 1 0 1 0 1 0 1]\n",
    " ...\n",
    " [1 0 1 0 1 0 1 0]\n",
    " [0 1 0 1 0 1 0 1]]\n",
    " ~~~"
   ]
  },
  {
   "cell_type": "code",
   "execution_count": 78,
   "metadata": {},
   "outputs": [
    {
     "name": "stdout",
     "output_type": "stream",
     "text": [
      "[[1 0 1 0 1 0 1 0]\n",
      " [0 1 0 1 0 1 0 1]\n",
      " [1 0 1 0 1 0 1 0]\n",
      " [0 1 0 1 0 1 0 1]\n",
      " [1 0 1 0 1 0 1 0]\n",
      " [0 1 0 1 0 1 0 1]\n",
      " [1 0 1 0 1 0 1 0]\n",
      " [0 1 0 1 0 1 0 1]]\n"
     ]
    }
   ],
   "source": [
    "diagonal_matrix = np.array([[1, 0], [0, 1]])\n",
    "checkers = np.tile(diagonal_matrix, (4, 4))\n",
    "print(checkers)"
   ]
  },
  {
   "cell_type": "markdown",
   "metadata": {},
   "source": [
    "#### NP.6:\n",
    "\n",
    "Task: convert the values in `f_temp` from Farenheit to celsius. The conversion is subtract 32, then multiply by 5/9. Round to 1 decimal place.\n",
    "\n",
    "Desired output: \n",
    "\n",
    "~~~\n",
    "[[21.1 21.7 22.2 22.8 23.3 23.9]\n",
    " ...\n",
    " [34.4 35.  35.6 36.1 36.7 37.2]]\n",
    "~~~"
   ]
  },
  {
   "cell_type": "code",
   "execution_count": 79,
   "metadata": {},
   "outputs": [
    {
     "name": "stdout",
     "output_type": "stream",
     "text": [
      "[[21.1 21.7 22.2 22.8 23.3 23.9]\n",
      " [24.4 25.  25.6 26.1 26.7 27.2]\n",
      " [27.8 28.3 28.9 29.4 30.  30.6]\n",
      " [31.1 31.7 32.2 32.8 33.3 33.9]\n",
      " [34.4 35.  35.6 36.1 36.7 37.2]]\n"
     ]
    }
   ],
   "source": [
    "# do not modify\n",
    "f_temp  = np.arange(70,100).reshape((5,6))\n",
    "\n",
    "c_temp = np.round((f_temp - 32) * 5/9, 1)\n",
    "print(c_temp)\n"
   ]
  },
  {
   "cell_type": "markdown",
   "metadata": {},
   "source": [
    "#### NP.7:\n",
    "\n",
    "Task: Convert values in the matrix `x` into z-scores by column, call it matrix `z`. That is: each column should have a mean of 0 and std of 1. (subtract the column mean, and divide by the column std). (not required, but see if you can do this in one line)\n",
    "\n",
    "Print the column means and column std to show that they have been standardized.\n",
    "\n",
    "Desired output: \n",
    "\n",
    "~~~\n",
    "[[-1.09996745 -0.47901666  0.8816739 ]\n",
    " [ 0.9495002   1.18844641  0.11324252]\n",
    "...\n",
    " [-0.60705751 -1.08536687 -0.57430135]\n",
    " [-1.28156585 -0.81250928  1.52877401]]\n",
    " \n",
    " [ 6.66133815e-17  1.11022302e-16 -1.11022302e-16]\n",
    "[1. 1. 1.]\n",
    "~~~"
   ]
  },
  {
   "cell_type": "code",
   "execution_count": 80,
   "metadata": {},
   "outputs": [],
   "source": [
    "# do not modify\n",
    "np.random.seed(100)\n",
    "x = np.random.randint(100,size = 30).reshape(10,3)"
   ]
  },
  {
   "cell_type": "code",
   "execution_count": 83,
   "metadata": {},
   "outputs": [
    {
     "name": "stdout",
     "output_type": "stream",
     "text": [
      "[[-1.09996745 -0.47901666  0.8816739 ]\n",
      " [ 0.9495002   1.18844641  0.11324252]\n",
      " [-1.04808219  1.64320907  0.27501755]\n",
      " [ 1.23486912  0.40019114  0.84123014]\n",
      " [ 1.23486912 -0.78219177 -0.45297008]\n",
      " [-0.68488539 -0.75187426  0.5985676 ]\n",
      " [ 0.19716398 -0.72155675 -1.46406399]\n",
      " [ 1.10515598  1.40066898 -1.74717029]\n",
      " [-0.60705751 -1.08536687 -0.57430135]\n",
      " [-1.28156585 -0.81250928  1.52877401]]\n"
     ]
    }
   ],
   "source": [
    "z = (x - x.mean(axis=0)) / x.std(axis=0)\n",
    "print(z)"
   ]
  },
  {
   "cell_type": "code",
   "execution_count": 84,
   "metadata": {},
   "outputs": [
    {
     "name": "stdout",
     "output_type": "stream",
     "text": [
      "[ 4.44089210e-17  1.11022302e-16 -1.11022302e-16]\n",
      "[1. 1. 1.]\n"
     ]
    }
   ],
   "source": [
    "print(z.mean(axis=0))\n",
    "print(z.std(axis=0))"
   ]
  },
  {
   "cell_type": "markdown",
   "metadata": {},
   "source": [
    "#### NP.8:\n",
    "\n",
    "Task: Convert values in the matrix `x` into scaled values from 0 to 10. That is take each column and scale values linearly so that the largest value is 10, and the smallest value in the column is 0. Round results to 2 decimal places. Call the result `y`\n",
    "\n",
    "(Not required, but see if you can do the calculations in one line.)\n",
    "\n",
    "Desired output: \n",
    "\n",
    "~~~\n",
    "[[ 0.72  2.22  8.02]\n",
    " [ 8.87  8.33  5.68]\n",
    "...\n",
    " [ 2.68  0.    3.58]\n",
    " [ 0.    1.   10.  ]]\n",
    " ~~~"
   ]
  },
  {
   "cell_type": "code",
   "execution_count": 85,
   "metadata": {},
   "outputs": [],
   "source": [
    "# do not modify\n",
    "np.random.seed(100)\n",
    "x = np.random.randint(100,size = 30).reshape(10,3)"
   ]
  },
  {
   "cell_type": "code",
   "execution_count": 86,
   "metadata": {},
   "outputs": [
    {
     "name": "stdout",
     "output_type": "stream",
     "text": [
      "[[ 0.72  2.22  8.02]\n",
      " [ 8.87  8.33  5.68]\n",
      " [ 0.93 10.    6.17]\n",
      " [10.    5.44  7.9 ]\n",
      " [10.    1.11  3.95]\n",
      " [ 2.37  1.22  7.16]\n",
      " [ 5.88  1.33  0.86]\n",
      " [ 9.48  9.11  0.  ]\n",
      " [ 2.68  0.    3.58]\n",
      " [ 0.    1.   10.  ]]\n"
     ]
    }
   ],
   "source": [
    "y = np.round((x - x.min(axis=0)) / (x.max(axis=0) - x.min(axis=0)) * 10, 2)\n",
    "print(y)"
   ]
  },
  {
   "cell_type": "markdown",
   "metadata": {},
   "source": [
    "#### NP.9:\n",
    "\n",
    "Task: Replace all NaN values in the matrix `x` with 0.\n",
    "\n",
    "Desired output: \n",
    "\n",
    "~~~\n",
    "[[ 8. 24. 67.]\n",
    " [87. 79.  0.]\n",
    " [10.  0. 52.]\n",
    " [ 0. 53. 66.]]\n",
    "~~~"
   ]
  },
  {
   "cell_type": "code",
   "execution_count": 87,
   "metadata": {},
   "outputs": [
    {
     "name": "stdout",
     "output_type": "stream",
     "text": [
      "[[ 8. 24. 67.]\n",
      " [87. 79.  0.]\n",
      " [10.  0. 52.]\n",
      " [ 0. 53. 66.]]\n"
     ]
    }
   ],
   "source": [
    "# do not modify\n",
    "np.random.seed(100)\n",
    "x = np.random.randint(100,size = 12).reshape(4,3).astype('float')\n",
    "row = np.array([1, 2, 3])\n",
    "col = np.array([2, 1, 0])\n",
    "x[row, col] = np.nan\n",
    "\n",
    "x[np.isnan(x)] = 0\n",
    "print(x)"
   ]
  }
 ],
 "metadata": {
  "kernelspec": {
   "display_name": "Python 3 (ipykernel)",
   "language": "python",
   "name": "python3"
  },
  "language_info": {
   "codemirror_mode": {
    "name": "ipython",
    "version": 3
   },
   "file_extension": ".py",
   "mimetype": "text/x-python",
   "name": "python",
   "nbconvert_exporter": "python",
   "pygments_lexer": "ipython3",
   "version": "3.11.7"
  }
 },
 "nbformat": 4,
 "nbformat_minor": 4
}
