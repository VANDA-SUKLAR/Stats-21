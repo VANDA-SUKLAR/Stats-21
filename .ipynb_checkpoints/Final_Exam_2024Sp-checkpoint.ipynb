{
 "cells": [
  {
   "cell_type": "markdown",
   "id": "4fc5393a-2c6b-4c25-bc19-570d660d0365",
   "metadata": {},
   "source": [
    "# Stats 21 Final Exam - June 10 2024"
   ]
  },
  {
   "cell_type": "markdown",
   "id": "200a3d2a-6e02-4985-ab9e-a6e9dca103b9",
   "metadata": {},
   "source": [
    "### Academic Integrity\n",
    "\n",
    "This is a final exam. You are not allowed to communicate with other students during the exam. No collaboration allowed.\n",
    "\n",
    "Sharing any portion of this exam, even after the course ends, is a violation of the UCLA code of conduct.\n",
    "\n",
    "If you are not enrolled in Stats 21 during Spring 2024, using this file to study for Stats 21 is a violation of the UCLA code of conduct.\n",
    "\n",
    "To acknowledge that you have read this, type your name in the box."
   ]
  },
  {
   "cell_type": "code",
   "execution_count": null,
   "id": "066812e1-4c35-46dc-bd8f-9b3c671618f0",
   "metadata": {},
   "outputs": [],
   "source": [
    "# I have read the above statements. Your name: Vanda Suklar\n",
    "# 705620379"
   ]
  },
  {
   "cell_type": "markdown",
   "id": "9b8dc49a-318a-4b7f-b4e1-96a53497520b",
   "metadata": {},
   "source": [
    "# Part 0 - Import Data"
   ]
  },
  {
   "cell_type": "markdown",
   "id": "6b92bfb0-d132-4601-93bf-658e302f5755",
   "metadata": {},
   "source": [
    "I found the following data from a weekly newsletter titled \"Data is Plural.\" https://www.data-is-plural.com/archive/\n",
    "\n",
    "You will work with a bit of silly, but perhaps fun data compiled by Alice Y. Liang. https://aliceyliang.com/ An article corresponding to her findings can be read here: https://pudding.cool/2023/10/romance-covers/\n",
    "\n",
    "The data looks at covers of 1400+ romance novels published between 2011 and 2023. \n",
    "\n",
    "The data's variables include:\n",
    "\n",
    "- book title\n",
    "- author\n",
    "- publisher\n",
    "- publication date\n",
    "- announcement year/season\n",
    "- description\n",
    "- ISBN\n",
    "- urls of the cover image and thumbnails\n",
    "- whether cover style is photorealistic or illustrated\n",
    "- whether cover features a partially undressed man\n",
    "- whether cover features a partially undressed woman\n",
    "- whether it depicts at least one person of color"
   ]
  },
  {
   "cell_type": "code",
   "execution_count": 2,
   "id": "7f061989-3c34-46d8-bc68-49162a9c2570",
   "metadata": {},
   "outputs": [],
   "source": [
    "import pandas as pd\n",
    "import numpy as np\n",
    "import matplotlib.pyplot as plt"
   ]
  },
  {
   "cell_type": "code",
   "execution_count": 3,
   "id": "2d88f48a-bf28-4d6e-be99-1e471504371f",
   "metadata": {},
   "outputs": [],
   "source": [
    "covers = pd.read_csv('romance_covers.csv')"
   ]
  },
  {
   "cell_type": "code",
   "execution_count": 4,
   "id": "3424109f-6c87-4c91-ae8f-8c09114d2eae",
   "metadata": {},
   "outputs": [
    {
     "data": {
      "text/plain": [
       "(1435, 21)"
      ]
     },
     "execution_count": 4,
     "metadata": {},
     "output_type": "execute_result"
    }
   ],
   "source": [
    "covers.shape"
   ]
  },
  {
   "cell_type": "code",
   "execution_count": 5,
   "id": "63cf98f5-a1e7-4df4-802a-7e145f815145",
   "metadata": {},
   "outputs": [
    {
     "data": {
      "text/plain": [
       "Index(['year', 'season', 'season_order', 'title', 'author', 'publisher',\n",
       "       'date', 'description', 'ISBN', 'Github permalink', 'google_thumbnail',\n",
       "       'google_smallThumbnail', 'Cover URL override', 'cover_url',\n",
       "       'Github thumbnail', 'Cover', 'Style', 'Man partially unclothed',\n",
       "       'Woman partially unclothed', 'Has POC', 'Unnamed: 20'],\n",
       "      dtype='object')"
      ]
     },
     "execution_count": 5,
     "metadata": {},
     "output_type": "execute_result"
    }
   ],
   "source": [
    "covers.columns"
   ]
  },
  {
   "cell_type": "code",
   "execution_count": 6,
   "id": "78c7f6da-0835-478b-935a-1fb4473985cd",
   "metadata": {},
   "outputs": [
    {
     "data": {
      "text/html": [
       "<div>\n",
       "<style scoped>\n",
       "    .dataframe tbody tr th:only-of-type {\n",
       "        vertical-align: middle;\n",
       "    }\n",
       "\n",
       "    .dataframe tbody tr th {\n",
       "        vertical-align: top;\n",
       "    }\n",
       "\n",
       "    .dataframe thead th {\n",
       "        text-align: right;\n",
       "    }\n",
       "</style>\n",
       "<table border=\"1\" class=\"dataframe\">\n",
       "  <thead>\n",
       "    <tr style=\"text-align: right;\">\n",
       "      <th></th>\n",
       "      <th>year</th>\n",
       "      <th>season</th>\n",
       "      <th>season_order</th>\n",
       "      <th>title</th>\n",
       "      <th>author</th>\n",
       "      <th>publisher</th>\n",
       "      <th>date</th>\n",
       "      <th>description</th>\n",
       "      <th>ISBN</th>\n",
       "      <th>Github permalink</th>\n",
       "      <th>...</th>\n",
       "      <th>google_smallThumbnail</th>\n",
       "      <th>Cover URL override</th>\n",
       "      <th>cover_url</th>\n",
       "      <th>Github thumbnail</th>\n",
       "      <th>Cover</th>\n",
       "      <th>Style</th>\n",
       "      <th>Man partially unclothed</th>\n",
       "      <th>Woman partially unclothed</th>\n",
       "      <th>Has POC</th>\n",
       "      <th>Unnamed: 20</th>\n",
       "    </tr>\n",
       "  </thead>\n",
       "  <tbody>\n",
       "    <tr>\n",
       "      <th>0</th>\n",
       "      <td>2011</td>\n",
       "      <td>Spring</td>\n",
       "      <td>1</td>\n",
       "      <td>Too Rich for a Bride</td>\n",
       "      <td>Mona Hodgson</td>\n",
       "      <td>Waterbrook</td>\n",
       "      <td>5/1/2011</td>\n",
       "      <td>NaN</td>\n",
       "      <td>9780307458926</td>\n",
       "      <td>https://raw.githubusercontent.com/the-pudding/...</td>\n",
       "      <td>...</td>\n",
       "      <td>http://books.google.com/books/content?id=S8dvD...</td>\n",
       "      <td>NaN</td>\n",
       "      <td>http://books.google.com/books/content?id=S8dvD...</td>\n",
       "      <td>NaN</td>\n",
       "      <td>NaN</td>\n",
       "      <td>Photorealistic</td>\n",
       "      <td>False</td>\n",
       "      <td>False</td>\n",
       "      <td>False</td>\n",
       "      <td>NaN</td>\n",
       "    </tr>\n",
       "    <tr>\n",
       "      <th>1</th>\n",
       "      <td>2011</td>\n",
       "      <td>Spring</td>\n",
       "      <td>1</td>\n",
       "      <td>Breaking the Rules</td>\n",
       "      <td>Suzanne Brockmann</td>\n",
       "      <td>Ballantine</td>\n",
       "      <td>4/1/2011</td>\n",
       "      <td>NaN</td>\n",
       "      <td>9780345521231</td>\n",
       "      <td>https://raw.githubusercontent.com/the-pudding/...</td>\n",
       "      <td>...</td>\n",
       "      <td>http://books.google.com/books/content?id=TPmrb...</td>\n",
       "      <td>NaN</td>\n",
       "      <td>http://books.google.com/books/content?id=TPmrb...</td>\n",
       "      <td>NaN</td>\n",
       "      <td>NaN</td>\n",
       "      <td>Photorealistic</td>\n",
       "      <td>False</td>\n",
       "      <td>False</td>\n",
       "      <td>False</td>\n",
       "      <td>NaN</td>\n",
       "    </tr>\n",
       "    <tr>\n",
       "      <th>2</th>\n",
       "      <td>2011</td>\n",
       "      <td>Spring</td>\n",
       "      <td>1</td>\n",
       "      <td>The Secret Mistress</td>\n",
       "      <td>Mary Balogh</td>\n",
       "      <td>Delacorte</td>\n",
       "      <td>7/3/2011</td>\n",
       "      <td>NaN</td>\n",
       "      <td>9780440245292</td>\n",
       "      <td>https://raw.githubusercontent.com/the-pudding/...</td>\n",
       "      <td>...</td>\n",
       "      <td>http://books.google.com/books/content?id=pyqy-...</td>\n",
       "      <td>NaN</td>\n",
       "      <td>http://books.google.com/books/content?id=pyqy-...</td>\n",
       "      <td>NaN</td>\n",
       "      <td>NaN</td>\n",
       "      <td>Photorealistic</td>\n",
       "      <td>False</td>\n",
       "      <td>False</td>\n",
       "      <td>False</td>\n",
       "      <td>NaN</td>\n",
       "    </tr>\n",
       "    <tr>\n",
       "      <th>3</th>\n",
       "      <td>2011</td>\n",
       "      <td>Spring</td>\n",
       "      <td>1</td>\n",
       "      <td>Born of Shadows</td>\n",
       "      <td>Sherrilyn Kenyon</td>\n",
       "      <td>Grand Central</td>\n",
       "      <td>5/1/2011</td>\n",
       "      <td>NaN</td>\n",
       "      <td>9780749954789</td>\n",
       "      <td>https://raw.githubusercontent.com/the-pudding/...</td>\n",
       "      <td>...</td>\n",
       "      <td>http://books.google.com/books/content?id=D_P7T...</td>\n",
       "      <td>NaN</td>\n",
       "      <td>http://books.google.com/books/content?id=D_P7T...</td>\n",
       "      <td>NaN</td>\n",
       "      <td>NaN</td>\n",
       "      <td>Photorealistic</td>\n",
       "      <td>False</td>\n",
       "      <td>False</td>\n",
       "      <td>False</td>\n",
       "      <td>NaN</td>\n",
       "    </tr>\n",
       "    <tr>\n",
       "      <th>4</th>\n",
       "      <td>2011</td>\n",
       "      <td>Spring</td>\n",
       "      <td>1</td>\n",
       "      <td>All Up in My Business</td>\n",
       "      <td>Lutishia Lovely</td>\n",
       "      <td>Kensington/Dafina</td>\n",
       "      <td>3/1/2011</td>\n",
       "      <td>NaN</td>\n",
       "      <td>9780758238702</td>\n",
       "      <td>https://raw.githubusercontent.com/the-pudding/...</td>\n",
       "      <td>...</td>\n",
       "      <td>http://books.google.com/books/content?id=_yoDA...</td>\n",
       "      <td>https://images-na.ssl-images-amazon.com/images...</td>\n",
       "      <td>https://images-na.ssl-images-amazon.com/images...</td>\n",
       "      <td>NaN</td>\n",
       "      <td>NaN</td>\n",
       "      <td>Photorealistic</td>\n",
       "      <td>False</td>\n",
       "      <td>False</td>\n",
       "      <td>True</td>\n",
       "      <td>NaN</td>\n",
       "    </tr>\n",
       "    <tr>\n",
       "      <th>5</th>\n",
       "      <td>2011</td>\n",
       "      <td>Spring</td>\n",
       "      <td>1</td>\n",
       "      <td>His, Unexpectedly</td>\n",
       "      <td>Susan Fox</td>\n",
       "      <td>Kensington/Brava</td>\n",
       "      <td>2/1/2011</td>\n",
       "      <td>NaN</td>\n",
       "      <td>9780758267818</td>\n",
       "      <td>https://raw.githubusercontent.com/the-pudding/...</td>\n",
       "      <td>...</td>\n",
       "      <td>http://books.google.com/books/content?id=t5rOK...</td>\n",
       "      <td>NaN</td>\n",
       "      <td>http://books.google.com/books/content?id=t5rOK...</td>\n",
       "      <td>NaN</td>\n",
       "      <td>NaN</td>\n",
       "      <td>Photorealistic</td>\n",
       "      <td>True</td>\n",
       "      <td>False</td>\n",
       "      <td>False</td>\n",
       "      <td>NaN</td>\n",
       "    </tr>\n",
       "    <tr>\n",
       "      <th>6</th>\n",
       "      <td>2011</td>\n",
       "      <td>Spring</td>\n",
       "      <td>1</td>\n",
       "      <td>Kiss of Snow</td>\n",
       "      <td>Nalini Singh</td>\n",
       "      <td>Berkley</td>\n",
       "      <td>6/1/2011</td>\n",
       "      <td>NaN</td>\n",
       "      <td>9781101528723</td>\n",
       "      <td>https://raw.githubusercontent.com/the-pudding/...</td>\n",
       "      <td>...</td>\n",
       "      <td>http://books.google.com/books/content?id=iNqqx...</td>\n",
       "      <td>NaN</td>\n",
       "      <td>http://books.google.com/books/content?id=iNqqx...</td>\n",
       "      <td>NaN</td>\n",
       "      <td>NaN</td>\n",
       "      <td>Photorealistic</td>\n",
       "      <td>True</td>\n",
       "      <td>False</td>\n",
       "      <td>False</td>\n",
       "      <td>NaN</td>\n",
       "    </tr>\n",
       "    <tr>\n",
       "      <th>7</th>\n",
       "      <td>2011</td>\n",
       "      <td>Spring</td>\n",
       "      <td>1</td>\n",
       "      <td>The Soldier</td>\n",
       "      <td>Grace Burrowes</td>\n",
       "      <td>Sourcebooks Casablanca</td>\n",
       "      <td>6/1/2011</td>\n",
       "      <td>NaN</td>\n",
       "      <td>9781402245695</td>\n",
       "      <td>https://raw.githubusercontent.com/the-pudding/...</td>\n",
       "      <td>...</td>\n",
       "      <td>http://books.google.com/books/content?id=bnXMX...</td>\n",
       "      <td>NaN</td>\n",
       "      <td>http://books.google.com/books/content?id=bnXMX...</td>\n",
       "      <td>NaN</td>\n",
       "      <td>NaN</td>\n",
       "      <td>Photorealistic</td>\n",
       "      <td>True</td>\n",
       "      <td>False</td>\n",
       "      <td>False</td>\n",
       "      <td>NaN</td>\n",
       "    </tr>\n",
       "    <tr>\n",
       "      <th>8</th>\n",
       "      <td>2011</td>\n",
       "      <td>Spring</td>\n",
       "      <td>1</td>\n",
       "      <td>Blood Stains</td>\n",
       "      <td>Sharon Sala</td>\n",
       "      <td>Mira</td>\n",
       "      <td>2/1/2011</td>\n",
       "      <td>NaN</td>\n",
       "      <td>9781426884306</td>\n",
       "      <td>https://raw.githubusercontent.com/the-pudding/...</td>\n",
       "      <td>...</td>\n",
       "      <td>http://books.google.com/books/content?id=5pLjN...</td>\n",
       "      <td>NaN</td>\n",
       "      <td>http://books.google.com/books/content?id=5pLjN...</td>\n",
       "      <td>NaN</td>\n",
       "      <td>NaN</td>\n",
       "      <td>Photorealistic</td>\n",
       "      <td>False</td>\n",
       "      <td>False</td>\n",
       "      <td>False</td>\n",
       "      <td>NaN</td>\n",
       "    </tr>\n",
       "    <tr>\n",
       "      <th>9</th>\n",
       "      <td>2011</td>\n",
       "      <td>Spring</td>\n",
       "      <td>1</td>\n",
       "      <td>A Turn in the Road</td>\n",
       "      <td>Debbie Macomber</td>\n",
       "      <td>Mira</td>\n",
       "      <td>5/1/2011</td>\n",
       "      <td>NaN</td>\n",
       "      <td>9781460398876</td>\n",
       "      <td>https://raw.githubusercontent.com/the-pudding/...</td>\n",
       "      <td>...</td>\n",
       "      <td>http://books.google.com/books/content?id=9Nr1D...</td>\n",
       "      <td>NaN</td>\n",
       "      <td>http://books.google.com/books/content?id=9Nr1D...</td>\n",
       "      <td>NaN</td>\n",
       "      <td>NaN</td>\n",
       "      <td>Photorealistic</td>\n",
       "      <td>False</td>\n",
       "      <td>False</td>\n",
       "      <td>False</td>\n",
       "      <td>NaN</td>\n",
       "    </tr>\n",
       "  </tbody>\n",
       "</table>\n",
       "<p>10 rows × 21 columns</p>\n",
       "</div>"
      ],
      "text/plain": [
       "   year  season  season_order                  title             author  \\\n",
       "0  2011  Spring             1   Too Rich for a Bride       Mona Hodgson   \n",
       "1  2011  Spring             1     Breaking the Rules  Suzanne Brockmann   \n",
       "2  2011  Spring             1    The Secret Mistress        Mary Balogh   \n",
       "3  2011  Spring             1        Born of Shadows   Sherrilyn Kenyon   \n",
       "4  2011  Spring             1  All Up in My Business    Lutishia Lovely   \n",
       "5  2011  Spring             1      His, Unexpectedly          Susan Fox   \n",
       "6  2011  Spring             1           Kiss of Snow       Nalini Singh   \n",
       "7  2011  Spring             1            The Soldier     Grace Burrowes   \n",
       "8  2011  Spring             1           Blood Stains        Sharon Sala   \n",
       "9  2011  Spring             1     A Turn in the Road    Debbie Macomber   \n",
       "\n",
       "                publisher      date description           ISBN  \\\n",
       "0              Waterbrook  5/1/2011         NaN  9780307458926   \n",
       "1              Ballantine  4/1/2011         NaN  9780345521231   \n",
       "2               Delacorte  7/3/2011         NaN  9780440245292   \n",
       "3           Grand Central  5/1/2011         NaN  9780749954789   \n",
       "4       Kensington/Dafina  3/1/2011         NaN  9780758238702   \n",
       "5        Kensington/Brava  2/1/2011         NaN  9780758267818   \n",
       "6                 Berkley  6/1/2011         NaN  9781101528723   \n",
       "7  Sourcebooks Casablanca  6/1/2011         NaN  9781402245695   \n",
       "8                    Mira  2/1/2011         NaN  9781426884306   \n",
       "9                    Mira  5/1/2011         NaN  9781460398876   \n",
       "\n",
       "                                    Github permalink  ...  \\\n",
       "0  https://raw.githubusercontent.com/the-pudding/...  ...   \n",
       "1  https://raw.githubusercontent.com/the-pudding/...  ...   \n",
       "2  https://raw.githubusercontent.com/the-pudding/...  ...   \n",
       "3  https://raw.githubusercontent.com/the-pudding/...  ...   \n",
       "4  https://raw.githubusercontent.com/the-pudding/...  ...   \n",
       "5  https://raw.githubusercontent.com/the-pudding/...  ...   \n",
       "6  https://raw.githubusercontent.com/the-pudding/...  ...   \n",
       "7  https://raw.githubusercontent.com/the-pudding/...  ...   \n",
       "8  https://raw.githubusercontent.com/the-pudding/...  ...   \n",
       "9  https://raw.githubusercontent.com/the-pudding/...  ...   \n",
       "\n",
       "                               google_smallThumbnail  \\\n",
       "0  http://books.google.com/books/content?id=S8dvD...   \n",
       "1  http://books.google.com/books/content?id=TPmrb...   \n",
       "2  http://books.google.com/books/content?id=pyqy-...   \n",
       "3  http://books.google.com/books/content?id=D_P7T...   \n",
       "4  http://books.google.com/books/content?id=_yoDA...   \n",
       "5  http://books.google.com/books/content?id=t5rOK...   \n",
       "6  http://books.google.com/books/content?id=iNqqx...   \n",
       "7  http://books.google.com/books/content?id=bnXMX...   \n",
       "8  http://books.google.com/books/content?id=5pLjN...   \n",
       "9  http://books.google.com/books/content?id=9Nr1D...   \n",
       "\n",
       "                                  Cover URL override  \\\n",
       "0                                                NaN   \n",
       "1                                                NaN   \n",
       "2                                                NaN   \n",
       "3                                                NaN   \n",
       "4  https://images-na.ssl-images-amazon.com/images...   \n",
       "5                                                NaN   \n",
       "6                                                NaN   \n",
       "7                                                NaN   \n",
       "8                                                NaN   \n",
       "9                                                NaN   \n",
       "\n",
       "                                           cover_url Github thumbnail  Cover  \\\n",
       "0  http://books.google.com/books/content?id=S8dvD...              NaN    NaN   \n",
       "1  http://books.google.com/books/content?id=TPmrb...              NaN    NaN   \n",
       "2  http://books.google.com/books/content?id=pyqy-...              NaN    NaN   \n",
       "3  http://books.google.com/books/content?id=D_P7T...              NaN    NaN   \n",
       "4  https://images-na.ssl-images-amazon.com/images...              NaN    NaN   \n",
       "5  http://books.google.com/books/content?id=t5rOK...              NaN    NaN   \n",
       "6  http://books.google.com/books/content?id=iNqqx...              NaN    NaN   \n",
       "7  http://books.google.com/books/content?id=bnXMX...              NaN    NaN   \n",
       "8  http://books.google.com/books/content?id=5pLjN...              NaN    NaN   \n",
       "9  http://books.google.com/books/content?id=9Nr1D...              NaN    NaN   \n",
       "\n",
       "            Style Man partially unclothed  Woman partially unclothed  Has POC  \\\n",
       "0  Photorealistic                   False                      False    False   \n",
       "1  Photorealistic                   False                      False    False   \n",
       "2  Photorealistic                   False                      False    False   \n",
       "3  Photorealistic                   False                      False    False   \n",
       "4  Photorealistic                   False                      False     True   \n",
       "5  Photorealistic                    True                      False    False   \n",
       "6  Photorealistic                    True                      False    False   \n",
       "7  Photorealistic                    True                      False    False   \n",
       "8  Photorealistic                   False                      False    False   \n",
       "9  Photorealistic                   False                      False    False   \n",
       "\n",
       "   Unnamed: 20  \n",
       "0          NaN  \n",
       "1          NaN  \n",
       "2          NaN  \n",
       "3          NaN  \n",
       "4          NaN  \n",
       "5          NaN  \n",
       "6          NaN  \n",
       "7          NaN  \n",
       "8          NaN  \n",
       "9          NaN  \n",
       "\n",
       "[10 rows x 21 columns]"
      ]
     },
     "execution_count": 6,
     "metadata": {},
     "output_type": "execute_result"
    }
   ],
   "source": [
    "covers.head(10)"
   ]
  },
  {
   "cell_type": "markdown",
   "id": "81ecaa49-04c4-4e33-bd9b-fe6a47ebd32b",
   "metadata": {},
   "source": [
    "## Part 1: Pandas"
   ]
  },
  {
   "cell_type": "markdown",
   "id": "2eda606b-f60c-4ece-8df1-69564350bc8e",
   "metadata": {},
   "source": [
    "## Part 1A Exploration"
   ]
  },
  {
   "cell_type": "markdown",
   "id": "58561ea2-1a39-4cc3-ae51-e96131426c2c",
   "metadata": {},
   "source": [
    "- Q1 [5 pts] How many unique authors? A simple number is sufficient. \n",
    "\n",
    "    Some books have multiple authors. There is no need to parse them out as individual authors. For the purpose of this problem, \"John Smith\" vs \"Jane Adams\" vs \"John Smith and Jane Adams\" will count as three unique authors. You may treat each unique string in the 'author' column as a unique author."
   ]
  },
  {
   "cell_type": "code",
   "execution_count": 9,
   "id": "465ad363-6110-4fa7-85ff-6925dcfdcd53",
   "metadata": {},
   "outputs": [
    {
     "data": {
      "text/plain": [
       "929"
      ]
     },
     "execution_count": 9,
     "metadata": {},
     "output_type": "execute_result"
    }
   ],
   "source": [
    "unique_names = covers['author'].nunique()\n",
    "unique_names"
   ]
  },
  {
   "cell_type": "markdown",
   "id": "74d205e1-86e8-41de-95e5-548af2f597ed",
   "metadata": {},
   "source": [
    "- Q2 [5 pts] Who were the most prolific authors? Find the top 10 authors that wrote the most amount of books. There is a tie (for 9-16th place). Include everyone who is tied.\n",
    "\n",
    "    Output should be a DataFrame or series with author names in order with the author with the most published books at the top. (I had Debbie Macomber with 13 books)"
   ]
  },
  {
   "cell_type": "code",
   "execution_count": 15,
   "id": "d724bba5-32d8-45e7-8be7-61130c13e6e4",
   "metadata": {},
   "outputs": [
    {
     "name": "stdout",
     "output_type": "stream",
     "text": [
      "author\n",
      "Debbie Macomber     13\n",
      "Grace Burrowes      10\n",
      "J.R. Ward           10\n",
      "Nora Roberts         9\n",
      "Christina Lauren     9\n",
      "Brenda Jackson       8\n",
      "Eloisa James         8\n",
      "Janet Dailey         8\n",
      "Alexis Hall          7\n",
      "Josi S. Kilpack      7\n",
      "Mary Balogh          7\n",
      "Adriana Herrera      7\n",
      "Maya Banks           7\n",
      "Sabrina Jeffries     7\n",
      "Julia London         7\n",
      "Susan Mallery        7\n",
      "Name: count, dtype: int64\n"
     ]
    }
   ],
   "source": [
    "number_of_books_per_author = covers['author'].value_counts()\n",
    "top_10 = number_of_books_per_author[:10]\n",
    "min_num_top_10 = top_counts.min()\n",
    "most_books_authors = number_of_books_per_author[number_of_books_per_author >= min_count_in_top_10]\n",
    "print(most_books_authors)"
   ]
  },
  {
   "cell_type": "markdown",
   "id": "e699324f-fcbf-4333-857a-4c592944b1c1",
   "metadata": {},
   "source": [
    "- Q3 [5 pts] Which publishers printed the most books? Find the publishers that published over 30 books.\n",
    "\n",
    "    Output should be a DataFrame or series with publisher names in order with the publisher with the most published books at the top. (I had Sourcebooks Casablanca with 114 books)\n",
    "    \n",
    "    Similar to the author column, you may treat each unique string in the publisher column as a unique publisher."
   ]
  },
  {
   "cell_type": "code",
   "execution_count": 17,
   "id": "c125d3b8-b593-41c2-8f3f-c3451c8b8cdc",
   "metadata": {},
   "outputs": [
    {
     "name": "stdout",
     "output_type": "stream",
     "text": [
      "publisher\n",
      "Sourcebooks Casablanca    114\n",
      "Avon                      100\n",
      "Berkley                    83\n",
      "HQN                        44\n",
      "Forever                    44\n",
      "Kensington                 43\n",
      "Bold Strokes               40\n",
      "Zebra                      36\n",
      "Ballantine                 34\n",
      "Mira                       33\n",
      "St. Martin’s               32\n",
      "Morrow                     32\n",
      "Name: count, dtype: int64\n"
     ]
    }
   ],
   "source": [
    "publisher_books_number = covers['publisher'].value_counts()\n",
    "top_publishers = publisher_counts[publisher_books_number > 30]\n",
    "print(top_publishers)"
   ]
  },
  {
   "cell_type": "markdown",
   "id": "615c3c69-2eb0-40d1-967f-1949b03c75c0",
   "metadata": {},
   "source": [
    "- Q4 [5 pts] Many authors produce books with the same publisher. Some authors publish books with different publishers. Identify authors who had 5 or more different publishers.\n",
    "\n",
    "    Output should be a DataFrame or series with author names in order with the author with the most number of publishers at the top. (I had Brenda Jackson with 8 publishers)"
   ]
  },
  {
   "cell_type": "code",
   "execution_count": 23,
   "id": "32801660-d256-44c2-908f-939a98c0515c",
   "metadata": {},
   "outputs": [
    {
     "name": "stdout",
     "output_type": "stream",
     "text": [
      "author\n",
      "Brenda Jackson        8\n",
      "Alexis Hall           5\n",
      "Jude Deveraux         5\n",
      "Julia London          5\n",
      "Priscilla Oliveras    5\n",
      "Name: publisher, dtype: int64\n"
     ]
    }
   ],
   "source": [
    "publisher_num_per_author = covers.groupby('author')['publisher'].nunique()\n",
    "authors_5_publishers = publisher_num_per_author[publisher_num_per_author >= 5].sort_values(ascending=False)\n",
    "print(authors_5_publishers)"
   ]
  },
  {
   "cell_type": "markdown",
   "id": "8f78e620-47c1-4825-b94b-c057fc81859f",
   "metadata": {},
   "source": [
    "- Q5 [5 pts] Create a barplot showing how many books were published in each season. Be sure spring comes before fall of each year.\n",
    "\n",
    "    For instance, in spring 2011, there were 10 books published. Then in fall 2011, there were 47 books. Spring 2012 there were 59, etc."
   ]
  },
  {
   "cell_type": "code",
   "execution_count": 103,
   "id": "1197cc01-29d2-4cd5-bdb9-7425f0d15154",
   "metadata": {},
   "outputs": [
    {
     "data": {
      "image/png": "[encoded data removed]",
      "text/plain": [
       "<Figure size 1000x500 with 1 Axes>"
      ]
     },
     "metadata": {},
     "output_type": "display_data"
    }
   ],
   "source": [
    "import matplotlib.pyplot as plt\n",
    "\n",
    "covers['year_season'] = covers['year'].astype(str) + ' ' + covers['season']\n",
    "covers['season_ordered'] = covers['year'].astype(str) + covers['season_order'].astype(str)\n",
    "books_each_season = covers.groupby('season_ordered').size()\n",
    "year_seasons = covers.groupby('season_ordered')['year_season'].first()\n",
    "plt.figure(figsize=(10, 5))\n",
    "books_each_season.plot(kind='bar', color='lightgreen')\n",
    "plt.title('Number of Books Published in Each Season')\n",
    "plt.xlabel('Season')\n",
    "plt.ylabel('Number of Books')\n",
    "plt.xticks(ticks=range(len(year_seasons)), labels=year_seasons, rotation=90)\n",
    "plt.tight_layout()\n",
    "plt.show()"
   ]
  },
  {
   "cell_type": "markdown",
   "id": "fcafb5c4-5a3d-41f6-9e0e-45a743b02b52",
   "metadata": {},
   "source": [
    "## Part 1B: Cover Traits"
   ]
  },
  {
   "cell_type": "markdown",
   "id": "a69ffcaf-04ff-445b-8312-e344c86b3ceb",
   "metadata": {},
   "source": [
    "- Q6 [6 pts] What proportion of book covers have a partial unclothed man? What proportion of book covers have a partial unclothed woman? simple numbers are sufficient."
   ]
  },
  {
   "cell_type": "code",
   "execution_count": 36,
   "id": "9bf0cc7a-2698-45bd-b9cc-3caef46fdad2",
   "metadata": {},
   "outputs": [
    {
     "name": "stdout",
     "output_type": "stream",
     "text": [
      "partially unclothed man: 0.15\n"
     ]
    }
   ],
   "source": [
    "man_unclothed = covers['Man partially unclothed'].mean()\n",
    "print(f\"partially unclothed man: {man_unclothed:.2f}\")"
   ]
  },
  {
   "cell_type": "code",
   "execution_count": 37,
   "id": "3393dc32-8467-4779-bd3d-840a1af13a28",
   "metadata": {},
   "outputs": [
    {
     "name": "stdout",
     "output_type": "stream",
     "text": [
      "partially unclothed woman: 0.05\n"
     ]
    }
   ],
   "source": [
    "woman_unclothed = covers['Woman partially unclothed'].mean()\n",
    "print(f\"partially unclothed woman: {woman_unclothed:.2f}\")"
   ]
  },
  {
   "cell_type": "markdown",
   "id": "5560b385-3bd5-41ab-9ac2-cb89153b4b63",
   "metadata": {},
   "source": [
    "- Q7 [8 pts] Create a stacked barplot showing the number of covers with fully clothed and partially unclothed men for each year. \n",
    "\n",
    "    Create another barplot showing the number of covers with fully clothed and partially unclothed women for each year."
   ]
  },
  {
   "cell_type": "code",
   "execution_count": 49,
   "id": "15c659ed-ade2-42ed-95dc-b39c790565d9",
   "metadata": {},
   "outputs": [
    {
     "data": {
      "image/png": "[encoded data removed]",
      "text/plain": [
       "<Figure size 1000x500 with 1 Axes>"
      ]
     },
     "metadata": {},
     "output_type": "display_data"
    }
   ],
   "source": [
    "men_on_covers = covers.groupby(['year', 'Man partially unclothed']).size().unstack(fill_value=0)\n",
    "\n",
    "men_on_covers.plot(kind='bar', stacked=True, figsize=(10, 5), color=['skyblue', 'pink'])\n",
    "plt.title('Number of Covers with Fully Clothed and Partially Unclothed Men per Year')\n",
    "plt.xlabel('Year')\n",
    "plt.ylabel('Number of Covers')\n",
    "plt.legend(['Fully Clothed', 'Partially Unclothed'])\n",
    "plt.tight_layout()\n",
    "plt.show()"
   ]
  },
  {
   "cell_type": "code",
   "execution_count": 50,
   "id": "64567e68-2b02-44fc-9d37-317c4a14910a",
   "metadata": {},
   "outputs": [
    {
     "data": {
      "image/png": "[encoded data removed]",
      "text/plain": [
       "<Figure size 1000x500 with 1 Axes>"
      ]
     },
     "metadata": {},
     "output_type": "display_data"
    }
   ],
   "source": [
    "women_on_covers = covers.groupby(['year', 'Woman partially unclothed']).size().unstack(fill_value=0)\n",
    "women_on_covers.plot(kind='bar', stacked=True, figsize=(10, 5), color=['skyblue', 'pink'])\n",
    "plt.title('Number of Covers with Fully Clothed and Partially Unclothed Women per Year')\n",
    "plt.xlabel('Year')\n",
    "plt.ylabel('Number of Covers')\n",
    "plt.legend(['Fully Clothed', 'Partially Unclothed'])\n",
    "plt.tight_layout()\n",
    "plt.show()"
   ]
  },
  {
   "cell_type": "markdown",
   "id": "85cb02d9-e74d-4a0a-a7c3-732653508f90",
   "metadata": {},
   "source": [
    "- Q8 [8 pts] Print a table of authors who published more than 2 books and where over half of the covers have a partially undressed man. Print the table in descending order of proportion of covers with a partially undressed man. (At the top of my table I have Tessa Dare with 6 out of 6 books featuring a partially undressed man.) \n",
    "\n",
    "    Do the same, but for partially undressed woman.\n",
    "\n",
    "    You may find it helpful to use the function `.agg()` in combination with `.groupby()`\n",
    "\n",
    "    See the documentation: https://pandas.pydata.org/pandas-docs/stable/reference/api/pandas.core.groupby.DataFrameGroupBy.aggregate.html\n"
   ]
  },
  {
   "cell_type": "code",
   "execution_count": 99,
   "id": "bf8c6006-46da-4f42-9b07-4a7416385c83",
   "metadata": {},
   "outputs": [
    {
     "name": "stdout",
     "output_type": "stream",
     "text": [
      "                 total books  featuring a partially undressed man\n",
      "author                                                           \n",
      "Tessa Dare                 6                                    6\n",
      "Beverly Jenkins            5                                    4\n",
      "Isabel Cooper              4                                    3\n",
      "Gena Showalter             5                                    3\n",
      "Sophie Jordan              5                                    3\n",
      "Jane Ashford               3                                    3\n",
      "Jackie Ashenden            3                                    2\n",
      "Lynsay Sands               3                                    2\n"
     ]
    }
   ],
   "source": [
    "men_on_covers_info = covers.groupby('author').agg(\n",
    "    total_books=('title', 'size'),\n",
    "    partially_unclothed_man_covers=('Man partially unclothed', 'sum')\n",
    ")\n",
    "men_on_covers_qualification = men_on_covers_info[(men_on_covers_info['total_books'] > 2) & (men_on_covers_info['partially_unclothed_man_covers'] > (0.5 * author_stats_man['total_books']))]\n",
    "authors_man_filtered = authors_man_filtered.rename(columns={\n",
    "    'total_books': 'total books',\n",
    "    'partially_unclothed_man_covers': 'featuring a partially undressed man'\n",
    "})\n",
    "\n",
    "men_on_covers_qualification = authors_man_filtered.sort_values(by='featuring a partially undressed man', ascending=False)\n",
    "men_on_covers_qualification['featuring a partially undressed man'] = men_on_covers_qualification['featuring a partially undressed man'].astype(int)\n",
    "print(men_on_covers_qualification)"
   ]
  },
  {
   "cell_type": "code",
   "execution_count": 100,
   "id": "2c77a08e-64a7-4df6-8b75-f407b1a2d15b",
   "metadata": {},
   "outputs": [
    {
     "name": "stdout",
     "output_type": "stream",
     "text": [
      "                      total books  featuring a partially undressed woman\n",
      "author                                                                  \n",
      "Rachel Kramer Bussel            6                                      5\n"
     ]
    }
   ],
   "source": [
    "women_on_covers_info = covers.groupby('author').agg(\n",
    "    total_books=('title', 'size'),\n",
    "    partially_unclothed_woman_covers=('Woman partially unclothed', 'sum')\n",
    ")\n",
    "women_on_covers_qualification = women_on_covers_info[(women_on_covers_info['total_books'] > 2) & (women_on_covers_info['partially_unclothed_woman_covers'] > (0.5 * women_on_covers_info['total_books']))]\n",
    "women_on_covers_qualification = women_on_covers_qualification.rename(columns={\n",
    "    'total_books': 'total books',\n",
    "    'partially_unclothed_woman_covers': 'featuring a partially undressed woman'\n",
    "})\n",
    "women_on_covers_qualification = women_on_covers_qualification.sort_values(by='featuring a partially undressed woman', ascending=False)\n",
    "women_on_covers_qualification['featuring a partially undressed woman'] = women_on_covers_qualification['featuring a partially undressed woman'].astype(int)\n",
    "print(women_on_covers_qualification)\n"
   ]
  },
  {
   "cell_type": "markdown",
   "id": "17a8a459-1d65-4bd0-a961-58d74caab403",
   "metadata": {},
   "source": [
    "- Q9 [8 pts] Identify publishers that frequently feature people of color on their covers. (Publishers where over half of the covers feature a person of color)."
   ]
  },
  {
   "cell_type": "code",
   "execution_count": 102,
   "id": "478c8bab-d667-4538-96a3-ec4d62c04a8b",
   "metadata": {},
   "outputs": [
    {
     "name": "stdout",
     "output_type": "stream",
     "text": [
      "                           total books  featuring people of color\n",
      "publisher                                                        \n",
      "Dafina                              13                         11\n",
      "Harlequin                            3                          2\n",
      "Harlequin Desire                     2                          2\n",
      "Harlequin Kimani                     2                          2\n",
      "Harlequin Presents                   3                          3\n",
      "Harlequin Romance                    2                          2\n",
      "Harlequin Special Edition            3                          2\n",
      "Harlequin/Kimani                     4                          3\n",
      "Kensington/Dafina                   13                         13\n",
      "Kimani                              11                         11\n",
      "Microcosm                            3                          2\n",
      "Montlake                             7                          4\n",
      "Sideways                             1                          1\n",
      "Strebor                              1                          1\n",
      "W by Wattpad                         1                          1\n",
      "bold strokes                         1                          1\n"
     ]
    }
   ],
   "source": [
    "people_of_color_covers = covers.groupby('publisher').agg(\n",
    "    total_books=('title', 'size'),\n",
    "    poc_covers=('Has POC', 'sum')\n",
    ")\n",
    "\n",
    "over_half_people_of_color_publishers = people_of_color_covers[people_of_color_covers['poc_covers'] > (0.5 * people_of_color_covers['total_books'])]\n",
    "over_half_people_of_color_publishers = over_half_people_of_color_publishers.rename(columns={\n",
    "    'total_books': 'total books',\n",
    "    'poc_covers': 'featuring people of color'\n",
    "})\n",
    "\n",
    "print(over_half_people_of_color_publishers)"
   ]
  },
  {
   "cell_type": "markdown",
   "id": "f4e8e011-74f5-4497-bbce-f65faf2d4b0c",
   "metadata": {},
   "source": [
    "## Part 2"
   ]
  },
  {
   "cell_type": "markdown",
   "id": "351c2102-0bf4-4d74-ac41-7f10c82046b9",
   "metadata": {},
   "source": [
    "### Function [15 pts]\n",
    "\n",
    "Wordle is a word game where players try to guess a mystery 5-letter word. \n",
    "\n",
    "You can play it here: https://www.nytimes.com/games/wordle/index.html\n",
    "\n",
    "In the real game, each guess the player makes must be a real 5-letter word. We will not check for this condition in our game.\n",
    "\n",
    "When the player submits a word as a guess, Wordle provides feedback.\n",
    "\n",
    "If a letter is in the word and in the correct position, print the letter surrounded with stars.\n",
    "\n",
    "If a letter is in the word but in the incorrect spot, print the letter (with no stars).\n",
    "\n",
    "If a letter is not in the word in any spot, output an underscore.\n",
    "\n",
    "Example:\n",
    "\n",
    "- mystery word: WEARY\n",
    "- guess entry: WORDS\n",
    "- output: '*W* _ R _ _'\n",
    "\n",
    "Write a function `wordle(solution, guess)` that will give player information about the mystery word in accordance with the wordle rules.\n",
    "\n",
    "The arguments are:\n",
    "\n",
    "- `solution` the mystery word (could be lowercase or uppercase)\n",
    "- `guess` the word the player submits as a guess (could be lowercase or uppercase)\n",
    "\n",
    "The function should return the output as a string.\n",
    "\n",
    "You only need to pass the test cases to get full credit."
   ]
  },
  {
   "cell_type": "markdown",
   "id": "9f0fd599-438c-4e7f-933f-0555d0ae396c",
   "metadata": {},
   "source": [
    "## - Q10 [12 pts]"
   ]
  },
  {
   "cell_type": "code",
   "execution_count": 73,
   "id": "3fcd9568-1161-48ba-973e-51b4bd1a26be",
   "metadata": {},
   "outputs": [],
   "source": [
    "def wordle(solution, guess):\n",
    "    solution = solution.upper()  \n",
    "    guess = guess.upper()       \n",
    "    result = []                 \n",
    "\n",
    "    for i in range(len(solution)):\n",
    "        solution_letters = solution[i]\n",
    "        guess_letters = guess[i]\n",
    "\n",
    "        if solution_letters == guess_letters:\n",
    "            result.append(f'*{guess_letters}*')\n",
    "        elif guess_letters in solution:\n",
    "            result.append(guess_letters)\n",
    "        else:\n",
    "            result.append('_')\n",
    "\n",
    "    return ' '.join(result)"
   ]
  },
  {
   "cell_type": "code",
   "execution_count": 74,
   "id": "54ba0daa-9d95-4dc8-956b-ca77a7a37c59",
   "metadata": {},
   "outputs": [],
   "source": [
    "mystery = \"WEARY\""
   ]
  },
  {
   "cell_type": "code",
   "execution_count": 75,
   "id": "3b7622c9-3fbd-49ce-ba37-8f744a13f80f",
   "metadata": {},
   "outputs": [
    {
     "data": {
      "text/plain": [
       "'*W* _ R _ _'"
      ]
     },
     "execution_count": 75,
     "metadata": {},
     "output_type": "execute_result"
    }
   ],
   "source": [
    "# test case do not modify\n",
    "# output should be: '*W* _ R _ _'\n",
    "wordle(mystery, \"WORDS\")"
   ]
  },
  {
   "cell_type": "code",
   "execution_count": 76,
   "id": "d942f815-c61f-4512-81b3-cc24c44d991d",
   "metadata": {},
   "outputs": [
    {
     "data": {
      "text/plain": [
       "'A _ _ E _'"
      ]
     },
     "execution_count": 76,
     "metadata": {},
     "output_type": "execute_result"
    }
   ],
   "source": [
    "# test case do not modify\n",
    "# output should be: 'A _ _ E _'\n",
    "wordle(mystery, \"adieu\")"
   ]
  },
  {
   "cell_type": "code",
   "execution_count": 77,
   "id": "aff2ba36-d048-4395-878b-dfc669b572ea",
   "metadata": {},
   "outputs": [
    {
     "data": {
      "text/plain": [
       "'*W* *E* *A* *R* *Y*'"
      ]
     },
     "execution_count": 77,
     "metadata": {},
     "output_type": "execute_result"
    }
   ],
   "source": [
    "# test case do not modify\n",
    "# output should be: '*W* *E* *A* *R* *Y*'\n",
    "wordle(mystery, \"weary\")"
   ]
  },
  {
   "cell_type": "code",
   "execution_count": 78,
   "id": "ed65c5e8-5c10-4eaf-bb22-79825b4ab5e0",
   "metadata": {},
   "outputs": [
    {
     "data": {
      "text/plain": [
       "'E *L* *E* _ _'"
      ]
     },
     "execution_count": 78,
     "metadata": {},
     "output_type": "execute_result"
    }
   ],
   "source": [
    "# test case do not modify\n",
    "# output should be: 'E *L* *E* _ _'\n",
    "wordle(\"sleep\", \"elect\")"
   ]
  },
  {
   "cell_type": "markdown",
   "id": "2b762fd8-9f32-405e-9585-cfb65c1c5f87",
   "metadata": {},
   "source": [
    "## Create a `Book` and `Bookshelf` Class \r\n",
    "\r\n",
    "##: Bookssssss\r\n",
    "\r\n",
    "Define a class, `Book`, which will be used to store information about a book.\r\n",
    "\r\n",
    "The `Book` class will hold the following information:\r\n",
    "- `title`: a string with the book's title\r\n",
    "- `author`: a string with the book's author\r\n",
    "- `pages`: an integer representing the number of pages in the book\r\n",
    "- `current_page`: an integer representing the current page you are on (default is 1)\r\n",
    "\r\n",
    "The class should have the following behaviors:\r\n",
    "\r\n",
    "1. **Initialization**:\r\n",
    "    - A new book can be created with `Book('The Great Gatsby', 'F. Scott Fitzgerald', 180)`. If no title is provided, the default title should be `'Untitled'`, and if no author is provided, the default author should be `'Unknown'`. The number of pages must always be specified.\r\n",
    "\r\n",
    "2. **String Representation**:\r\n",
    "    - The string representation of the book should be in the format: `Title by Author. 180 pages.` For example, `The Great Gatsby by F. Scott Fitzgerald. 180 pages.`\r\n",
    "\r\n",
    "3. **Page Navigation**:\r\n",
    "    - Create a method `turn_page(x)` that will move the current page forward by `x` pages. If the resulting page number exceeds the total number of pages, set the current page to the last page.\r\n",
    "    - Create a method `go_back(x)` that will move the current page backward by `x` pages. If the resulting page number is less than 1, set the current page to 1.\r\n",
    "    - Create a method `current_page()` that will return the current page number.\r\n",
    "\r\n",
    "4. **Comparison**:\r\n",
    "    - You should be able to compare one `Book` instance with another `Book` instance by comparing the number of pages in them. The ison ors `<`, `<=`, `>`, `>=`, and `==` should be implemented.\r\n",
    "\r\n",
    "5. **Length**:\r\n",
    "    - The length of the `Book` should be the number of pages. For example, `len(book1)` should return `180`.\n"
   ]
  },
  {
   "cell_type": "code",
   "execution_count": 118,
   "id": "73e4aae2-d54a-4bbc-a6ee-d67447845dba",
   "metadata": {},
   "outputs": [],
   "source": [
    "class Book:\n",
    "    def __init__(self, title=\"Untitled\", author=\"Unknown\", pages=0):\n",
    "        self.title = title\n",
    "        self.author = author\n",
    "        self.pages = pages\n",
    "        self.current_page = 1\n",
    "\n",
    "    def __str__(self):\n",
    "        return f\"{self.title} by {self.author}. {self.pages} pages.\"\n",
    "\n",
    "    def turn_page(self, x):\n",
    "        self.current_page += x\n",
    "        if self.current_page > self.pages:\n",
    "            self.current_page = self.pages\n",
    "\n",
    "    def go_back(self, x):\n",
    "        self.current_page -= x\n",
    "        if self.current_page < 1:\n",
    "            self.current_page = 1\n",
    "\n",
    "    def get_current_page(self):\n",
    "        return self.current_page\n",
    "\n",
    "    def __len__(self):\n",
    "        return self.pages\n",
    "\n",
    "    def __lt__(self, other):\n",
    "        return self.pages < other.pages    \n",
    "\n",
    "    def __le__(self, other):\n",
    "        return self.pages <= other.pages\n",
    "\n",
    "    def __gt__(self, other):\n",
    "        return self.pages > other.pages\n",
    "\n",
    "    def __ge__(self, other):\n",
    "        return self.pages >= other.pages\n",
    "\n",
    "    def __eq__(self, other):\n",
    "        return self.pages == other.pages\n"
   ]
  },
  {
   "cell_type": "markdown",
   "id": "12dc48a6-82e8-4b95-8660-2a84c8f208df",
   "metadata": {},
   "source": [
    "\r\n",
    "### Bookshelf Class\r\n",
    "\r\n",
    "Define a class, `Bookshelf`, which will be used to store multiple `Book` objects.\r\n",
    "\r\n",
    "The `Bookshelf` class will hold the following information:\r\n",
    "- `books`: a list of `Book` objects\r\n",
    "\r\n",
    "The class should have the following behaviors:\r\n",
    "\r\n",
    "1. **Initialization**:\r\n",
    "    - A new bookshelf can be created with `Bookshelf()`, which initializes an empty list of books.\r\n",
    "\r\n",
    "2. **Add Book**:\r\n",
    "    - Create a method `add_book(book)` that adds a `Book` object to the bookshelf.\r\n",
    "\r\n",
    "3. **String Representation**:\r\n",
    "    - The string representation of the bookshelf should list all the books it contains, with each book on a new line. For example:\n",
    "\r\n",
    "    ```plaintext\r\n",
    "    Bookshelf containing:\r\n",
    "    The Great Gatsby by F. Scott Fitzgerald. 180 pages.\r\n",
    "    To Kill a Mockingbird by Harper Lee. 324 pages.\r\n",
    "    ```\r\n",
    "\r\n",
    "4. **Total Pages**:\r\n",
    "    - Create a method `total_pages()` that returns the total number of pages of all books in the bookshelf.\r\n",
    "\r\n",
    "5. **Addition**:\r\n",
    "    - If you add one `Bookshelf` instance with another `Bookshelf` instance, it will create a new `Bookshelf` instance containing all books fro\n",
    "m both bookshelves. For example:\r\n",
    "    ```python\r\n",
    "    shelf1 = Bookshelf()\r\n",
    "    shelf1.add_book(Book('The Great Gatsby', 'F. Scott Fitzgerald', 180))\r\n",
    "    shelf1.add_book(Book('1984', 'George Orwell', 328))\r\n",
    "\r\n",
    "    shelf2 = Bookshelf()\r\n",
    "    shelf2.add_book(Book('To Kill a Mockingbird', 'Harper Lee', 324))\r\n",
    "\r\n",
    "    shelf3 = shelf1 + shelf2\r\n",
    "    print(shelf3)\r\n",
    "    # Outputs:\r\n",
    "    # Bookshelf containing:\r\n",
    "    # The Great Gatsby by F. Scott Fitzgerald. 180 pages.\r\n",
    "    # 1984 by George Orwell. 328 pages.\r\n",
    "    # To Kill a\n",
    "6. **Indexing**:\n",
    "    - Implement the __getitem__ method to return a Book object at a given index. If the index is out of range, raise an IndexError. For example, shelf1[0] should return the first book in the bookshelf. Mockingbird by Harper Lee. 324 pages.\r\n",
    "    ```\r\n"
   ]
  },
  {
   "cell_type": "code",
   "execution_count": 105,
   "id": "1b4ff5b8-19d7-475c-98d8-2be27ce314af",
   "metadata": {},
   "outputs": [],
   "source": [
    "class Bookshelf:\n",
    "    def __init__(self):\n",
    "        self.books = []\n",
    "\n",
    "    def add_book(self, book):\n",
    "        if isinstance(book, Book):\n",
    "            self.books.append(book)\n",
    "        else:\n",
    "            raise TypeError(\"Only instances of Book can be added\")\n",
    "\n",
    "    def __str__(self):\n",
    "        book_descriptions = \"\\n\".join(str(book) for book in self.books)\n",
    "        return f\"Bookshelf containing:\\n{book_descriptions}\"\n",
    "\n",
    "    def total_pages(self):\n",
    "        return sum(len(book) for book in self.books)\n",
    "\n",
    "    def __add__(self, other):\n",
    "        if isinstance(other, Bookshelf):\n",
    "            new_shelf = Bookshelf()\n",
    "            new_shelf.books = self.books + other.books\n",
    "            return new_shelf\n",
    "        else:\n",
    "            raise TypeError(\"Only instances of Bookshelf can be added\")\n",
    "\n",
    "    def __getitem__(self, index):\n",
    "        if index < 0 or index >= len(self.books):\n",
    "            raise IndexError(\"Book index out of range\")\n",
    "        return self.books[index]"
   ]
  },
  {
   "cell_type": "markdown",
   "id": "80785bff-2154-4bae-b960-8d35a59e3e8b",
   "metadata": {},
   "source": [
    "### Test cases [33 PTS]\n",
    "\n",
    "Do not modify the following code. 3 pts per test case"
   ]
  },
  {
   "cell_type": "code",
   "execution_count": 106,
   "id": "3de94596-f79b-4ccc-ad11-9fda01353c14",
   "metadata": {},
   "outputs": [
    {
     "name": "stdout",
     "output_type": "stream",
     "text": [
      "The Great Gatsby by F. Scott Fitzgerald. 180 pages.\n"
     ]
    },
    {
     "data": {
      "text/plain": [
       "True"
      ]
     },
     "execution_count": 106,
     "metadata": {},
     "output_type": "execute_result"
    }
   ],
   "source": [
    "# Test case 1: Initialization and __str__ method\n",
    "book1 = Book('The Great Gatsby', 'F. Scott Fitzgerald', 180)\n",
    "print(book1)\n",
    "str(book1) == 'The Great Gatsby by F. Scott Fitzgerald. 180 pages.'"
   ]
  },
  {
   "cell_type": "code",
   "execution_count": 107,
   "id": "474a0900-3d4d-452b-8b62-a59508c17734",
   "metadata": {},
   "outputs": [
    {
     "data": {
      "text/plain": [
       "True"
      ]
     },
     "execution_count": 107,
     "metadata": {},
     "output_type": "execute_result"
    }
   ],
   "source": [
    "# Test case 2: Default values for title and author\n",
    "book2 = Book(pages=150)\n",
    "str(book2) == 'Untitled by Unknown. 150 pages.'"
   ]
  },
  {
   "cell_type": "code",
   "execution_count": 108,
   "id": "61e3be5b-56f7-4073-bbd7-df2c017d1673",
   "metadata": {},
   "outputs": [
    {
     "name": "stdout",
     "output_type": "stream",
     "text": [
      "True\n"
     ]
    },
    {
     "data": {
      "text/plain": [
       "True"
      ]
     },
     "execution_count": 108,
     "metadata": {},
     "output_type": "execute_result"
    }
   ],
   "source": [
    "# Test case 3: turn_page and current_page methods\n",
    "book1.turn_page(10)\n",
    "print(book1.current_page == 11)\n",
    "book1.turn_page(200)\n",
    "book1.current_page == 180  # Should not exceed the number of pages"
   ]
  },
  {
   "cell_type": "code",
   "execution_count": 109,
   "id": "94dbeae3-ff5b-4bf2-a11d-bf4ed0904f2f",
   "metadata": {},
   "outputs": [
    {
     "name": "stdout",
     "output_type": "stream",
     "text": [
      "True\n"
     ]
    },
    {
     "data": {
      "text/plain": [
       "True"
      ]
     },
     "execution_count": 109,
     "metadata": {},
     "output_type": "execute_result"
    }
   ],
   "source": [
    "# Test case 4: go_back and current_page methods\n",
    "book1.go_back(5)\n",
    "print(book1.current_page == 175)\n",
    "book1.go_back(200)\n",
    "book1.current_page == 1  # Should not go below page 1"
   ]
  },
  {
   "cell_type": "code",
   "execution_count": 113,
   "id": "1d8dd976-2c50-4f85-baf2-72fd56020e02",
   "metadata": {},
   "outputs": [],
   "source": [
    "# Test case 5: Comparison methods\n",
    "book3 = Book('1984', 'George Orwell', 328)\n",
    "assert (book1 < book3) is True\n",
    "assert (book1 <= book3) is True\n",
    "assert (book1 > book3) is False\n",
    "assert (book1 >= book3) is False\n",
    "assert (book1 == book3) is False"
   ]
  },
  {
   "cell_type": "code",
   "execution_count": 114,
   "id": "f595bcba-0732-4024-bdb5-dcb486c894eb",
   "metadata": {},
   "outputs": [
    {
     "name": "stdout",
     "output_type": "stream",
     "text": [
      "180\n",
      "328\n"
     ]
    }
   ],
   "source": [
    "# Test case 6: Length method\n",
    "print(len(book1))\n",
    "print(len(book3))"
   ]
  },
  {
   "cell_type": "code",
   "execution_count": 115,
   "id": "72cd54ea-34c6-4fbd-a00c-582011468bb3",
   "metadata": {},
   "outputs": [
    {
     "name": "stdout",
     "output_type": "stream",
     "text": [
      "Bookshelf containing:\n",
      "The Great Gatsby by F. Scott Fitzgerald. 180 pages.\n",
      "1984 by George Orwell. 328 pages.\n"
     ]
    },
    {
     "data": {
      "text/plain": [
       "True"
      ]
     },
     "execution_count": 115,
     "metadata": {},
     "output_type": "execute_result"
    }
   ],
   "source": [
    "# Test case 7: Initialization and add_book method\n",
    "shelf1 = Bookshelf()\n",
    "book1 = Book('The Great Gatsby', 'F. Scott Fitzgerald', 180)\n",
    "book2 = Book('1984', 'George Orwell', 328)\n",
    "shelf1.add_book(book1)\n",
    "shelf1.add_book(book2)\n",
    "print(shelf1)\n",
    "str(shelf1) == (\"Bookshelf containing:\\n\"\n",
    "                \"The Great Gatsby by F. Scott Fitzgerald. 180 pages.\\n\"\n",
    "                \"1984 by George Orwell. 328 pages.\")"
   ]
  },
  {
   "cell_type": "code",
   "execution_count": 92,
   "id": "cf80fa4f-6e10-438c-82c3-dd71b01282b3",
   "metadata": {},
   "outputs": [
    {
     "name": "stdout",
     "output_type": "stream",
     "text": [
      "508\n"
     ]
    },
    {
     "data": {
      "text/plain": [
       "True"
      ]
     },
     "execution_count": 92,
     "metadata": {},
     "output_type": "execute_result"
    }
   ],
   "source": [
    "# Test case 8: total_pages method\n",
    "print(shelf1.total_pages())\n",
    "shelf1.total_pages() == 508"
   ]
  },
  {
   "cell_type": "code",
   "execution_count": 93,
   "id": "f82a2071-47f3-4ce6-8a77-d9295a192294",
   "metadata": {},
   "outputs": [
    {
     "name": "stdout",
     "output_type": "stream",
     "text": [
      "Bookshelf containing:\n",
      "The Great Gatsby by F. Scott Fitzgerald. 180 pages.\n",
      "1984 by George Orwell. 328 pages.\n",
      "To Kill a Mockingbird by Harper Lee. 324 pages.\n"
     ]
    },
    {
     "data": {
      "text/plain": [
       "True"
      ]
     },
     "execution_count": 93,
     "metadata": {},
     "output_type": "execute_result"
    }
   ],
   "source": [
    "# Test case 9: Adding two Bookshelf instances\n",
    "shelf2 = Bookshelf()\n",
    "book3 = Book('To Kill a Mockingbird', 'Harper Lee', 324)\n",
    "shelf2.add_book(book3)\n",
    "shelf3 = shelf1 + shelf2\n",
    "print(shelf3)\n",
    "str(shelf3) == (\"Bookshelf containing:\\n\"\n",
    "                \"The Great Gatsby by F. Scott Fitzgerald. 180 pages.\\n\"\n",
    "                \"1984 by George Orwell. 328 pages.\\n\"\n",
    "                \"To Kill a Mockingbird by Harper Lee. 324 pages.\")"
   ]
  },
  {
   "cell_type": "code",
   "execution_count": 116,
   "id": "89ffc52e-ac9c-42d3-b751-9b47ae23a6b1",
   "metadata": {},
   "outputs": [
    {
     "name": "stdout",
     "output_type": "stream",
     "text": [
      "832\n"
     ]
    },
    {
     "data": {
      "text/plain": [
       "True"
      ]
     },
     "execution_count": 116,
     "metadata": {},
     "output_type": "execute_result"
    }
   ],
   "source": [
    "# Test case 10: total_pages method after adding shelves\n",
    "print(shelf3.total_pages())\n",
    "shelf3.total_pages() == 832"
   ]
  },
  {
   "cell_type": "code",
   "execution_count": 117,
   "id": "f06f3e8f-0639-4d41-9d47-5f3c7c9ffd24",
   "metadata": {},
   "outputs": [
    {
     "name": "stdout",
     "output_type": "stream",
     "text": [
      "To Kill a Mockingbird by Harper Lee. 324 pages.\n"
     ]
    }
   ],
   "source": [
    "# Test case 11: retrieving books from shelves\n",
    "print(shelf3[2]) "
   ]
  }
 ],
 "metadata": {
  "kernelspec": {
   "display_name": "Python 3 (ipykernel)",
   "language": "python",
   "name": "python3"
  },
  "language_info": {
   "codemirror_mode": {
    "name": "ipython",
    "version": 3
   },
   "file_extension": ".py",
   "mimetype": "text/x-python",
   "name": "python",
   "nbconvert_exporter": "python",
   "pygments_lexer": "ipython3",
   "version": "3.11.7"
  }
 },
 "nbformat": 4,
 "nbformat_minor": 5
}
