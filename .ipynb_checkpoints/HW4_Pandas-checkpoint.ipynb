{
 "cells": [
  {
   "cell_type": "markdown",
   "metadata": {},
   "source": [
    "# HW4: Occupation Dataset"
   ]
  },
  {
   "cell_type": "markdown",
   "metadata": {},
   "source": [
    "### Introduction:\n",
    "\n",
    "Special thanks to: https://github.com/guipsamora for sharing his datasets, materials, and questions.\n",
    "\n",
    "- https://github.com/justmarkham for sharing the dataset and materials.\n"
   ]
  },
  {
   "cell_type": "code",
   "execution_count": 59,
   "metadata": {},
   "outputs": [],
   "source": [
    "### Import the necessary libraries\n",
    "import pandas as pd\n",
    "import matplotlib.pyplot as plt"
   ]
  },
  {
   "cell_type": "code",
   "execution_count": 60,
   "metadata": {},
   "outputs": [],
   "source": [
    "### Please note that the following data set is from the US in the 20th century.\n",
    "### Gender proportions for occupations and ages are thus reflective of that era.\n",
    "### Import the dataset from this address.\n",
    "### https://raw.githubusercontent.com/justmarkham/DAT8/master/data/u.user\n",
    "### Assign it to a variable called users and use the 'user_id' as index\n",
    "users = pd.read_csv('https://raw.githubusercontent.com/justmarkham/DAT8/master/data/u.user', \n",
    "                      sep='|', index_col='user_id')"
   ]
  },
  {
   "cell_type": "code",
   "execution_count": 61,
   "metadata": {},
   "outputs": [
    {
     "data": {
      "text/html": [
       "<div>\n",
       "<style scoped>\n",
       "    .dataframe tbody tr th:only-of-type {\n",
       "        vertical-align: middle;\n",
       "    }\n",
       "\n",
       "    .dataframe tbody tr th {\n",
       "        vertical-align: top;\n",
       "    }\n",
       "\n",
       "    .dataframe thead th {\n",
       "        text-align: right;\n",
       "    }\n",
       "</style>\n",
       "<table border=\"1\" class=\"dataframe\">\n",
       "  <thead>\n",
       "    <tr style=\"text-align: right;\">\n",
       "      <th></th>\n",
       "      <th>age</th>\n",
       "      <th>gender</th>\n",
       "      <th>occupation</th>\n",
       "      <th>zip_code</th>\n",
       "    </tr>\n",
       "    <tr>\n",
       "      <th>user_id</th>\n",
       "      <th></th>\n",
       "      <th></th>\n",
       "      <th></th>\n",
       "      <th></th>\n",
       "    </tr>\n",
       "  </thead>\n",
       "  <tbody>\n",
       "    <tr>\n",
       "      <th>1</th>\n",
       "      <td>24</td>\n",
       "      <td>M</td>\n",
       "      <td>technician</td>\n",
       "      <td>85711</td>\n",
       "    </tr>\n",
       "    <tr>\n",
       "      <th>2</th>\n",
       "      <td>53</td>\n",
       "      <td>F</td>\n",
       "      <td>other</td>\n",
       "      <td>94043</td>\n",
       "    </tr>\n",
       "    <tr>\n",
       "      <th>3</th>\n",
       "      <td>23</td>\n",
       "      <td>M</td>\n",
       "      <td>writer</td>\n",
       "      <td>32067</td>\n",
       "    </tr>\n",
       "    <tr>\n",
       "      <th>4</th>\n",
       "      <td>24</td>\n",
       "      <td>M</td>\n",
       "      <td>technician</td>\n",
       "      <td>43537</td>\n",
       "    </tr>\n",
       "    <tr>\n",
       "      <th>5</th>\n",
       "      <td>33</td>\n",
       "      <td>F</td>\n",
       "      <td>other</td>\n",
       "      <td>15213</td>\n",
       "    </tr>\n",
       "    <tr>\n",
       "      <th>...</th>\n",
       "      <td>...</td>\n",
       "      <td>...</td>\n",
       "      <td>...</td>\n",
       "      <td>...</td>\n",
       "    </tr>\n",
       "    <tr>\n",
       "      <th>939</th>\n",
       "      <td>26</td>\n",
       "      <td>F</td>\n",
       "      <td>student</td>\n",
       "      <td>33319</td>\n",
       "    </tr>\n",
       "    <tr>\n",
       "      <th>940</th>\n",
       "      <td>32</td>\n",
       "      <td>M</td>\n",
       "      <td>administrator</td>\n",
       "      <td>02215</td>\n",
       "    </tr>\n",
       "    <tr>\n",
       "      <th>941</th>\n",
       "      <td>20</td>\n",
       "      <td>M</td>\n",
       "      <td>student</td>\n",
       "      <td>97229</td>\n",
       "    </tr>\n",
       "    <tr>\n",
       "      <th>942</th>\n",
       "      <td>48</td>\n",
       "      <td>F</td>\n",
       "      <td>librarian</td>\n",
       "      <td>78209</td>\n",
       "    </tr>\n",
       "    <tr>\n",
       "      <th>943</th>\n",
       "      <td>22</td>\n",
       "      <td>M</td>\n",
       "      <td>student</td>\n",
       "      <td>77841</td>\n",
       "    </tr>\n",
       "  </tbody>\n",
       "</table>\n",
       "<p>943 rows × 4 columns</p>\n",
       "</div>"
      ],
      "text/plain": [
       "         age gender     occupation zip_code\n",
       "user_id                                    \n",
       "1         24      M     technician    85711\n",
       "2         53      F          other    94043\n",
       "3         23      M         writer    32067\n",
       "4         24      M     technician    43537\n",
       "5         33      F          other    15213\n",
       "...      ...    ...            ...      ...\n",
       "939       26      F        student    33319\n",
       "940       32      M  administrator    02215\n",
       "941       20      M        student    97229\n",
       "942       48      F      librarian    78209\n",
       "943       22      M        student    77841\n",
       "\n",
       "[943 rows x 4 columns]"
      ]
     },
     "execution_count": 61,
     "metadata": {},
     "output_type": "execute_result"
    }
   ],
   "source": [
    "# Problem 1. Print the data frame. By default,\n",
    "# Pandas prints the first few rows and the last few rows.\n",
    "# This exercise has already been done for you\n",
    "users"
   ]
  },
  {
   "cell_type": "code",
   "execution_count": 62,
   "metadata": {},
   "outputs": [
    {
     "name": "stdout",
     "output_type": "stream",
     "text": [
      " 943 observations and 4 columns.\n"
     ]
    }
   ],
   "source": [
    "# Problem 2. How many observations and columns are in the data?\n",
    "# Run the necessary command that will output the answer.\n",
    "num_rows, num_columns = users.shape\n",
    "print(f' {num_rows} observations and {num_columns} columns.')"
   ]
  },
  {
   "cell_type": "code",
   "execution_count": 63,
   "metadata": {},
   "outputs": [
    {
     "data": {
      "text/plain": [
       "21"
      ]
     },
     "execution_count": 63,
     "metadata": {},
     "output_type": "execute_result"
    }
   ],
   "source": [
    "# Problem 3. How many different occupations there are in this dataset?\n",
    "different_occupations = users['occupation'].unique()\n",
    "num_occupations = len(different_occupations)\n",
    "num_occupations"
   ]
  },
  {
   "cell_type": "code",
   "execution_count": 64,
   "metadata": {},
   "outputs": [
    {
     "name": "stdout",
     "output_type": "stream",
     "text": [
      "student, 196 people.\n"
     ]
    }
   ],
   "source": [
    "# Problem 4. What is the most frequent occupation?\n",
    "most_frequent_occupation = users['occupation'].value_counts().idxmax()\n",
    "frequency = users['occupation'].value_counts().max()\n",
    "print(f'{most_frequent_occupation}, {frequency} people.')"
   ]
  },
  {
   "cell_type": "code",
   "execution_count": 65,
   "metadata": {},
   "outputs": [
    {
     "name": "stdout",
     "output_type": "stream",
     "text": [
      "   occupation  age\n",
      "      student 22.1\n",
      "         none 26.6\n",
      "entertainment 29.2\n",
      "       artist 31.4\n",
      "    homemaker 32.6\n",
      "   programmer 33.1\n",
      "   technician 33.1\n",
      "        other 34.5\n",
      "    scientist 35.5\n",
      "     salesman 35.7\n",
      "       writer 36.3\n",
      "     engineer 36.4\n",
      "       lawyer 36.8\n",
      "    marketing 37.6\n",
      "    executive 38.7\n",
      "administrator 38.7\n",
      "    librarian 40.0\n",
      "   healthcare 41.6\n",
      "     educator 42.0\n",
      "       doctor 43.6\n",
      "      retired 63.1\n",
      "\n",
      "Three occupations with the lowest mean age:\n",
      "   occupation  age\n",
      "      student 22.1\n",
      "         none 26.6\n",
      "entertainment 29.2\n",
      "\n",
      "Three occupations with the highest mean age:\n",
      "occupation  age\n",
      "  educator 42.0\n",
      "    doctor 43.6\n",
      "   retired 63.1\n"
     ]
    }
   ],
   "source": [
    "# Problem 5. Discover what is the mean age per occupation.\n",
    "# Sort the results and find the 3 occupations with the lowest mean age and the 3 with the highest\n",
    "mean_age_per_occupation = users.groupby('occupation')['age'].mean().round(1)\n",
    "\n",
    "sorted_mean_age = mean_age_per_occupation.sort_values()\n",
    "\n",
    "lowest_mean_age = sorted_mean_age.head(3)\n",
    "\n",
    "highest_mean_age = sorted_mean_age.tail(3)\n",
    "\n",
    "sorted_mean_age_df = sorted_mean_age.reset_index()\n",
    "lowest_mean_age_df = lowest_mean_age.reset_index()\n",
    "highest_mean_age_df = highest_mean_age.reset_index()\n",
    "\n",
    "print(sorted_mean_age_df.to_string(index=False))\n",
    "\n",
    "\n",
    "print(\"\\nThree occupations with the lowest mean age:\")\n",
    "print(lowest_mean_age_df.to_string(index=False))\n",
    "\n",
    "print(\"\\nThree occupations with the highest mean age:\")\n",
    "print(highest_mean_age_df.to_string(index=False))"
   ]
  },
  {
   "cell_type": "code",
   "execution_count": 66,
   "metadata": {},
   "outputs": [
    {
     "name": "stdout",
     "output_type": "stream",
     "text": [
      "   occupation  male proportion\n",
      "       doctor         1.000000\n",
      "     engineer         0.970149\n",
      "   technician         0.962963\n",
      "      retired         0.928571\n",
      "   programmer         0.909091\n",
      "    executive         0.906250\n",
      "    scientist         0.903226\n",
      "entertainment         0.888889\n",
      "       lawyer         0.833333\n",
      "     salesman         0.750000\n",
      "     educator         0.726316\n",
      "      student         0.693878\n",
      "        other         0.657143\n",
      "    marketing         0.615385\n",
      "       writer         0.577778\n",
      "         none         0.555556\n",
      "administrator         0.544304\n",
      "       artist         0.535714\n",
      "    librarian         0.431373\n",
      "   healthcare         0.312500\n",
      "    homemaker         0.142857\n"
     ]
    }
   ],
   "source": [
    "# Problem 6. Find the proportion of males by occupation and sort it from the most to the least\n",
    "gender_counts = users.groupby(['occupation', 'gender']).size().unstack(fill_value=0)\n",
    "gender_counts['male proportion'] = gender_counts['M'] / (gender_counts['M'] + gender_counts['F'])\n",
    "sorted_gender_counts = gender_counts['male proportion'].sort_values(ascending=False)\n",
    "sorted_gender_counts_df = sorted_gender_counts.reset_index()\n",
    "print(sorted_gender_counts_df.to_string(index=False))\n"
   ]
  },
  {
   "cell_type": "code",
   "execution_count": 67,
   "metadata": {},
   "outputs": [
    {
     "name": "stdout",
     "output_type": "stream",
     "text": [
      "   occupation  min  max\n",
      "administrator   21   70\n",
      "       artist   19   48\n",
      "       doctor   28   64\n",
      "     educator   23   63\n",
      "     engineer   22   70\n",
      "entertainment   15   50\n",
      "    executive   22   69\n",
      "   healthcare   22   62\n",
      "    homemaker   20   50\n",
      "       lawyer   21   53\n",
      "    librarian   23   69\n",
      "    marketing   24   55\n",
      "         none   11   55\n",
      "        other   13   64\n",
      "   programmer   20   63\n",
      "      retired   51   73\n",
      "     salesman   18   66\n",
      "    scientist   23   55\n",
      "      student    7   42\n",
      "   technician   21   55\n",
      "       writer   18   60\n"
     ]
    }
   ],
   "source": [
    "# Problem 7. For each occupation, calculate the minimum and maximum ages\n",
    "# See groupby and agg() to perform multiple aggregate functions at once\n",
    "age_stats = users.groupby('occupation')['age'].agg(['min', 'max'])\n",
    "age_stats_df = age_stats.reset_index()\n",
    "print(age_stats_df.to_string(index=False))"
   ]
  },
  {
   "cell_type": "code",
   "execution_count": 68,
   "metadata": {},
   "outputs": [
    {
     "name": "stdout",
     "output_type": "stream",
     "text": [
      "gender            F     M\n",
      "occupation               \n",
      "student        20.8  22.7\n",
      "salesman       27.0  38.6\n",
      "scientist      28.3  36.3\n",
      "engineer       29.5  36.6\n",
      "artist         30.3  32.3\n",
      "entertainment  31.0  29.0\n",
      "programmer     32.2  33.2\n",
      "homemaker      34.2  23.0\n",
      "other          35.5  34.0\n",
      "none           36.5  18.6\n",
      "marketing      37.2  37.9\n",
      "writer         37.6  35.3\n",
      "technician     38.0  33.0\n",
      "educator       39.1  43.1\n",
      "lawyer         39.5  36.2\n",
      "healthcare     39.8  45.4\n",
      "librarian      40.0  40.0\n",
      "administrator  40.6  37.2\n",
      "executive      44.0  38.2\n",
      "retired        70.0  62.5\n",
      "doctor          NaN  43.6\n"
     ]
    }
   ],
   "source": [
    "# Problem 8. For each combination of occupation and gender, calculate the mean age.\n",
    "# Arrange the results in a table so each row is an occupation, and you have a \n",
    "# column of the average male age and another column with the average female age.\n",
    "# Sort the resulting table by Female mean age from least to greatest\n",
    "\n",
    "mean_age_per_occupation = users.groupby(['occupation', 'gender'])['age'].mean().round(1)\n",
    "table = mean_age_per_occupation.unstack()\n",
    "sorted_table = pivot_table.sort_values(by='F')\n",
    "print(sorted_pivot_table.to_string(index=True))\n"
   ]
  },
  {
   "cell_type": "code",
   "execution_count": 69,
   "metadata": {},
   "outputs": [
    {
     "name": "stdout",
     "output_type": "stream",
     "text": [
      "gender          F    M\n",
      "occupation            \n",
      "administrator  36   43\n",
      "artist         13   15\n",
      "doctor          0    7\n",
      "educator       26   69\n",
      "engineer        2   65\n",
      "entertainment   2   16\n",
      "executive       3   29\n",
      "healthcare     11    5\n",
      "homemaker       6    1\n",
      "lawyer          2   10\n",
      "librarian      29   22\n",
      "marketing      10   16\n",
      "none            4    5\n",
      "other          36   69\n",
      "programmer      6   60\n",
      "retired         1   13\n",
      "salesman        3    9\n",
      "scientist       3   28\n",
      "student        60  136\n",
      "technician      1   26\n",
      "writer         19   26\n"
     ]
    }
   ],
   "source": [
    "# Problem 9. For each occupation find the count of women and men\n",
    "# Arrange the results in a table so each row is an occupation, similar to above\n",
    "gender_counts_per_occupation = users.groupby(['occupation', 'gender']).size().unstack(fill_value=0)\n",
    "print(gender_counts_per_occupation.to_string(index=True))"
   ]
  },
  {
   "cell_type": "code",
   "execution_count": 70,
   "metadata": {},
   "outputs": [
    {
     "name": "stdout",
     "output_type": "stream",
     "text": [
      "gender                F         M\n",
      "occupation                       \n",
      "homemaker      0.857143  0.142857\n",
      "healthcare     0.687500  0.312500\n",
      "librarian      0.568627  0.431373\n",
      "artist         0.464286  0.535714\n",
      "administrator  0.455696  0.544304\n",
      "none           0.444444  0.555556\n",
      "writer         0.422222  0.577778\n",
      "marketing      0.384615  0.615385\n",
      "other          0.342857  0.657143\n",
      "student        0.306122  0.693878\n",
      "educator       0.273684  0.726316\n",
      "salesman       0.250000  0.750000\n",
      "lawyer         0.166667  0.833333\n",
      "entertainment  0.111111  0.888889\n",
      "scientist      0.096774  0.903226\n",
      "executive      0.093750  0.906250\n",
      "programmer     0.090909  0.909091\n",
      "retired        0.071429  0.928571\n",
      "technician     0.037037  0.962963\n",
      "engineer       0.029851  0.970149\n",
      "doctor         0.000000  1.000000\n"
     ]
    }
   ],
   "source": [
    "# Problem 10. Turn the counts above into proportions. e.g administrator 0.455696 0.544304\n",
    "# Arrange results in increasing order of proportion men\n",
    "gender_proportions_per_occupation = gender_counts_per_occupation.div(gender_counts_per_occupation.sum(axis=1), axis=0)\n",
    "sorted_proportions = gender_proportions_per_occupation.sort_values(by='M')\n",
    "print(sorted_proportions.to_string(index=True))"
   ]
  },
  {
   "cell_type": "code",
   "execution_count": 71,
   "metadata": {},
   "outputs": [
    {
     "data": {
      "image/png": "[encoded data removed]",
      "text/plain": [
       "<Figure size 1200x800 with 1 Axes>"
      ]
     },
     "metadata": {},
     "output_type": "display_data"
    }
   ],
   "source": [
    "# Create a stacked barchart showing the results above\n",
    "sorted_proportions.plot(kind='bar', stacked=True, figsize=(12, 8), color=['skyblue', 'salmon'])\n",
    "\n",
    "plt.xlabel('Occupation')\n",
    "plt.ylabel('Proportion')\n",
    "plt.title('Proportion of Gender by Occupation')\n",
    "plt.legend(title='Gender')\n",
    "plt.xticks(rotation=45, ha='right')\n",
    "plt.tight_layout()\n",
    "plt.show()"
   ]
  },
  {
   "cell_type": "code",
   "execution_count": 72,
   "metadata": {},
   "outputs": [],
   "source": [
    "# Extract the first digit of each zip code \n",
    "# and create a new column called 'region' that maps the\n",
    "# first digit of the zip to new values using this dictionary:\n",
    "d = {'0': 'New England',\n",
    "'1': 'Mid-Atlantic',\n",
    "'2': 'Central East Coast',\n",
    "'3': 'The South',\n",
    "'4': 'Midwest',\n",
    "'5': 'Northern Great Plains',\n",
    "'6': 'Central Great Plains',\n",
    "'7': 'Southern Central',\n",
    "'8': 'Mountain Desert',\n",
    "'9': 'West Coast'} \n",
    "\n",
    "# print the first 5 rows of the result\n",
    "# postal codes that begin with a letter are actually Canadian but are missing the last digit. These rows can be ignored."
   ]
  },
  {
   "cell_type": "code",
   "execution_count": 73,
   "metadata": {},
   "outputs": [
    {
     "name": "stdout",
     "output_type": "stream",
     "text": [
      "         age gender  occupation zip_code           region\n",
      "user_id                                                  \n",
      "1         24      M  technician    85711  Mountain Desert\n",
      "2         53      F       other    94043       West Coast\n",
      "3         23      M      writer    32067        The South\n",
      "4         24      M  technician    43537          Midwest\n",
      "5         33      F       other    15213     Mid-Atlantic\n"
     ]
    }
   ],
   "source": [
    "users['region'] = users['zip_code'].astype(str).str[0].map(d)\n",
    "users = users[users['region'].notna()]\n",
    "print(users.head())"
   ]
  },
  {
   "cell_type": "code",
   "execution_count": 74,
   "metadata": {},
   "outputs": [
    {
     "name": "stdout",
     "output_type": "stream",
     "text": [
      "region\n",
      "Central East Coast       60.0\n",
      "Central Great Plains     59.5\n",
      "Mid-Atlantic             60.0\n",
      "Midwest                  69.0\n",
      "New England              65.0\n",
      "Northern Great Plains    61.0\n",
      "The South                73.0\n",
      "West Coast               60.5\n",
      "Name: age, dtype: float64\n"
     ]
    }
   ],
   "source": [
    "retired = users[users['occupation'] == 'retired']\n",
    "mean_retired = retired.groupby('region')['age'].mean().round(1)\n",
    "print(mean_retired)"
   ]
  }
 ],
 "metadata": {
  "kernelspec": {
   "display_name": "Python 3 (ipykernel)",
   "language": "python",
   "name": "python3"
  },
  "language_info": {
   "codemirror_mode": {
    "name": "ipython",
    "version": 3
   },
   "file_extension": ".py",
   "mimetype": "text/x-python",
   "name": "python",
   "nbconvert_exporter": "python",
   "pygments_lexer": "ipython3",
   "version": "3.11.7"
  }
 },
 "nbformat": 4,
 "nbformat_minor": 4
}
