{
 "cells": [
  {
   "cell_type": "markdown",
   "metadata": {},
   "source": [
    "# Stats 21 - HW 2"
   ]
  },
  {
   "cell_type": "markdown",
   "metadata": {},
   "source": [
    "The questions have been entered into this document. You will modify the document by entering your code.\n",
    "\n",
    "Make sure you run the cell so the requested output is visible. Download the finished document as a PDF file. If you are unable to convert it to a PDF, you can download it as an HTML file and then print to PDF.\n",
    "\n",
    "**Homework is an opportunity to practice coding and to practice problem solving. Doing exercises is where you will do most of your learning.**\n",
    "\n",
    "**Copying someone else's solutions takes away your learning opportunities. It is also academic dishonesty.**"
   ]
  },
  {
   "cell_type": "markdown",
   "metadata": {},
   "source": [
    "## Reading\n",
    "\n",
    "- Think Python: Chapters 6 through 10\n",
    "\n",
    "**Reading is important!** Keep up with the reading. I recommend alternating between reading a chapter and then working on exercises.\n",
    "\n",
    "Additional recommended reading:\n",
    "\n",
    "- String methods documentation https://docs.python.org/3/library/stdtypes.html#string-methods"
   ]
  },
  {
   "cell_type": "markdown",
   "metadata": {},
   "source": [
    "## Textbook Chapter 5 Problems"
   ]
  },
  {
   "cell_type": "markdown",
   "metadata": {},
   "source": [
    "## Exercise 5.1"
   ]
  },
  {
   "cell_type": "code",
   "execution_count": 177,
   "metadata": {},
   "outputs": [],
   "source": [
    "import time"
   ]
  },
  {
   "cell_type": "code",
   "execution_count": 178,
   "metadata": {},
   "outputs": [
    {
     "data": {
      "text/plain": [
       "1714258112.983198"
      ]
     },
     "execution_count": 178,
     "metadata": {},
     "output_type": "execute_result"
    }
   ],
   "source": [
    "time.time()"
   ]
  },
  {
   "cell_type": "markdown",
   "metadata": {},
   "source": [
    "Write a function `now()` that reads the current time and prints out the time of day in hours, minutes, and\n",
    "seconds, plus the number of days since the epoch. The function does not need to return a value, just print output to the screen.\n",
    "\n",
    "The result should look like:\n",
    "\n",
    "\"Current time is: 15:25:47. It has been 18370 days since the epoch.\"\n",
    "\n",
    "Use `int()` to drop decimal values. You do not need to try to find the date with years and months.\n",
    "\n",
    "Tip: build your function incrementally. Start by finding how many days have passed since the epoch. (check your answer at the bottom of the page: https://www.epochconverter.com/seconds-days-since-y0 )  From there find how many hours, etc. Keep in mind the hours will be UTC time."
   ]
  },
  {
   "cell_type": "code",
   "execution_count": 195,
   "metadata": {},
   "outputs": [],
   "source": [
    "def now():\n",
    "    secs_all = int(time.time())\n",
    "    epoch = secs_all // 86400\n",
    "    current_seconds = secs_all % 86400\n",
    "    hours = current_seconds // 3600\n",
    "    minutes = (current_seconds % 3600) // 60\n",
    "    seconds = current_seconds % 60\n",
    "    print(f\"Current time is: {hours:02d}:{minutes:02d}:{seconds:02d}. It has been {epoch} days since the epoch.\")\n"
   ]
  },
  {
   "cell_type": "code",
   "execution_count": 194,
   "metadata": {},
   "outputs": [
    {
     "name": "stdout",
     "output_type": "stream",
     "text": [
      "Current time is: 22:57:15. It has been 19840 days since the epoch.\n"
     ]
    }
   ],
   "source": [
    "now()"
   ]
  },
  {
   "cell_type": "markdown",
   "metadata": {},
   "source": [
    "## Textbook Chapter 6 Problems"
   ]
  },
  {
   "cell_type": "markdown",
   "metadata": {},
   "source": [
    "## Exercise 6.2\n",
    "\n",
    "The Ackermann function, A(m, n), is deﬁned:\n",
    "\n",
    "$$\n",
    "A(m, n)= \\left \\{                 \n",
    "    \\begin{array}{ll}\n",
    "        n+1 & \\text{if } m = 0\\\\\n",
    "        A(m-1, 1) & \\text{if } m > 0 \\text{ and } n = 0\\\\\n",
    "        A(m-1, A(m, n-1)) & \\text{if } m > 0 \\text{ and } n > 0\\\\\n",
    "    \\end{array}\n",
    " \\right.\n",
    "$$\n",
    "\n",
    "\n",
    "See http://en.wikipedia.org/wiki/Ackermann_function . Write a function named `ack` that evaluates the Ackermann function. Use your function to evaluate a few test cases. Don't test with $m \\ge 4$ as it grows very fast very quickly."
   ]
  },
  {
   "cell_type": "code",
   "execution_count": 6,
   "metadata": {},
   "outputs": [],
   "source": [
    "def ack(m,n):\n",
    "    if m == 0:\n",
    "        return n + 1\n",
    "    elif m > 0 and n == 0:\n",
    "        return ack(m - 1, 1)\n",
    "    else:  \n",
    "        return ack(m - 1, ack(m, n - 1))\n",
    "        "
   ]
  },
  {
   "cell_type": "code",
   "execution_count": 8,
   "metadata": {},
   "outputs": [
    {
     "data": {
      "text/plain": [
       "61"
      ]
     },
     "execution_count": 8,
     "metadata": {},
     "output_type": "execute_result"
    }
   ],
   "source": [
    "# test case, should be 61\n",
    "ack(3, 3)"
   ]
  },
  {
   "cell_type": "code",
   "execution_count": 5,
   "metadata": {},
   "outputs": [
    {
     "data": {
      "text/plain": [
       "125"
      ]
     },
     "execution_count": 5,
     "metadata": {},
     "output_type": "execute_result"
    }
   ],
   "source": [
    "# test case, should be 125\n",
    "ack(3, 4)"
   ]
  },
  {
   "cell_type": "markdown",
   "metadata": {},
   "source": [
    "## Exercise 6.4\n",
    "\n",
    "A number, `a`, is a power of `b` if it is divisible by `b` and `a/b` is a power of `b`. Write a function called `is_power` that takes parameters `a` and `b` and returns `True` if a is a power of b. Note: you will have to think about the base case."
   ]
  },
  {
   "cell_type": "code",
   "execution_count": 15,
   "metadata": {},
   "outputs": [],
   "source": [
    "def is_power(a, b):\n",
    "    if a == 1:\n",
    "        return True\n",
    "    elif a < b or (b == 1 and a != 1):\n",
    "        return False\n",
    "    elif a % b == 0:\n",
    "        return is_power(a // b, b)\n",
    "    else:\n",
    "        return False\n"
   ]
  },
  {
   "cell_type": "code",
   "execution_count": 10,
   "metadata": {},
   "outputs": [
    {
     "data": {
      "text/plain": [
       "True"
      ]
     },
     "execution_count": 10,
     "metadata": {},
     "output_type": "execute_result"
    }
   ],
   "source": [
    "is_power(1024, 2)"
   ]
  },
  {
   "cell_type": "code",
   "execution_count": 11,
   "metadata": {},
   "outputs": [
    {
     "data": {
      "text/plain": [
       "True"
      ]
     },
     "execution_count": 11,
     "metadata": {},
     "output_type": "execute_result"
    }
   ],
   "source": [
    "is_power(6561, 3)"
   ]
  },
  {
   "cell_type": "code",
   "execution_count": 12,
   "metadata": {},
   "outputs": [
    {
     "data": {
      "text/plain": [
       "False"
      ]
     },
     "execution_count": 12,
     "metadata": {},
     "output_type": "execute_result"
    }
   ],
   "source": [
    "is_power(4374, 3)"
   ]
  },
  {
   "cell_type": "code",
   "execution_count": 13,
   "metadata": {},
   "outputs": [
    {
     "data": {
      "text/plain": [
       "False"
      ]
     },
     "execution_count": 13,
     "metadata": {},
     "output_type": "execute_result"
    }
   ],
   "source": [
    "is_power(768, 2)"
   ]
  },
  {
   "cell_type": "markdown",
   "metadata": {},
   "source": [
    "## Exercise 6.5\n",
    "\n",
    "The greatest common divisor (GCD) of a and b is the largest number that divides both of them with no remainder.\n",
    "\n",
    "One way to ﬁnd the GCD of two numbers is based on the observation that if `r` is the remainder when `a` is divided by `b`, then `gcd(a, b) = gcd(b, r)`.\n",
    "\n",
    "As a base case, we can use `gcd(a, 0) = a`.\n",
    "\n",
    "Write a function called `gcd` that takes parameters `a` and `b` and returns their greatest common divisor."
   ]
  },
  {
   "cell_type": "code",
   "execution_count": 18,
   "metadata": {},
   "outputs": [],
   "source": [
    "def gcd(a, b):\n",
    "    while b != 0:\n",
    "        a, b = b, a % b\n",
    "    return a"
   ]
  },
  {
   "cell_type": "code",
   "execution_count": 19,
   "metadata": {},
   "outputs": [
    {
     "data": {
      "text/plain": [
       "7"
      ]
     },
     "execution_count": 19,
     "metadata": {},
     "output_type": "execute_result"
    }
   ],
   "source": [
    "gcd(21, 7)"
   ]
  },
  {
   "cell_type": "code",
   "execution_count": 20,
   "metadata": {},
   "outputs": [
    {
     "data": {
      "text/plain": [
       "14"
      ]
     },
     "execution_count": 20,
     "metadata": {},
     "output_type": "execute_result"
    }
   ],
   "source": [
    "gcd(42, 28)"
   ]
  },
  {
   "cell_type": "code",
   "execution_count": 21,
   "metadata": {},
   "outputs": [
    {
     "data": {
      "text/plain": [
       "35"
      ]
     },
     "execution_count": 21,
     "metadata": {},
     "output_type": "execute_result"
    }
   ],
   "source": [
    "gcd(105, 140)"
   ]
  },
  {
   "cell_type": "markdown",
   "metadata": {},
   "source": [
    "## Textbook Chapter 7 Problems"
   ]
  },
  {
   "cell_type": "markdown",
   "metadata": {},
   "source": [
    "## Exercise 7.1\n",
    "\n",
    "Copy the loop from Section 7.5 on square roots and encapsulate it into a function called `mysqrt()` that takes `a` as a parameter. For a starting value `x` use `a/2`. It then iterates through the code to estimate the square root of a value.\n",
    "\n",
    "Write another function called `test_square_root(start, end)` that will print out a table as shown in the textbook."
   ]
  },
  {
   "cell_type": "code",
   "execution_count": 125,
   "metadata": {},
   "outputs": [],
   "source": [
    "import math\n",
    "def mysqrt(a):\n",
    "    x = a / 2\n",
    "    while True:\n",
    "        y = (x + a / x) / 2\n",
    "        if y == x:\n",
    "            break\n",
    "        x = y\n",
    "    return x\n",
    "\n",
    "def test_square_root(start, end):\n",
    "    print(\"a    mysqrt(a)    math.sqrt(a)    diff\")\n",
    "    print(f\"{'-  '} {'-' * 13} {'-------------- '} {'-' * 4}\")\n",
    "    \n",
    "    while start <= end:\n",
    "        print(f\"{start:<3.1f} {mysqrt(start):<14.12g} {math.sqrt(start):<14.12g} {abs(mysqrt(start) - math.sqrt(start)):<16.12g}\")\n",
    "        start += 1\n"
   ]
  },
  {
   "cell_type": "code",
   "execution_count": 126,
   "metadata": {
    "tags": [
     "raises-exception"
    ]
   },
   "outputs": [
    {
     "name": "stdout",
     "output_type": "stream",
     "text": [
      "a    mysqrt(a)    math.sqrt(a)    diff\n",
      "-   ------------- --------------  ----\n",
      "1.0 1              1              0               \n",
      "2.0 1.41421356237  1.41421356237  2.22044604925e-16\n",
      "3.0 1.73205080757  1.73205080757  0               \n",
      "4.0 2              2              0               \n",
      "5.0 2.2360679775   2.2360679775   0               \n",
      "6.0 2.44948974278  2.44948974278  0               \n",
      "7.0 2.64575131106  2.64575131106  0               \n",
      "8.0 2.82842712475  2.82842712475  4.4408920985e-16\n",
      "9.0 3              3              0               \n"
     ]
    }
   ],
   "source": [
    "# test code, do not modify:\n",
    "test_square_root(1.0, 9.0)"
   ]
  },
  {
   "cell_type": "code",
   "execution_count": 127,
   "metadata": {
    "tags": [
     "raises-exception"
    ]
   },
   "outputs": [
    {
     "name": "stdout",
     "output_type": "stream",
     "text": [
      "a    mysqrt(a)    math.sqrt(a)    diff\n",
      "-   ------------- --------------  ----\n",
      "30.0 5.47722557505  5.47722557505  0               \n",
      "31.0 5.56776436283  5.56776436283  8.881784197e-16 \n",
      "32.0 5.65685424949  5.65685424949  8.881784197e-16 \n",
      "33.0 5.74456264654  5.74456264654  0               \n",
      "34.0 5.83095189485  5.83095189485  0               \n",
      "35.0 5.9160797831   5.9160797831   0               \n"
     ]
    }
   ],
   "source": [
    "test_square_root(30, 35)"
   ]
  },
  {
   "cell_type": "markdown",
   "metadata": {},
   "source": [
    "## Textbook Chapter 9 Problems"
   ]
  },
  {
   "cell_type": "markdown",
   "metadata": {},
   "source": [
    "## Exercise 9.1\n",
    "\n",
    "Download this list of words: http://thinkpython2.com/code/words.txt\n",
    "\n",
    "Write and run a script that reads `words.txt` and prints out only the words with more than 20\n",
    "characters (after stripping whitespace)."
   ]
  },
  {
   "cell_type": "code",
   "execution_count": 22,
   "metadata": {},
   "outputs": [
    {
     "name": "stdout",
     "output_type": "stream",
     "text": [
      "counterdemonstrations\n",
      "hyperaggressivenesses\n",
      "microminiaturizations\n"
     ]
    }
   ],
   "source": [
    "fin = open(\"words-1.txt\")\n",
    "for line in fin:\n",
    "    word = line.strip()\n",
    "    if len(word) > 20:\n",
    "        print(word)\n",
    "fin.close()"
   ]
  },
  {
   "cell_type": "markdown",
   "metadata": {},
   "source": [
    "## Exercise 9.2\n",
    "\n",
    "Write a function called `has_no_e` that returns True if the word doesn't have the letter e. You can use any of Pythons availble string methods."
   ]
  },
  {
   "cell_type": "code",
   "execution_count": 23,
   "metadata": {},
   "outputs": [],
   "source": [
    "def has_no_e(text):\n",
    "    return 'e' not in text"
   ]
  },
  {
   "cell_type": "code",
   "execution_count": 24,
   "metadata": {},
   "outputs": [
    {
     "data": {
      "text/plain": [
       "False"
      ]
     },
     "execution_count": 24,
     "metadata": {},
     "output_type": "execute_result"
    }
   ],
   "source": [
    "has_no_e(\"hello\")"
   ]
  },
  {
   "cell_type": "code",
   "execution_count": 25,
   "metadata": {},
   "outputs": [
    {
     "data": {
      "text/plain": [
       "True"
      ]
     },
     "execution_count": 25,
     "metadata": {},
     "output_type": "execute_result"
    }
   ],
   "source": [
    "has_no_e(\"quit\")"
   ]
  },
  {
   "cell_type": "markdown",
   "metadata": {},
   "source": [
    "With your function, write a script. The script should read the list of words (`words.txt`), print out the number of words that do not have the letter 'e' and the proportion of words that do not have the letter 'e'"
   ]
  },
  {
   "cell_type": "code",
   "execution_count": 36,
   "metadata": {},
   "outputs": [
    {
     "name": "stdout",
     "output_type": "stream",
     "text": [
      "Words without e is 37641\n",
      "The proportion is 0.3307383423103621\n"
     ]
    }
   ],
   "source": [
    "fin = open(\"words-1.txt\")\n",
    "all_words = 0\n",
    "no_e = 0\n",
    "\n",
    "for line in fin:\n",
    "    all_words += 1\n",
    "    word = line.strip()\n",
    "    if has_no_e(word):\n",
    "        no_e += 1\n",
    "\n",
    "proportion = no_e / all_words\n",
    "\n",
    "print(f\"Words without e is {no_e}\")\n",
    "print(f\"The proportion is {proportion}\")\n",
    "\n",
    "fin.close()"
   ]
  },
  {
   "cell_type": "markdown",
   "metadata": {},
   "source": [
    "## Textbook Chapter 10 Problems"
   ]
  },
  {
   "cell_type": "markdown",
   "metadata": {},
   "source": [
    "## Exercise 10.1\n",
    "\n",
    "Write a function called `nested_sum` that takes a list of lists of integers and adds up\n",
    "the elements from all of the nested lists. For example:\n",
    "```\n",
    "t = [[1, 2], [3], [4, 5, 6]]\n",
    "nested_sum(t)\n",
    "21\n",
    "```\n",
    "You may want to build the function recursively in case there are many levels of nested lists.\n",
    "\n",
    "You can assume that all elements in any of the nested lists are numeric."
   ]
  },
  {
   "cell_type": "code",
   "execution_count": 137,
   "metadata": {},
   "outputs": [],
   "source": [
    "def nested_sum(t):\n",
    "    sum = 0\n",
    "    for i in t:\n",
    "        if type(i) is list:\n",
    "            sum += nested_sum(i) \n",
    "        else:\n",
    "            sum += i  \n",
    "    return sum"
   ]
  },
  {
   "cell_type": "code",
   "execution_count": 138,
   "metadata": {},
   "outputs": [
    {
     "data": {
      "text/plain": [
       "3"
      ]
     },
     "execution_count": 138,
     "metadata": {},
     "output_type": "execute_result"
    }
   ],
   "source": [
    "t = [1, 2]\n",
    "nested_sum(t)"
   ]
  },
  {
   "cell_type": "code",
   "execution_count": 132,
   "metadata": {},
   "outputs": [
    {
     "data": {
      "text/plain": [
       "21"
      ]
     },
     "execution_count": 132,
     "metadata": {},
     "output_type": "execute_result"
    }
   ],
   "source": [
    "t = [[1, 2], [3], [4, 5, 6]]\n",
    "nested_sum(t)"
   ]
  },
  {
   "cell_type": "code",
   "execution_count": 133,
   "metadata": {},
   "outputs": [
    {
     "data": {
      "text/plain": [
       "36"
      ]
     },
     "execution_count": 133,
     "metadata": {},
     "output_type": "execute_result"
    }
   ],
   "source": [
    "x = [[1, 2, [3]], 4, 5, 6, [7], 8]\n",
    "nested_sum(x)"
   ]
  },
  {
   "cell_type": "code",
   "execution_count": 139,
   "metadata": {},
   "outputs": [
    {
     "data": {
      "text/plain": [
       "36"
      ]
     },
     "execution_count": 139,
     "metadata": {},
     "output_type": "execute_result"
    }
   ],
   "source": [
    "t = [[[1, 2, [3]], [4, [5, 6, [7]], 8]]]\n",
    "nested_sum(t)"
   ]
  },
  {
   "cell_type": "markdown",
   "metadata": {},
   "source": [
    "## Exercise 10.2\n",
    "\n",
    "Write a function called `cumsum` that takes a list of numbers and returns the cumulative sum; that is, a new list where the ith element is the sum of the first i + 1 elements from the original list. \n",
    "\n",
    "For example:\n",
    "```\n",
    "t = [1, 2, 3]\n",
    "cumsum(t)\n",
    "[1, 3, 6]\n",
    "```\n",
    "\n",
    "You can assume that all elements in the lists are numeric and the list does not contain nested lists."
   ]
  },
  {
   "cell_type": "code",
   "execution_count": 140,
   "metadata": {},
   "outputs": [],
   "source": [
    "def cumsum(t):\n",
    "    result = []\n",
    "    sum = 0\n",
    "    for i in t:\n",
    "        sum += i\n",
    "        result.append(sum)\n",
    "    return result"
   ]
  },
  {
   "cell_type": "code",
   "execution_count": 141,
   "metadata": {},
   "outputs": [
    {
     "data": {
      "text/plain": [
       "[1, 3, 6, 10]"
      ]
     },
     "execution_count": 141,
     "metadata": {},
     "output_type": "execute_result"
    }
   ],
   "source": [
    "cumsum([1, 2, 3, 4])"
   ]
  },
  {
   "cell_type": "code",
   "execution_count": 142,
   "metadata": {},
   "outputs": [
    {
     "data": {
      "text/plain": [
       "[0, 1, 3, 6, 10, 15, 21, 28, 36, 45, 55, 66]"
      ]
     },
     "execution_count": 142,
     "metadata": {},
     "output_type": "execute_result"
    }
   ],
   "source": [
    "cumsum(range(12))"
   ]
  },
  {
   "cell_type": "markdown",
   "metadata": {},
   "source": [
    "## Exercise 10.6\n",
    "\n",
    "Two words are anagrams if you can rearrange the letters from one to spell the other. Write a function called `is_anagram` that takes two strings and returns `True` if they are anagrams.\n",
    "\n",
    "You can remove spaces and convert to lowercase using `string.replace(\" \",\"\").lower()`"
   ]
  },
  {
   "cell_type": "code",
   "execution_count": 143,
   "metadata": {},
   "outputs": [],
   "source": [
    "def is_anagram(word1, word2):\n",
    "    word1 = word1.replace(\" \", \"\").lower()\n",
    "    word2 = word2.replace(\" \", \"\").lower()\n",
    "    return sorted(word1) == sorted(word2)"
   ]
  },
  {
   "cell_type": "code",
   "execution_count": 144,
   "metadata": {},
   "outputs": [
    {
     "data": {
      "text/plain": [
       "True"
      ]
     },
     "execution_count": 144,
     "metadata": {},
     "output_type": "execute_result"
    }
   ],
   "source": [
    "is_anagram(\"hello\", \"o hell\")"
   ]
  },
  {
   "cell_type": "code",
   "execution_count": 145,
   "metadata": {},
   "outputs": [
    {
     "data": {
      "text/plain": [
       "True"
      ]
     },
     "execution_count": 145,
     "metadata": {},
     "output_type": "execute_result"
    }
   ],
   "source": [
    "is_anagram(\"dormitory\" , \"dirty room\")"
   ]
  },
  {
   "cell_type": "code",
   "execution_count": 146,
   "metadata": {},
   "outputs": [
    {
     "data": {
      "text/plain": [
       "False"
      ]
     },
     "execution_count": 146,
     "metadata": {},
     "output_type": "execute_result"
    }
   ],
   "source": [
    "is_anagram(\"dormitory\" , \"dirty rooms\")"
   ]
  },
  {
   "cell_type": "code",
   "execution_count": 147,
   "metadata": {},
   "outputs": [
    {
     "data": {
      "text/plain": [
       "True"
      ]
     },
     "execution_count": 147,
     "metadata": {},
     "output_type": "execute_result"
    }
   ],
   "source": [
    "is_anagram(\"astronomers\" , \"moon starers\")"
   ]
  },
  {
   "cell_type": "markdown",
   "metadata": {},
   "source": [
    "## Exercise 10.7\n",
    "\n",
    "Write a function called `has_duplicates` that takes a list and returns `True` if there is any element that appears more than once. It should not modify the original list.\n",
    "\n",
    "You can assume that the list will not have nested lists."
   ]
  },
  {
   "cell_type": "code",
   "execution_count": 167,
   "metadata": {},
   "outputs": [],
   "source": [
    "def has_duplicates(t):\n",
    "    sorted_list = sorted(t) \n",
    "    for i in range(len(sorted_list) - 1):\n",
    "        if sorted_list[i] == sorted_list[i + 1]:\n",
    "            return True  \n",
    "    return False"
   ]
  },
  {
   "cell_type": "code",
   "execution_count": 168,
   "metadata": {},
   "outputs": [
    {
     "data": {
      "text/plain": [
       "False"
      ]
     },
     "execution_count": 168,
     "metadata": {},
     "output_type": "execute_result"
    }
   ],
   "source": [
    "has_duplicates(['a','b','c'])"
   ]
  },
  {
   "cell_type": "code",
   "execution_count": 169,
   "metadata": {},
   "outputs": [
    {
     "data": {
      "text/plain": [
       "True"
      ]
     },
     "execution_count": 169,
     "metadata": {},
     "output_type": "execute_result"
    }
   ],
   "source": [
    "has_duplicates(['a','b','b','c'])"
   ]
  },
  {
   "cell_type": "code",
   "execution_count": 170,
   "metadata": {},
   "outputs": [
    {
     "data": {
      "text/plain": [
       "True"
      ]
     },
     "execution_count": 170,
     "metadata": {},
     "output_type": "execute_result"
    }
   ],
   "source": [
    "has_duplicates(['a','b','c','a'])"
   ]
  },
  {
   "cell_type": "markdown",
   "metadata": {},
   "source": [
    "## Exercise 10.10\n",
    "\n",
    "To check whether a word is in the word list, you could use the in operator, but it would be slow because it searches through the words in order.\n",
    "\n",
    "Because the words are in alphabetical order, we can speed things up with a bisection search (also known as binary search). You start in the middle and check to see whether the word you are looking for comes before the word in the middle of the list. If so, you search the first half of the list the same way (perform a bisection search on the first half). Otherwise you search the second half.\n",
    "\n",
    "Either way, you cut the remaining search space in half. If the word list has 113,809 words, it will\n",
    "take about 17 steps to find the word or conclude that it's not there. \n",
    "\n",
    "Write a function called `in_bisect` that takes a sorted list and a target word and will returns `True` if the word is in the list and `False` if it's not.\n",
    "\n",
    "Hint: it's a recursive function."
   ]
  },
  {
   "cell_type": "code",
   "execution_count": 202,
   "metadata": {},
   "outputs": [],
   "source": [
    "# Use this function. No need to rewrite it.\n",
    "def make_word_list():\n",
    "    t = []\n",
    "    fin = open('words-1.txt')\n",
    "    for line in fin:\n",
    "        word = line.strip()\n",
    "        t.append(word)\n",
    "    return t\n",
    "\n",
    "t = make_word_list()"
   ]
  },
  {
   "cell_type": "code",
   "execution_count": 221,
   "metadata": {},
   "outputs": [],
   "source": [
    "# define this function\n",
    "def in_bisect(word_list, word):\n",
    "    if len(word_list) == 0:\n",
    "        return False\n",
    "    else:\n",
    "        middle = len(word_list) // 2\n",
    "        if word_list[middle] == word:\n",
    "            return True\n",
    "        elif word < word_list[middle]:\n",
    "            return in_bisect(word_list[:middle], word)\n",
    "        else:\n",
    "            return in_bisect(word_list[middle + 1:], word)\n"
   ]
  },
  {
   "cell_type": "code",
   "execution_count": 222,
   "metadata": {},
   "outputs": [
    {
     "data": {
      "text/plain": [
       "True"
      ]
     },
     "execution_count": 222,
     "metadata": {},
     "output_type": "execute_result"
    }
   ],
   "source": [
    "in_bisect(t, \"hello\")"
   ]
  },
  {
   "cell_type": "code",
   "execution_count": 223,
   "metadata": {},
   "outputs": [
    {
     "data": {
      "text/plain": [
       "False"
      ]
     },
     "execution_count": 223,
     "metadata": {},
     "output_type": "execute_result"
    }
   ],
   "source": [
    "in_bisect(t, \"xyz\")"
   ]
  },
  {
   "cell_type": "markdown",
   "metadata": {},
   "source": [
    "## Exercise 10.11\n",
    "\n",
    "Two words are a \"reverse pair\" if each is the reverse of the other.\n",
    "\n",
    "Now that you have the `in_bisect` search, write a script that ﬁnds all the reverse pairs in the word list that are 6 letters or longer. (It takes a little bit of time to run.)"
   ]
  },
  {
   "cell_type": "code",
   "execution_count": 224,
   "metadata": {},
   "outputs": [
    {
     "name": "stdout",
     "output_type": "stream",
     "text": [
      "agenes, senega\n",
      "animal, lamina\n",
      "animes, semina\n",
      "degami, imaged\n",
      "deifier, reified\n",
      "deliver, reviled\n",
      "denier, reined\n",
      "denies, seined\n",
      "depots, stoped\n",
      "derats, stared\n",
      "dessert, tressed\n",
      "desserts, stressed\n",
      "dewans, snawed\n",
      "dialer, relaid\n",
      "diaper, repaid\n",
      "dormin, nimrod\n",
      "drawer, reward\n",
      "elides, sedile\n",
      "eviler, relive\n",
      "gelder, redleg\n",
      "imaged, degami\n",
      "lamina, animal\n",
      "levins, snivel\n",
      "looter, retool\n",
      "nimrod, dormin\n",
      "pupils, slipup\n",
      "recaps, spacer\n",
      "redips, spider\n",
      "redleg, gelder\n",
      "redraw, warder\n",
      "redrawer, rewarder\n",
      "reflet, telfer\n",
      "reflow, wolfer\n",
      "reified, deifier\n",
      "reined, denier\n",
      "reknit, tinker\n",
      "reknits, stinker\n",
      "relaid, dialer\n",
      "relive, eviler\n",
      "remeet, teemer\n",
      "rennet, tenner\n",
      "repaid, diaper\n",
      "repins, sniper\n",
      "retool, looter\n",
      "reviled, deliver\n",
      "reward, drawer\n",
      "rewarder, redrawer\n",
      "sallets, stellas\n",
      "scares, seracs\n",
      "secret, terces\n",
      "sedile, elides\n",
      "seined, denies\n",
      "selahs, shales\n",
      "semina, animes\n",
      "senega, agenes\n",
      "seracs, scares\n",
      "shales, selahs\n",
      "skeets, steeks\n",
      "sleeps, speels\n",
      "sleets, steels\n",
      "slipup, pupils\n",
      "sloops, spools\n",
      "snawed, dewans\n",
      "sniper, repins\n",
      "snivel, levins\n",
      "snoops, spoons\n",
      "spacer, recaps\n",
      "speels, sleeps\n",
      "spider, redips\n",
      "spirts, strips\n",
      "spools, sloops\n",
      "spoons, snoops\n",
      "sports, strops\n",
      "sprits, stirps\n",
      "stared, derats\n",
      "steeks, skeets\n",
      "steels, sleets\n",
      "stellas, sallets\n",
      "stinker, reknits\n",
      "stirps, sprits\n",
      "stoped, depots\n",
      "stressed, desserts\n",
      "strips, spirts\n",
      "strops, sports\n",
      "struts, sturts\n",
      "sturts, struts\n",
      "teemer, remeet\n",
      "telfer, reflet\n",
      "tenner, rennet\n",
      "terces, secret\n",
      "tinker, reknit\n",
      "tressed, dessert\n",
      "warder, redraw\n",
      "wolfer, reflow\n"
     ]
    }
   ],
   "source": [
    "word_list = make_word_list()\n",
    "\n",
    "for word in word_list:\n",
    "    if len(word) >= 6:\n",
    "        reversed_word = word[::-1]\n",
    "        if word != reversed_word and in_bisect(word_list, reversed_word):\n",
    "            print(f\"{word}, {reversed_word}\")"
   ]
  }
 ],
 "metadata": {
  "kernelspec": {
   "display_name": "Python 3 (ipykernel)",
   "language": "python",
   "name": "python3"
  },
  "language_info": {
   "codemirror_mode": {
    "name": "ipython",
    "version": 3
   },
   "file_extension": ".py",
   "mimetype": "text/x-python",
   "name": "python",
   "nbconvert_exporter": "python",
   "pygments_lexer": "ipython3",
   "version": "3.11.7"
  }
 },
 "nbformat": 4,
 "nbformat_minor": 4
}
