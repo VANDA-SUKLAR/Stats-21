











import math

class Point:
    """Represents a point in 2-D space.
    attributes: x, y
    """
    def __init__(self):
        self.x = 0
        self.y = 0

def print_point(p):
    return f"({p.x}, {p.y})"

class Rectangle:
    """Represents a rectangle. 
    attributes: width, height, corner.
    """
    def __init__(self, width=0, height=0, corner=None):
        self.width = width
        self.height = height
        self.corner = corner if corner else Point()

    def __str__(self):
        return f"Rectangle(width={self.width}, height={self.height}, corner={print_point(self.corner)})"



class Circle:
    """Represents a circle.
    attributes: center, radius
    """
    def __init__(self, center=None, radius=0):
        self.center = center if center else Point()
        self.radius = radius

    def __str__(self):
        return f"Circle(center={print_point(self.center)}, radius={self.radius})"

def point_in_circle(p, c):
    distance = math.sqrt((p.x - c.center.x)**2 + (p.y - c.center.y)**2)
    return distance <= c.radius

def rect_in_circle(r, c):
    for x in [0, r.width]:
        for y in [0, r.height]:
            p = Point()
            p.x = r.corner.x + x
            p.y = r.corner.y + y
            if not point_in_circle(p, c):
                return False
    return True

def rect_circle_overlap(r, c):
    for x in [0, r.width]:
        for y in [0, r.height]:
            p = Point()
            p.x = r.corner.x + x
            p.y = r.corner.y + y
            if point_in_circle(p, c):
                return True
    return False






#test case
box = Rectangle(width=100, height=200)
box.corner.x = 50
box.corner.y = 50

circle = Circle(radius=75)
circle.center.x = 150
circle.center.y = 100


print(f"Rectangle 'box': {box}")
print(f"Circle 'circle': {circle}")

print(f"\nbox.corner in the circle: {point_in_circle(box.corner, circle)}")
print(f"box in the circle: {rect_in_circle(box, circle)}")
print(f"box and circle overlap: {rect_circle_overlap(box, circle)}")





# code that defines Time class and some functions needed for 16.1
# no need to modify
class Time:
    """Represents the time of day.
       
    attributes: hour, minute, second
    """
    def __init__(self, hour=0, minute=0, second=0):
        self.hour = hour
        self.minute = minute
        self.second = second
def print_time(t):
    """Prints a string representation of the time.

    t: Time object
    """
    print('%.2d:%.2d:%.2d' % (t.hour, t.minute, t.second))
def int_to_time(seconds):
    """Makes a new Time object.

    seconds: int seconds since midnight.
    """
    time = Time()
    minutes, time.second = divmod(seconds, 60)
    time.hour, time.minute = divmod(minutes, 60)
    return time
def time_to_int(time):
    """Computes the number of seconds since midnight.

    time: Time object.
    """
    minutes = time.hour * 60 + time.minute
    seconds = minutes * 60 + time.second
    return seconds


# write your function here
def mul_time(time, multiplier):

    total_seconds = time_to_int(time) * multiplier
    return int_to_time(int(total_seconds))






# test case:
race_time = Time()
race_time.hour = 1
race_time.minute = 34
race_time.second = 5

print('Half marathon time', end=' ')
print_time(race_time)

distance = 13.1 # miles
pace = mul_time(race_time, 1/distance)





import datetime


# example usage
new_date = datetime.date(2021, 5, 19)
print(new_date)


current_date = datetime.date.today()
day_of_week = current_date.strftime("%A")
print(current_date, day_of_week)





from datetime import datetime, timedelta
def calculate_age_and_time_until_birthday(birthdate_str):
    birthdate = datetime.strptime(birthdate_str, "%m/%d/%Y")
    today = datetime.now()
    
    age = today.year - birthdate.year - ((today.month, today.day) < (birthdate.month, birthdate.day))
    next_birthday = datetime(today.year, birthdate.month, birthdate.day)
    if today > next_birthday:
        next_birthday = datetime(today.year + 1, birthdate.month, birthdate.day)
    
    time_until_birthday = next_birthday - today
    days = time_until_birthday.days
    hours, remainder = divmod(time_until_birthday.seconds, 3600)
    minutes, seconds = divmod(remainder, 60)

    print(f"{age} years old")
    print(f"Next birthday is in: {days} days, {hours} hours, {minutes} minutes, and {seconds} seconds")



birthdate1 = "12/25/1999"
calculate_age_and_time_until_birthday(birthdate1)


birthdate2 = "3/26/1972"
calculate_age_and_time_until_birthday(birthdate2)





person1 = "12/25/1999"
person2 = "4/15/1970"


def double_day(day1, day2):
    pass


double_day(person1, person2)


def calculate_age_in_years_months_days(birthdate, reference_date):
    delta = reference_date - birthdate
    years = delta.days // 365
    remaining_days = delta.days % 365
    months = remaining_days // 30
    days = remaining_days % 30
    return years, months, days

def double_day(person1, person2):
    birthdate1 = datetime.strptime(person1, "%m/%d/%Y")
    birthdate2 = datetime.strptime(person2, "%m/%d/%Y")
    
    if birthdate1 > birthdate2:
        birthdate1, birthdate2 = birthdate2, birthdate1
    
    delta = birthdate2 - birthdate1
    double_day_date = birthdate1 + 2 * delta

    age1_years, age1_months, age1_days = calculate_age_in_years_months_days(birthdate1, double_day_date)
    age2_years, age2_months, age2_days = calculate_age_in_years_months_days(birthdate2, double_day_date)
    
    print(f"Double Day: {double_day_date.strftime('%m/%d/%Y')}")
    print(f"Person 1 Age on Double Day: {age1_years} years, {age1_months} months, {age1_days} days")
    print(f"Person 2 Age on Double Day: {age2_years} years, {age2_months} months, {age2_days} days")



# test case
person1 = "3/26/1972"
person2 = "1/20/1985"
double_day(person1, person2)


# test case
person1 = "11/9/2001"
person2 = "3/23/2010"
double_day(person1, person2)





# Leave this code unchanged
class Time:
    def __init__(self, hour=0, minute=0, second=0):
        self.hour = hour
        self.minute = minute
        self.second = second

    def __str__(self):
        return '%.2d:%.2d:%.2d' % (self.hour, self.minute, self.second)

    def print_time(self):
        print(str(self))

    def time_to_int(self):
        minutes = self.hour * 60 + self.minute
        seconds = minutes * 60 + self.second
        return seconds

    def is_after(self, other):
        return self.time_to_int() > other.time_to_int()

    def __add__(self, other):
        if isinstance(other, Time):
            return self.add_time(other)
        else:
            return self.increment(other)

    def __radd__(self, other):
        return self.__add__(other)

    def add_time(self, other):
        assert self.is_valid() and other.is_valid()
        seconds = self.time_to_int() + other.time_to_int()
        return int_to_time(seconds)

    def increment(self, seconds):
        seconds += self.time_to_int()
        return int_to_time(seconds)

    def is_valid(self):
        if self.hour < 0 or self.minute < 0 or self.second < 0:
            return False
        if self.minute >= 60 or self.second >= 60:
            return False
        return True


def int_to_time(seconds):
    minutes, second = divmod(seconds, 60)
    hour, minute = divmod(minutes, 60)
    time = Time(hour, minute, second)
    return time


def main():
    start = Time(9, 45, 00)
    start.print_time()

    end = start.increment(1337)
    #end = start.increment(1337, 460)
    end.print_time()

    print('Is end after start?')
    print(end.is_after(start))

    print('Using __str__')
    print(start, end)

    start = Time(9, 45)
    duration = Time(1, 35)
    print(start + duration)
    print(start + 1337)
    print(1337 + start)

    print('Example of polymorphism')
    t1 = Time(7, 43)
    t2 = Time(7, 41)
    t3 = Time(7, 37)
    total = sum([t1, t2, t3])
    print(total)


# results of a few time tests. your later results should match these
main()


# modify this class
# you can only have one attribute: self.second
# the time is still initialized with hour, minute, second
    
class Time:
    def __init__(self, hour=0, minute=0, second=0):
        self.second = hour * 3600 + minute * 60 + second

    def __str__(self):
        hours, mins = divmod(self.second, 3600)
        minutes, seconds = divmod(mins, 60)
        return '%.2d:%.2d:%.2d' % (hours, minutes, seconds)

    def print_time(self):
        print(str(self))

    def time_to_int(self):
        return self.second

    def is_after(self, other):
        return self.time_to_int() > other.time_to_int()

    def __add__(self, other):
        if isinstance(other, Time):
            return self.add_time(other)
        else:
            return self.increment(other)

    def __radd__(self, other):
        return self.__add__(other)

    def add_time(self, other):
        assert self.is_valid() and other.is_valid()
        seconds = self.time_to_int() + other.time_to_int()
        return int_to_time(seconds)

    def increment(self, seconds):
        seconds += self.time_to_int()
        return int_to_time(seconds)

    def is_valid(self):
        return 0 <= self.second < (24 * 3600) 

def int_to_time(seconds):
    return Time(0, 0, seconds)


main()






# `Badkangaroo.py`
class Kangaroo:
    """A Kangaroo is a marsupial."""
    
    def __init__(self, name, contents=[]):
        """Initialize the pouch contents.

        name: string
        contents: initial pouch contents.
        """
        self.name = name
        self.pouch_contents = contents

    def __str__(self):
        """Return a string representaion of this Kangaroo.
        """
        t = [ self.name + ' has pouch contents:' ]
        for obj in self.pouch_contents:
            s = '    ' + object.__str__(obj)
            t.append(s)
        return '\n'.join(t)

    def put_in_pouch(self, item):
        """Adds a new item to the pouch contents.

        item: object to be added
        """
        self.pouch_contents.append(item)


kanga = Kangaroo('Kanga')
roo = Kangaroo('Roo')
kanga.put_in_pouch('wallet')
kanga.put_in_pouch('car keys')
roo.put_in_pouch('candy')
kanga.put_in_pouch(roo)


print(kanga)


print(roo)








# `GoodKangaroo.py`
class Kangaroo:
    """A Kangaroo is a marsupial."""
    
    def __init__(self, name, contents=[]):
        """Initialize the pouch contents.

        name: string
        contents: initial pouch contents.
        """
        # The problem is the default value for contents.
        # Default values get evaluated ONCE, when the function
        # is defined; they don't get evaluated again when the
        # function is called.

        # In this case that means that when __init__ is defined,
        # [] gets evaluated and contents gets a reference to
        # an empty list.

        # After that, every Kangaroo that gets the default
        # value gets a reference to THE SAME list.  If any
        # Kangaroo modifies this shared list, they all see
        # the change.

        # The next version of __init__ shows an idiomatic way
        # to avoid this problem.
        self.name = name
        self.pouch_contents = contents

    def __init__(self, name, contents=None):
        """Initialize the pouch contents.

        name: string
        contents: initial pouch contents.
        """
        # In this version, the default value is None.  When
        # __init__ runs, it checks the value of contents and,
        # if necessary, creates a new empty list.  That way,
        # every Kangaroo that gets the default value gets a
        # reference to a different list.

        # As a general rule, you should avoid using a mutable
        # object as a default value, unless you really know
        # what you are doing.
        self.name = name
        if contents == None:
            contents = []
        self.pouch_contents = contents

    def __str__(self):
        """Return a string representaion of this Kangaroo.
        """
        t = [ self.name + ' has pouch contents:' ]
        for obj in self.pouch_contents:
            s = '    ' + object.__str__(obj)
            t.append(s)
        return '\n'.join(t)

    def put_in_pouch(self, item):
        """Adds a new item to the pouch contents.

        item: object to be added
        """
        self.pouch_contents.append(item)


kanga = Kangaroo('Kanga')
roo = Kangaroo('Roo')
kanga.put_in_pouch('wallet')
kanga.put_in_pouch('car keys')
roo.put_in_pouch('candy')
kanga.put_in_pouch(roo)


print(kanga)


print(roo)











# Do not change this code block
## A complete version of the Card, Deck and Hand classes 
## in chapter 18.

import random

class Card:
    """Represents a standard playing card.
    
    Attributes:
      suit: integer 0-3
      rank: integer 1-13
    """

    suit_names = ["Clubs", "Diamonds", "Hearts", "Spades"]
    rank_names = [None, "Ace", "2", "3", "4", "5", "6", "7", 
              "8", "9", "10", "Jack", "Queen", "King"]

    def __init__(self, suit=0, rank=2):
        self.suit = suit
        self.rank = rank

    def __str__(self):
        """Returns a human-readable string representation."""
        return '%s of %s' % (Card.rank_names[self.rank],
                             Card.suit_names[self.suit])

    def __eq__(self, other):
        """Checks whether self and other have the same rank and suit.

        returns: boolean
        """
        return self.suit == other.suit and self.rank == other.rank

    def __lt__(self, other):
        """Compares this card to other, first by suit, then rank.

        returns: boolean
        """
        t1 = self.suit, self.rank
        t2 = other.suit, other.rank
        return t1 < t2


class Deck:
    def __init__(self):
        self.cards = []
        for suit in range(4):
            for rank in range(1,14):
                card = Card(suit, rank)
                self.cards.append(card)
    def __str__(self):
        res = []
        for card in self.cards:
            res.append(str(card))
        return '\n'.join(res)
    
    def __len__(self):
        return len(self.cards)
    
    def __getitem__(self, position):
        return self.cards[position]
    
    def __setitem__(self, key, value):
        self.cards[key] = value
    
    def shuffle(self):
        random.shuffle(self.cards)
        
    def pop_card(self):
        return self.cards.pop()
    
    def add_card(self, card):
        self.cards.append(card)
    
    def sort(self):
         self.cards.sort()
        
    def move_cards(self, hand, num):
        for i in range(num):
            hand.add_card(self.pop_card())


class Hand(Deck):
    """Represents a hand of playing cards."""
    
    def __init__(self, label=''):
        self.cards = []
        self.label = label


def find_defining_class(obj, method_name):
    """Finds and returns the class object that will provide 
    the definition of method_name (as a string) if it is
    invoked on obj.

    obj: any python object
    method_name: string method name
    """
    for ty in type(obj).mro():
        if method_name in ty.__dict__:
            return ty
    return None


# Do not change this code block
## PokerHand.py : An incomplete implementation of a class that represents a poker hand, and
## some code that tests it. The current definition of has_flush may or may not be adequate
## for the final solution.
class PokerHand(Hand):
    """Represents a poker hand."""
    
    # all_labels is a list of all the labels in order from highest rank
    # to lowest rank
    all_labels = ['straightflush', 'fourkind', 'fullhouse', 'flush',
                  'straight', 'threekind', 'twopair', 'pair', 'highcard']

    def suit_hist(self):
        """Builds a histogram of the suits that appear in the hand.

        Stores the result in attribute suits.
        """
        self.suits = {}
        for card in self.cards:
            self.suits[card.suit] = self.suits.get(card.suit, 0) + 1

    def has_flush(self):
        """Returns True if the hand has a flush, False otherwise.
      
        Note that this works correctly for hands with more than 5 cards.
        """
        self.suit_hist()
        for val in self.suits.values():
            if val >= 5:
                return True
        return False





# no need to change this code block
# make a deck
deck = Deck()
deck.shuffle()

# deal the cards and classify the hands
for i in range(2):
    hand = PokerHand()
    deck.move_cards(hand, 7)
    hand.sort()
    print(hand)
    print(hand.has_flush())
    print('')


# no need to change this code block
# This code chunk creates a hand, 
# adds seven cards to it, 5 of which are diamonds
# it checks to see if a flush exists and returns True
hand = PokerHand()
hand.add_card(Card(1,1))
hand.add_card(Card(1,3))
hand.add_card(Card(1,13))
hand.add_card(Card(1,12))
hand.add_card(Card(1,6))
hand.add_card(Card(2,3))
hand.add_card(Card(0,7))
hand.sort()
print(hand)
print(hand.has_flush())





class PokerHand(Hand):
    """Represents a poker hand."""

    all_labels = ['straightflush', 'fourkind', 'fullhouse', 'flush',
                  'straight', 'threekind', 'twopair', 'pair', 'highcard']
    
    def suit_hist(self):
        """Builds a histogram of the suits that appear in the hand."""
        self.suits = {}
        for card in self.cards:
            self.suits[card.suit] = self.suits.get(card.suit, 0) + 1
    
    def rank_hist(self):
        """Builds a histogram of the ranks that appear in the hand."""
        self.ranks = {}
        for card in self.cards:
            self.ranks[card.rank] = self.ranks.get(card.rank, 0) + 1
    
    def has_flush(self):
        """Returns True if the hand has a flush, False otherwise."""
        self.suit_hist()
        return any(val >= 5 for val in self.suits.values())
    
    def has_straightflush(self):
        self.suit_hist()
        suited_cards = {suit: [] for suit in self.suits}
        for card in self.cards:
            suited_cards[card.suit].append(card.rank)
        
        for ranks in suited_cards.values():
            ranks.sort()
            if 1 in ranks: ranks.append(14)  # Ace as high
            consecutive = 0
            for i in range(len(ranks) - 1):
                if ranks[i] + 1 == ranks[i + 1]:
                    consecutive += 1
                    if consecutive >= 4:
                        return True
                else:
                    consecutive = 0
        return False
    
    def has_fourkind(self):
        self.rank_hist()
        return any(val == 4 for val in self.ranks.values())
    
    def has_fullhouse(self):
        self.rank_hist()
        has_three = has_pair = False
        for val in self.ranks.values():
            if val == 3:
                has_three = True
            elif val == 2:
                has_pair = True
            elif val == 4:
                has_three = True
                has_pair = True
        return has_three and has_pair
    
    def has_straight(self):
        self.rank_hist()
        ranks = sorted(self.ranks.keys())
        if 1 in ranks: ranks.append(14)  # Ace as high
        consecutive = 0
        for i in range(len(ranks) - 1):
            if ranks[i] + 1 == ranks[i + 1]:
                consecutive += 1
                if consecutive >= 4:
                    return True
            else:
                consecutive = 0
        return False
    
    def has_threekind(self):
        self.rank_hist()
        return any(val == 3 for val in self.ranks.values())
    
    def has_twopair(self):
        self.rank_hist()
        pairs = sum(1 for val in self.ranks.values() if val == 2)
        return pairs >= 2
    
    def has_pair(self):
        self.rank_hist()
        return any(val == 2 for val in self.ranks.values())
    
    def has_highcard(self):
        return True
    
    def classify(self):
        self.rank_hist()
        self.suit_hist()
        self.label = 'highcard'  # Default to high card if no other hand is found
        for label in PokerHand.all_labels:
            if getattr(self, f"has_{label}")():
                self.label = label
                break





# test case; do not modify
hand = PokerHand()
hand.add_card(Card(0,1)) 
hand.add_card(Card(1,1)) 
hand.add_card(Card(2,1)) 
hand.add_card(Card(0,11))
hand.add_card(Card(1,11))
hand.add_card(Card(2,11))
hand.add_card(Card(0,3))
hand.classify()
print(hand)
print(hand.label) # full house


# you may add your own code chunks to troubleshoot your hand methods
hand.has_pair()





# test case; do not modify
hand = PokerHand()
hand.add_card(Card(0,1))
hand.add_card(Card(0,2))
hand.add_card(Card(0,3))
hand.add_card(Card(0,4))
hand.add_card(Card(0,5))
hand.add_card(Card(1,5))
hand.add_card(Card(2,5))
hand.classify()
print(hand)
print(hand.label) # straight flush


# test case; do not modify
hand = PokerHand()
hand.add_card(Card(0,1))
hand.add_card(Card(0,13))
hand.add_card(Card(0,12))
hand.add_card(Card(0,11))
hand.add_card(Card(0,10))
hand.add_card(Card(1,11))
hand.add_card(Card(2,12))
hand.classify()
print(hand)
print(hand.label) # straight flush





# test case; do not modify
hand = PokerHand()
hand.add_card(Card(0,2))
hand.add_card(Card(0,3))
hand.add_card(Card(1,4))
hand.add_card(Card(2,5))
hand.add_card(Card(1,2))
hand.add_card(Card(3,6))
hand.add_card(Card(2,6))
hand.classify()
print(hand)
print(hand.label) # straight





# test case; do not modify
hand = PokerHand()
hand.add_card(Card(0,2))
hand.add_card(Card(0,3))
hand.add_card(Card(2,5))
hand.add_card(Card(0,10))
hand.add_card(Card(1,10))
hand.add_card(Card(1,4))
hand.add_card(Card(0,6))
hand.classify()
print(hand)
print(hand.label) # straight





# test case; do not modify
hand = PokerHand()
hand.add_card(Card(0,2))
hand.add_card(Card(0,3))
hand.add_card(Card(0,4))
hand.add_card(Card(0,5))
hand.add_card(Card(1,6))
hand.add_card(Card(1,7))
hand.add_card(Card(0,8))
hand.classify()
print(hand)
print(hand.label) # flush





# test case; do not modify
hand = PokerHand()
hand.add_card(Card(0,2))
hand.add_card(Card(1,2))
hand.add_card(Card(0,4))
hand.add_card(Card(1,4))
hand.add_card(Card(0,5))
hand.add_card(Card(1,5))
hand.add_card(Card(0,6))
hand.classify()
print(hand)
print(hand.label) # two pair





# no need to change this code block
class PokerDeck(Deck):
    """Represents a deck of cards that can deal poker hands."""

    def deal_hands(self, num_cards=7, num_hands=7):
        """Deals hands from the deck and returns Hands. The hands are classified before they are returned.
        num_cards: cards per hand
        num_hands: number of hands

        returns: list of Hands
        """
        hands = []
        for i in range(num_hands):        
            hand = PokerHand()
            self.move_cards(hand, num_cards)
            hand.classify()
            hands.append(hand)
        return hands


# no need to change this code block
class Hist(dict):
    """A map from each item (x) to its frequency."""

    def __init__(self, seq=[]):
        "Creates a new histogram starting with the items in seq."
        for x in seq:
            self.count(x)

    def count(self, x, f=1):
        "Increments (or decrements) the counter associated with item x."
        self[x] = self.get(x, 0) + f
        if self[x] == 0:
            del self[x]


# test code. no need to modify
def main():
    # the label histogram: map from label to number of occurances
    labelhist = Hist()

    # loop n times, dealing 5 hands per iteration, 7 cards each
    n = 20000
    for i in range(n):
        if i % 1000 == 0:
            print(i)
            
        deck = PokerDeck()
        deck.shuffle()

        hands = deck.deal_hands(7, 5)
        for hand in hands:
            labelhist.count(hand.label)
            
    # print the results
    total = 5.0 * n
    print(total, 'hands dealt:')

    for label in PokerHand.all_labels:
        freq = labelhist.get(label, 0)
        p = 100 * freq / total
        if freq == 0: 
            odds = float('inf')
        else:
            odds = (total - freq) / freq
        print('{:} happens with probability {:.3f}%; odds against: {:.2f} : 1'.format(label, p, odds))



# test code
main()



