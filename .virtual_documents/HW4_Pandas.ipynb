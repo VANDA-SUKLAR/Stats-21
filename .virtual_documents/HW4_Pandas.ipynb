





### Import the necessary libraries
import pandas as pd
import matplotlib.pyplot as plt


### Please note that the following data set is from the US in the 20th century.
### Gender proportions for occupations and ages are thus reflective of that era.
### Import the dataset from this address.
### https://raw.githubusercontent.com/justmarkham/DAT8/master/data/u.user
### Assign it to a variable called users and use the 'user_id' as index
users = pd.read_csv('https://raw.githubusercontent.com/justmarkham/DAT8/master/data/u.user', 
                      sep='|', index_col='user_id')


# Problem 1. Print the data frame. By default,
# Pandas prints the first few rows and the last few rows.
# This exercise has already been done for you
users


# Problem 2. How many observations and columns are in the data?
# Run the necessary command that will output the answer.
num_rows, num_columns = users.shape
print(f' {num_rows} observations and {num_columns} columns.')


# Problem 3. How many different occupations there are in this dataset?
different_occupations = users['occupation'].unique()
num_occupations = len(different_occupations)
num_occupations


# Problem 4. What is the most frequent occupation?
most_frequent_occupation = users['occupation'].value_counts().idxmax()
frequency = users['occupation'].value_counts().max()
print(f'{most_frequent_occupation}, {frequency} people.')


# Problem 5. Discover what is the mean age per occupation.
# Sort the results and find the 3 occupations with the lowest mean age and the 3 with the highest
mean_age_per_occupation = users.groupby('occupation')['age'].mean().round(1)

sorted_mean_age = mean_age_per_occupation.sort_values()

lowest_mean_age = sorted_mean_age.head(3)

highest_mean_age = sorted_mean_age.tail(3)

sorted_mean_age_df = sorted_mean_age.reset_index()
lowest_mean_age_df = lowest_mean_age.reset_index()
highest_mean_age_df = highest_mean_age.reset_index()

print(sorted_mean_age_df.to_string(index=False))


print("\nThree occupations with the lowest mean age:")
print(lowest_mean_age_df.to_string(index=False))

print("\nThree occupations with the highest mean age:")
print(highest_mean_age_df.to_string(index=False))


# Problem 6. Find the proportion of males by occupation and sort it from the most to the least
gender_counts = users.groupby(['occupation', 'gender']).size().unstack(fill_value=0)
gender_counts['male proportion'] = gender_counts['M'] / (gender_counts['M'] + gender_counts['F'])
sorted_gender_counts = gender_counts['male proportion'].sort_values(ascending=False)
sorted_gender_counts_df = sorted_gender_counts.reset_index()
print(sorted_gender_counts_df.to_string(index=False))



# Problem 7. For each occupation, calculate the minimum and maximum ages
# See groupby and agg() to perform multiple aggregate functions at once
age_stats = users.groupby('occupation')['age'].agg(['min', 'max'])
age_stats_df = age_stats.reset_index()
print(age_stats_df.to_string(index=False))


# Problem 8. For each combination of occupation and gender, calculate the mean age.
# Arrange the results in a table so each row is an occupation, and you have a 
# column of the average male age and another column with the average female age.
# Sort the resulting table by Female mean age from least to greatest

mean_age_per_occupation = users.groupby(['occupation', 'gender'])['age'].mean().round(1)
table = mean_age_per_occupation.unstack()
sorted_table = pivot_table.sort_values(by='F')
print(sorted_pivot_table.to_string(index=True))



# Problem 9. For each occupation find the count of women and men
# Arrange the results in a table so each row is an occupation, similar to above
gender_counts_per_occupation = users.groupby(['occupation', 'gender']).size().unstack(fill_value=0)
print(gender_counts_per_occupation.to_string(index=True))


# Problem 10. Turn the counts above into proportions. e.g administrator 0.455696 0.544304
# Arrange results in increasing order of proportion men
gender_proportions_per_occupation = gender_counts_per_occupation.div(gender_counts_per_occupation.sum(axis=1), axis=0)
sorted_proportions = gender_proportions_per_occupation.sort_values(by='M')
print(sorted_proportions.to_string(index=True))


# Create a stacked barchart showing the results above
sorted_proportions.plot(kind='bar', stacked=True, figsize=(12, 8), color=['skyblue', 'salmon'])

plt.xlabel('Occupation')
plt.ylabel('Proportion')
plt.title('Proportion of Gender by Occupation')
plt.legend(title='Gender')
plt.xticks(rotation=45, ha='right')
plt.tight_layout()
plt.show()


# Extract the first digit of each zip code 
# and create a new column called 'region' that maps the
# first digit of the zip to new values using this dictionary:
d = {'0': 'New England',
'1': 'Mid-Atlantic',
'2': 'Central East Coast',
'3': 'The South',
'4': 'Midwest',
'5': 'Northern Great Plains',
'6': 'Central Great Plains',
'7': 'Southern Central',
'8': 'Mountain Desert',
'9': 'West Coast'} 

# print the first 5 rows of the result
# postal codes that begin with a letter are actually Canadian but are missing the last digit. These rows can be ignored.


users['region'] = users['zip_code'].astype(str).str[0].map(d)
users = users[users['region'].notna()]
print(users.head())


retired = users[users['occupation'] == 'retired']
mean_retired = retired.groupby('region')['age'].mean().round(1)
print(mean_retired)
