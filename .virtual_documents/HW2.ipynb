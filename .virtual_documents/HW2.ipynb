














import time


time.time()





def now():
    secs_all = int(time.time())
    epoch = secs_all // 86400
    current_seconds = secs_all % 86400
    hours = current_seconds // 3600
    minutes = (current_seconds % 3600) // 60
    seconds = current_seconds % 60
    print(f"Current time is: {hours:02d}:{minutes:02d}:{seconds:02d}. It has been {epoch} days since the epoch.")



now()








def ack(m,n):
    if m == 0:
        return n + 1
    elif m > 0 and n == 0:
        return ack(m - 1, 1)
    else:  
        return ack(m - 1, ack(m, n - 1))
        


# test case, should be 61
ack(3, 3)


# test case, should be 125
ack(3, 4)





def is_power(a, b):
    if a == 1:
        return True
    elif a < b or (b == 1 and a != 1):
        return False
    elif a % b == 0:
        return is_power(a // b, b)
    else:
        return False



is_power(1024, 2)


is_power(6561, 3)


is_power(4374, 3)


is_power(768, 2)





def gcd(a, b):
    while b != 0:
        a, b = b, a % b
    return a


gcd(21, 7)


gcd(42, 28)


gcd(105, 140)








import math
def mysqrt(a):
    x = a / 2
    while True:
        y = (x + a / x) / 2
        if y == x:
            break
        x = y
    return x

def test_square_root(start, end):
    print("a    mysqrt(a)    math.sqrt(a)    diff")
    print(f"{'-  '} {'-' * 13} {'-------------- '} {'-' * 4}")
    
    while start <= end:
        print(f"{start:<3.1f} {mysqrt(start):<14.12g} {math.sqrt(start):<14.12g} {abs(mysqrt(start) - math.sqrt(start)):<16.12g}")
        start += 1



# test code, do not modify:
test_square_root(1.0, 9.0)


test_square_root(30, 35)








fin = open("words-1.txt")
for line in fin:
    word = line.strip()
    if len(word) > 20:
        print(word)
fin.close()





def has_no_e(text):
    return 'e' not in text


has_no_e("hello")


has_no_e("quit")





fin = open("words-1.txt")
all_words = 0
no_e = 0

for line in fin:
    all_words += 1
    word = line.strip()
    if has_no_e(word):
        no_e += 1

proportion = no_e / all_words

print(f"Words without e is {no_e}")
print(f"The proportion is {proportion}")

fin.close()








def nested_sum(t):
    sum = 0
    for i in t:
        if type(i) is list:
            sum += nested_sum(i) 
        else:
            sum += i  
    return sum


t = [1, 2]
nested_sum(t)


t = [[1, 2], [3], [4, 5, 6]]
nested_sum(t)


x = [[1, 2, [3]], 4, 5, 6, [7], 8]
nested_sum(x)


t = [[[1, 2, [3]], [4, [5, 6, [7]], 8]]]
nested_sum(t)





def cumsum(t):
    result = []
    sum = 0
    for i in t:
        sum += i
        result.append(sum)
    return result


cumsum([1, 2, 3, 4])


cumsum(range(12))





def is_anagram(word1, word2):
    word1 = word1.replace(" ", "").lower()
    word2 = word2.replace(" ", "").lower()
    return sorted(word1) == sorted(word2)


is_anagram("hello", "o hell")


is_anagram("dormitory" , "dirty room")


is_anagram("dormitory" , "dirty rooms")


is_anagram("astronomers" , "moon starers")





def has_duplicates(t):
    sorted_list = sorted(t) 
    for i in range(len(sorted_list) - 1):
        if sorted_list[i] == sorted_list[i + 1]:
            return True  
    return False


has_duplicates(['a','b','c'])


has_duplicates(['a','b','b','c'])


has_duplicates(['a','b','c','a'])





# Use this function. No need to rewrite it.
def make_word_list():
    t = []
    fin = open('words-1.txt')
    for line in fin:
        word = line.strip()
        t.append(word)
    return t

t = make_word_list()


# define this function
def in_bisect(word_list, word):
    if len(word_list) == 0:
        return False
    else:
        middle = len(word_list) // 2
        if word_list[middle] == word:
            return True
        elif word < word_list[middle]:
            return in_bisect(word_list[:middle], word)
        else:
            return in_bisect(word_list[middle + 1:], word)



in_bisect(t, "hello")


in_bisect(t, "xyz")





word_list = make_word_list()

for word in word_list:
    if len(word) >= 6:
        reversed_word = word[::-1]
        if word != reversed_word and in_bisect(word_list, reversed_word):
            print(f"{word}, {reversed_word}")
