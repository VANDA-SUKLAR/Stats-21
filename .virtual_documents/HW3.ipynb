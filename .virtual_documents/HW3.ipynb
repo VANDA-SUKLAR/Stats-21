











def make_word_dict():
    t =  {}
    fin = open('words-1.txt')
    for line in fin:
        word = line.strip()
        t[word] = None 

    return t


word_dict = make_word_dict()


"hello" in word_dict





def has_duplicates(x):
    duplicates = {} 
    for i in x:
        if i in duplicates:
            return True 
        duplicates[i] = True  
    return False


has_duplicates(['a','b','b','c'])


has_duplicates(['a','b','c','a'])





def make_word_dict():
    t = {}
    fin = open('words-1.txt')
    for line in fin:
            word = line.strip()
            if len(word) >= 5:
                t[word] = None 
    return t

def rotate_word(word, n):
    rotated_word = ""
    for char in word:
        if 'a' <= char <= 'z':
            rotated_word += chr((ord(char) - ord('a') + n) % 26 + ord('a'))
        elif 'A' <= char <= 'Z':
            rotated_word += chr((ord(char) - ord('A') + n) % 26 + ord('A'))
        else:
            rotated_word += char
    return rotated_word

def find_pairs(word_dict):
    word_pairs = []
    for word in word_dict:
        for n in range(1, 26): 
            rotated = rotate_word(word, n)
            if rotated in word_dict:
                word_pairs.append((word, rotated, n))
    return word_pairs

word_dict = make_word_dict()
word_pairs = find_pairs(word_dict)

for word, rotated, n in word_pairs:
    print(f'{word}, {n}, {rotated}')






fin = open('words-1.txt')
for line in fin:
    word = line.strip()

def find_anagrams(word_list, size=6):
    anagrams = {}
    for word in word_list:
        sorted_word = tuple(sorted(word))
        if sorted_word in anagrams:
            anagrams[sorted_word].append(word)
        else:
            anagrams[sorted_word] = [word]

    for words in anagrams.values():
        if len(words) >= size:
            print(words)


find_anagrams(word_list)






import numpy as np
np.random.seed(1)





b = np.random.randint(0, 100, size=10)
print(b)





b_reversed = b[::-1]
print(b_reversed)





c = np.random.normal(100, 15, 1000)
c = np.round(c, 1)
print(c[:10])





from scipy import stats
shapiro_test = stats.shapiro(c)
print("p-value:", shapiro_test.pvalue)

print("Since the p value is more than 0.05, so the data likely comes from a normal distribution. ")





mean_c = np.mean(c)
std_c = np.std(c)
num = 3 * std_c

values = c[(c < mean_c - num) | (c > mean_c + num)]
proportion_extreme = len(values) / len(c)

print(values)
print(f"{proportion_extreme:.2f} of the values are beyond 3 sd from the mean.")






I3 = np.eye(3)
print(I3)





X = np.arange(1, 101).reshape(10, 10)
print(X)





Y = X.copy()
squares = np.array([i**2 for i in range(1, 11)])
Y[~np.isin(Y, squares)] = 0
print(Y)





diagonal_matrix = np.array([[1, 0], [0, 1]])
checkers = np.tile(diagonal_matrix, (4, 4))
print(checkers)





# do not modify
f_temp  = np.arange(70,100).reshape((5,6))

c_temp = np.round((f_temp - 32) * 5/9, 1)
print(c_temp)






# do not modify
np.random.seed(100)
x = np.random.randint(100,size = 30).reshape(10,3)


z = (x - x.mean(axis=0)) / x.std(axis=0)
print(z)


print(z.mean(axis=0))
print(z.std(axis=0))





# do not modify
np.random.seed(100)
x = np.random.randint(100,size = 30).reshape(10,3)


y = np.round((x - x.min(axis=0)) / (x.max(axis=0) - x.min(axis=0)) * 10, 2)
print(y)





# do not modify
np.random.seed(100)
x = np.random.randint(100,size = 12).reshape(4,3).astype('float')
row = np.array([1, 2, 3])
col = np.array([2, 1, 0])
x[row, col] = np.nan

x[np.isnan(x)] = 0
print(x)
