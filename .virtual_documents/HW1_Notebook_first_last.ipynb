

















# A
print("Hello World"





# corrected:
print("Hello World")


# B
print("Hello")
    print("Goodbye")


Answer: there should not be an indent for print("Goodbye")


# corrected:
print("Hello")
print("Goodbye")


# C
x = 10
if x > 8
    print("x is greater than 8")


Answer: we need to have : for an if statement in python


# corrected:
x = 10 
if x > 8:
    print("x is greater than 8")


# D
if x = 10:
    print("x is equal to 10")


Answer: comparison operator is == in python not =


# corrected:
if x == 10:
    print("x is equal to 10")


# E
x = 5
if x == 5:
print("x is five")


Answer: print funtion is within the if statement when the condition is met, therefore we need an indent to indicate that it is a part of the if statement


# corrected:
x = 5
if x == 5:
    print("x is five")


# F
l = [1, 2, 50, 10]
l = sort(l)


Answer: we use l.sort() to sort and modify the list 


# corrected:
l = [1, 2, 50, 10]
l.sort()
l








seconds = 42 * 60 + 42
seconds 





miles_in_10_kilometers = 10 / 1.61
miles_in_10_kilometers






mile_in_seconds = seconds / miles_in_10_kilometers

pace_minutes = int(mile_in_seconds // 60)
pace_seconds = int(mile_in_seconds % 60)
average_speed_mph = miles_in_10_kilometers / (seconds / 3600)

print ("average 1-mile pace: ", pace_minutes, "min", pace_seconds, "sec")
print ("average speed in miles per hour: ", average_speed_mph)









import math
def sphere_volume(r):
    return (4/3) * math.pi * r**3
volume_5 = sphere_volume(5)  
print ("volume of a sphere with radius 5 is ", volume_5)
volume_15 = sphere_volume(15)
print ("volume of a sphere with radius 15 is ", volume_15)






def wholesale_cost(books):
    book_price = 24.95
    discount = 0.40
    first_shipping = 3.00
    additional_shipping = 0.75
    discounted_price = book_price * (1 - discount)
    total_book_cost = discounted_price * books
    
    if books > 1:
        shipping_cost = first_shipping + (books - 1) * additional_shipping
    else:
        shipping_cost = first_shipping
    
    total_cost = total_book_cost + shipping_cost
    return total_cost 
   

cost_60_copies = wholesale_cost(60)
cost_10_copies = wholesale_cost(10)

print("Total wholesale cost for 60 copies is", cost_60_copies)
print("Total wholesale cost for 10 copies is", cost_10_copies)






def run_time(miles, warm_pace, fast_pace):
    if miles < 2:
        return "The minimum is 2 miles."

    total_seconds = 2 * warm_pace + (miles - 2) * fast_pace
    
    minutes = total_seconds // 60
    seconds = total_seconds % 60
    
    print(f"running time: {minutes}:{seconds:02d}")
    return (minutes, seconds)

run_time(miles = 5, warm_pace = 495, fast_pace = 432)






def run_time(miles, warm_pace, fast_pace):
    if miles < 2:
        return "The minimum is 2 miles."

    warm_minutes, warm_seconds = map(int, warm_pace.split(':'))
    fast_minutes, fast_seconds = map(int, fast_pace.split(':'))
    total_warm_seconds = warm_minutes * 60 + warm_seconds
    total_fast_seconds = fast_minutes * 60 + fast_seconds


    total_seconds = 2 * total_warm_seconds + (miles - 2) * total_fast_seconds
    
    minutes = total_seconds // 60
    seconds = total_seconds % 60
    
    print(f"running time: {minutes}:{seconds:02d}")
    return (minutes, seconds)

run_time(miles=5, warm_pace="8:15", fast_pace="7:12")





import math

def polar(real, imaginary):
    r = math.sqrt(real**2 + imaginary**2)
    theta = math.atan2(imaginary, real)
    return (r, theta)

first = polar(1, 1)
second = polar(-2, -3)
third = polar(4, 2)

first, second, third









# write your code here
def insert_into(listname, index, iterable):
    listname[index:index] = iterable
    print(l)



# do not modify. We will check this result for grading
l = [0,'a','b','c',4,5,6]
i = ['hello', 'there']
insert_into(l, 3, i)





# write your function here
def first_equals_last(listname):
    return len(listname) > 1 and listname[0] == listname[-1]


# do not modify. We will check this result for grading
a = [1,2,3]
first_equals_last(a)


# do not modify. We will check this result for grading
b = ['hello','goodbye','hello']
first_equals_last(b)


# do not modify. We will check this result for grading
c  = [1,2,3,'1']
first_equals_last(c)


# do not modify. We will check this result for grading
d = [[1,2],[3,2],[1,2]]
first_equals_last(d)
