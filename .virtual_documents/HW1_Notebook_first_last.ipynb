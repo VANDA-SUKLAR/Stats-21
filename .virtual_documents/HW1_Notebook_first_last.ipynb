

















# A
print("Hello World"





# corrected:
print("Hello World")


# B
print("Hello")
    print("Goodbye")


Answer: there should not be an indent for print("Goodbye")


# corrected:
print("Hello")
print("Goodbye")


# C
x = 10
if x > 8
    print("x is greater than 8")


Answer: we need to have : for a an if statement in python


# corrected:
x = 10 
if x > 8:
    print("x is greater than 8")


# D
if x = 10:
    print("x is equal to 10")


Answer: comparison operator is == in python not =


# corrected:
if x == 10:
    print("x is equal to 10")


# E
x = 5
if x == 5:
print("x is five")


Answer: print funtion is within the if statement when the condition is met, therefore we need an indent to indicate that it is a part of the if statement


# corrected:
x = 5
if x == 5:
    print("x is five")


# F
l = [1, 2, 50, 10]
l = sort(l)


Answer: we use l.sort() to sort and modify the list 


# corrected:
l = [1, 2, 50, 10]
l.sort()
l








42 * 60 + 42





10 / 1.61














import math
def sphere_volume(r):
    return (4/3) * math.pi * r**3
volume_5 = sphere_volume(5)  
print ("volume of a sphere with radius 5 is ", volume_5)
volume_15 = sphere_volume(15)
print ("volume of a sphere with radius 15 is ", volume_15)






def wholesale_cost(books):
    book_price = 24.95
    discount = 0.40
    first_shipping = 3.00
    additional_shipping = 0.75
    discounted_price = book_price * (1 - discount)
    total_book_cost = discounted_price * books
    
    if books > 1:
        shipping_cost = first_shipping + (books - 1) * additional_shipping
    else:
        shipping_cost = first_shipping
    
    total_cost = total_book_cost + shipping_cost
    return total_cost 
   

cost_60_copies = wholesale_cost(60)
cost_10_copies = wholesale_cost(10)

print("Total wholesale cost for 60 copies is", cost_60_copies)
print("Total wholesale cost for 10 copies is", cost_10_copies)






def run_time(miles, warm_pace, fast_pace):
    if miles < 2:
        return "The minimum is 2 miles."

    total_seconds = 2 * warm_pace + (miles - 2) * fast_pace
    
    minutes = total_seconds // 60
    seconds = total_seconds % 60
    
    print(f"running time: {minutes}:{seconds:02d}")
    return (minutes, seconds)

run_time(5, 495, 432)





















# write your code here




# do not modify. We will check this result for grading
l = [0,'a','b','c',4,5,6]
i = ['hello', 'there']
insert_into(l, 3, i)





# write your function here


# do not modify. We will check this result for grading
a = [1,2,3]
first_equals_last(a)


# do not modify. We will check this result for grading
b = ['hello','goodbye','hello']
first_equals_last(b)


# do not modify. We will check this result for grading
c  = [1,2,3,'1']
first_equals_last(c)


# do not modify. We will check this result for grading
d = [[1,2],[3,2],[1,2]]
first_equals_last(d)
