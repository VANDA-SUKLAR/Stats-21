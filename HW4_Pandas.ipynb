{
 "cells": [
  {
   "cell_type": "markdown",
   "metadata": {},
   "source": [
    "# HW4: Occupation Dataset"
   ]
  },
  {
   "cell_type": "markdown",
   "metadata": {},
   "source": [
    "### Introduction:\n",
    "\n",
    "Special thanks to: https://github.com/guipsamora for sharing his datasets, materials, and questions.\n",
    "\n",
    "- https://github.com/justmarkham for sharing the dataset and materials.\n"
   ]
  },
  {
   "cell_type": "code",
   "execution_count": null,
   "metadata": {},
   "outputs": [],
   "source": [
    "### Import the necessary libraries\n",
    "import pandas as pd\n",
    "import matplotlib.pyplot as plt"
   ]
  },
  {
   "cell_type": "code",
   "execution_count": null,
   "metadata": {},
   "outputs": [],
   "source": [
    "### Please note that the following data set is from the US in the 20th century.\n",
    "### Gender proportions for occupations and ages are thus reflective of that era.\n",
    "### Import the dataset from this address.\n",
    "### https://raw.githubusercontent.com/justmarkham/DAT8/master/data/u.user\n",
    "### Assign it to a variable called users and use the 'user_id' as index\n",
    "users = pd.read_csv('https://raw.githubusercontent.com/justmarkham/DAT8/master/data/u.user', \n",
    "                      sep='|', index_col='user_id')"
   ]
  },
  {
   "cell_type": "code",
   "execution_count": null,
   "metadata": {},
   "outputs": [],
   "source": [
    "# Problem 1. Print the data frame. By default,\n",
    "# Pandas prints the first few rows and the last few rows.\n",
    "# This exercise has already been done for you\n",
    "users"
   ]
  },
  {
   "cell_type": "code",
   "execution_count": null,
   "metadata": {},
   "outputs": [],
   "source": [
    "# Problem 2. How many observations and columns are in the data?\n",
    "# Run the necessary command that will output the answer.\n"
   ]
  },
  {
   "cell_type": "code",
   "execution_count": null,
   "metadata": {},
   "outputs": [],
   "source": [
    "# Problem 3. How many different occupations there are in this dataset?\n"
   ]
  },
  {
   "cell_type": "code",
   "execution_count": null,
   "metadata": {},
   "outputs": [],
   "source": [
    "# Problem 4. What is the most frequent occupation?\n"
   ]
  },
  {
   "cell_type": "code",
   "execution_count": null,
   "metadata": {},
   "outputs": [],
   "source": [
    "# Problem 5. Discover what is the mean age per occupation.\n",
    "# Sort the results and find the 3 occupations with the lowest mean age and the 3 with the highest\n"
   ]
  },
  {
   "cell_type": "code",
   "execution_count": null,
   "metadata": {},
   "outputs": [],
   "source": [
    "# Problem 6. Find the proportion of males by occupation and sort it from the most to the least\n"
   ]
  },
  {
   "cell_type": "code",
   "execution_count": null,
   "metadata": {},
   "outputs": [],
   "source": [
    "# Problem 7. For each occupation, calculate the minimum and maximum ages\n",
    "# See groupby and agg() to perform multiple aggregate functions at once\n"
   ]
  },
  {
   "cell_type": "code",
   "execution_count": null,
   "metadata": {},
   "outputs": [],
   "source": [
    "# Problem 8. For each combination of occupation and gender, calculate the mean age.\n",
    "# Arrange the results in a table so each row is an occupation, and you have a \n",
    "# column of the average male age and another column with the average female age.\n",
    "# Sort the resulting table by Female mean age from least to greatest\n"
   ]
  },
  {
   "cell_type": "code",
   "execution_count": null,
   "metadata": {},
   "outputs": [],
   "source": [
    "# Problem 9. For each occupation find the count of women and men\n",
    "# Arrange the results in a table so each row is an occupation, similar to above\n"
   ]
  },
  {
   "cell_type": "code",
   "execution_count": null,
   "metadata": {},
   "outputs": [],
   "source": [
    "# Problem 10. Turn the counts above into proportions. e.g administrator 0.455696 0.544304\n",
    "# Arrange results in increasing order of proportion men\n"
   ]
  },
  {
   "cell_type": "code",
   "execution_count": null,
   "metadata": {},
   "outputs": [],
   "source": [
    "# Create a stacked barchart showing the results above\n"
   ]
  },
  {
   "cell_type": "code",
   "execution_count": null,
   "metadata": {},
   "outputs": [],
   "source": [
    "# Extract the first digit of each zip code \n",
    "# and create a new column called 'region' that maps the\n",
    "# first digit of the zip to new values using this dictionary:\n",
    "d = {'0': 'New England',\n",
    "'1': 'Mid-Atlantic',\n",
    "'2': 'Central East Coast',\n",
    "'3': 'The South',\n",
    "'4': 'Midwest',\n",
    "'5': 'Northern Great Plains',\n",
    "'6': 'Central Great Plains',\n",
    "'7': 'Southern Central',\n",
    "'8': 'Mountain Desert',\n",
    "'9': 'West Coast'} \n",
    "\n",
    "# print the first 5 rows of the result\n",
    "# postal codes that begin with a letter are actually Canadian but are missing the last digit. These rows can be ignored."
   ]
  },
  {
   "cell_type": "code",
   "execution_count": null,
   "metadata": {},
   "outputs": [],
   "source": []
  },
  {
   "cell_type": "code",
   "execution_count": null,
   "metadata": {},
   "outputs": [],
   "source": [
    "# for the occuptation 'retired', find the mean age of each region\n"
   ]
  }
 ],
 "metadata": {
  "kernelspec": {
   "display_name": "Python 3 (ipykernel)",
   "language": "python",
   "name": "python3"
  },
  "language_info": {
   "codemirror_mode": {
    "name": "ipython",
    "version": 3
   },
   "file_extension": ".py",
   "mimetype": "text/x-python",
   "name": "python",
   "nbconvert_exporter": "python",
   "pygments_lexer": "ipython3",
   "version": "3.11.7"
  }
 },
 "nbformat": 4,
 "nbformat_minor": 4
}
